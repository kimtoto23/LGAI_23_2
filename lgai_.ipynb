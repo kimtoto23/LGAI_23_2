{
  "nbformat": 4,
  "nbformat_minor": 0,
  "metadata": {
    "colab": {
      "provenance": [],
      "toc_visible": true,
      "include_colab_link": true
    },
    "kernelspec": {
      "name": "python3",
      "display_name": "Python 3"
    },
    "language_info": {
      "name": "python"
    }
  },
  "cells": [
    {
      "cell_type": "markdown",
      "metadata": {
        "id": "view-in-github",
        "colab_type": "text"
      },
      "source": [
        "<a href=\"https://colab.research.google.com/github/kimtoto23/LGAI_23_2/blob/main/lgai_.ipynb\" target=\"_parent\"><img src=\"https://colab.research.google.com/assets/colab-badge.svg\" alt=\"Open In Colab\"/></a>"
      ]
    },
    {
      "cell_type": "markdown",
      "source": [
        "#1. Setting GPU & import Package\n"
      ],
      "metadata": {
        "id": "7QvSgI-tvNY4"
      }
    },
    {
      "cell_type": "code",
      "execution_count": null,
      "metadata": {
        "id": "Q46jsjDzh3_6"
      },
      "outputs": [],
      "source": [
        "!sudo apt-get install -y fonts-nanum\n",
        "!sudo fc-cache -fv\n",
        "!rm ~/.cache/matplotlib -rf\n",
        "\n",
        "# 그래프 한글 폰트 깨짐 해결용\n",
        "\n",
        "# 이거 한번 실행하고, 런타임 재시작 꼭!!!! 하고 아래에 폰트 지정 코드 실행"
      ]
    },
    {
      "cell_type": "code",
      "source": [
        "from google.colab import drive\n",
        "drive.mount('/content/drive')\n",
        "\n",
        "import os\n",
        "os.chdir('./data')\n",
        "\n",
        "import matplotlib.pyplot as plt\n",
        "plt.rc('font', family='NanumBarunGothic')\n",
        "plt.rcParams[\"figure.figsize\"] = (12,5) # 매번 figsize로 그래프 크기 지정하기 귀찮으니까 default 크기를 지정\n",
        "\n",
        "import seaborn as sns\n",
        "from datetime import timedelta, date\n",
        "import random\n",
        "import os\n",
        "import pandas as pd\n",
        "import numpy as np\n",
        "from tqdm.auto import tqdm\n",
        "from sklearn.preprocessing import LabelEncoder\n",
        "from prophet import Prophet\n",
        "from scipy import signal\n",
        "from scipy import stats\n",
        "\n",
        "import torch\n",
        "import torch.nn as nn\n",
        "import torch.optim as optim\n",
        "import torch.nn.functional as F\n",
        "from torch.utils.data import Dataset, DataLoader\n",
        "# from parallel import DataParallelModel, DataParallelCriterion\n",
        "import optuna\n",
        "import sklearn\n",
        "import sklearn.datasets\n",
        "import sklearn.ensemble\n",
        "import sklearn.model_selection\n",
        "import joblib\n",
        "from optuna.trial import TrialState"
      ],
      "metadata": {
        "id": "Z4JWuJUfiIJv"
      },
      "execution_count": null,
      "outputs": []
    },
    {
      "cell_type": "code",
      "execution_count": null,
      "metadata": {
        "scrolled": true,
        "id": "Yc6IOCyvK7Fv",
        "outputId": "b54e6d1a-bcf2-4070-ba94-cb97a615feda"
      },
      "outputs": [
        {
          "data": {
            "text/plain": [
              "True"
            ]
          },
          "execution_count": 3,
          "metadata": {},
          "output_type": "execute_result"
        }
      ],
      "source": [
        "torch.cuda.is_available()"
      ]
    },
    {
      "cell_type": "code",
      "execution_count": null,
      "metadata": {
        "id": "QET2ICbvK7Fw",
        "outputId": "451ffa99-f7be-4489-ea83-3673d7f1f1fb"
      },
      "outputs": [
        {
          "name": "stdout",
          "output_type": "stream",
          "text": [
            "2\n"
          ]
        }
      ],
      "source": [
        "print(torch.cuda.device_count())"
      ]
    },
    {
      "cell_type": "code",
      "source": [
        "device = torch.device('cuda') if torch.cuda.is_available() else torch.device('cpu')"
      ],
      "metadata": {
        "id": "gHOBj9V3Mir0"
      },
      "execution_count": null,
      "outputs": []
    },
    {
      "cell_type": "markdown",
      "source": [
        "# 2. 원래 raw train은 어떻게 생겼는가"
      ],
      "metadata": {
        "id": "guqeYJOA9m1n"
      }
    },
    {
      "cell_type": "code",
      "source": [
        "train = pd.read_csv('train.csv')\n",
        "train.groupby('대분류').sum().drop(columns = 'ID').transpose().plot()\n",
        "# 그래프를 확인해보면, 2023-02-05 이후에 굉장히 부자연스럽게 판매량이 뚝 감소하는 것을 확인"
      ],
      "metadata": {
        "id": "u48JiSN99m1o"
      },
      "execution_count": null,
      "outputs": []
    },
    {
      "cell_type": "code",
      "source": [
        "plt.scatter((train.loc[:,'2023-02-23':'2023-03-28'] != 0).sum(1).index, (train.loc[:,'2023-02-23':'2023-03-28'] != 0).sum(1).values, s = 10, alpha = 0.9)\n",
        "plt.title('2023-02-23 부터 2023-03-28 기간 사이에 판매량이 0이 아닌 점이 얼마나 있는지')\n",
        "plt.show()\n",
        "# 15890개 제품 중, '2023-02-23':'2023-03-28' 기간 동안 판매량이 0이 아닌, 실제 판매가 발생한 기간이 얼마인지 산점도로 표현\n",
        "# 실제로 1이상에 타점된 부분은 전체중 일부분에 불과한 것을 확인."
      ],
      "metadata": {
        "id": "sJZsEp-p9m1o"
      },
      "execution_count": null,
      "outputs": []
    },
    {
      "cell_type": "code",
      "source": [
        "((train.loc[:,'2023-02-23':'2023-03-28'] != 0).sum(1) == 0).sum() # 이건 해당 기간동안 판매가 단 하나도 안된 애들이 몇개인지 표현해준다.\n",
        "# 총 14722개 제품이 해당 기간동안 제품이 하나도 팔리지않음.\n",
        "# 이건 무언가 잘못된 정보라고 판단하여 해당 기간동안 값을 결측으로 판단, 보간을 실시한다."
      ],
      "metadata": {
        "id": "dNiWt2CJ9m1o"
      },
      "execution_count": null,
      "outputs": []
    },
    {
      "cell_type": "code",
      "source": [
        "zero = train.iloc[((train.loc[:,'2023-02-23':'2023-03-28'] != 0).sum(1) == 0).values,:] # 이건 전체 train 중에서 02/23~03/28 에 집계가 안된 것들\n",
        "not_zero = train.iloc[((train.loc[:,'2023-02-23':'2023-03-28'] != 0).sum(1) != 0).values,:] # 이건 전체 train 중에서 02/23~03/28 에 집계가 제대로 된 것들\n",
        "print(zero.shape, not_zero.shape, zero.shape[0] + not_zero.shape[0], '정확하게 나눠진 모습')\n",
        "# zero변수에는 결측이 있는 제품들, not_zero에는 결측이 없이 잘 집계가 된 제품을 모아둠.\n",
        "\n",
        "# 추후에 zero변수에 대해서만 보간을 실시하고 pd.concat()을 통해 행으로 합친 후, ID 기준으로 sort_values()할 계획"
      ],
      "metadata": {
        "id": "oZpF9pC69m1o"
      },
      "execution_count": null,
      "outputs": []
    },
    {
      "cell_type": "code",
      "source": [
        "zero.groupby('대분류').sum().drop(columns = 'ID').transpose().plot();\n",
        "plt.title('판매량이 0인 것들만 모아놓은 train')\n",
        "not_zero.groupby('대분류').sum().drop(columns = 'ID').transpose().plot();\n",
        "plt.title('판매량이 0이 아닌 것들만 모아놓은 train')\n",
        "\n",
        "# 그래프를 따로 그리니 더욱 확실하게 이상한 점이 보인다."
      ],
      "metadata": {
        "id": "itJczVpm9m1p"
      },
      "execution_count": null,
      "outputs": []
    },
    {
      "cell_type": "markdown",
      "source": [
        "## raw Data 에서 일자별 boxplot 을 그려보자"
      ],
      "metadata": {
        "id": "8czh79ufrifh"
      }
    },
    {
      "cell_type": "markdown",
      "source": [
        "- 이상한 점을 더욱 자세히 확인해보기 위해 raw train 에서 일자별 제품들의 boxplot 을 그려보자\n"
      ],
      "metadata": {
        "id": "auJrNk5PRe5w"
      }
    },
    {
      "cell_type": "code",
      "source": [
        "df = pd.read_csv('./train.csv')\n",
        "df.head()"
      ],
      "metadata": {
        "id": "IBcKlWCjrjsT"
      },
      "execution_count": null,
      "outputs": []
    },
    {
      "cell_type": "code",
      "source": [
        "## 컬럼들만 따로 빼오자\n",
        "columns_to_plot = df.columns[6:-1]\n",
        "columns_to_plot"
      ],
      "metadata": {
        "id": "bryrGUrDrjwo"
      },
      "execution_count": null,
      "outputs": []
    },
    {
      "cell_type": "code",
      "source": [
        "data_melted = pd.melt(df,  value_vars=columns_to_plot, var_name='column')\n",
        "data_melted\n",
        "# 그래프 그리기\n",
        "plt.figure(figsize=(120, 6))  # 그래프의 크기 설정\n",
        "sns.boxplot(x='column', y='value', data=data_melted)  # x에는 컬럼명, y에는 값을 지정합니다.\n",
        "plt.title(\"Boxplots of Columns\")  # 그래프 제목 설정\n",
        "plt.xticks(rotation=90)  # x 축 레이블 회전\n",
        "plt.show()  # 그래프 출력"
      ],
      "metadata": {
        "id": "DBRtx--mrj2r"
      },
      "execution_count": null,
      "outputs": []
    },
    {
      "cell_type": "markdown",
      "source": [
        "- 2023-02-23 ~ 2023-03-28 기간에 판매량이 현저히 적은 것을 확인할 수 있다,\n",
        "- 해당 구간을 포함한 일정 구간의 box plot 을 확인해보자"
      ],
      "metadata": {
        "id": "0p-cdEI9RoOO"
      }
    },
    {
      "cell_type": "code",
      "source": [
        "columns_to_plot = df.columns[-90:-1]\n",
        "columns_to_plot"
      ],
      "metadata": {
        "id": "TsuRZdcFrj9N"
      },
      "execution_count": null,
      "outputs": []
    },
    {
      "cell_type": "code",
      "source": [
        "data_melted = pd.melt(df,  value_vars=columns_to_plot, var_name='column')\n",
        "data_melted\n",
        "# 그래프 그리기\n",
        "plt.figure(figsize=(20, 6))  # 그래프의 크기 설정\n",
        "sns.boxplot(x='column', y='value', data=data_melted)  # x에는 컬럼명, y에는 값을 지정합니다.\n",
        "plt.title(\"Boxplots of Colnmns\")  # 그래프 제목 설정\n",
        "plt.xticks(rotation=90)  # x 축 레이블 회전\n",
        "plt.show()  # 그래프 출력"
      ],
      "metadata": {
        "id": "0EtZAGWYrkAX"
      },
      "execution_count": null,
      "outputs": []
    },
    {
      "cell_type": "markdown",
      "source": [
        "- 확실히 판매량이 이상치라고 할 수 있을만큼 현저히 감소하는 것을 볼 수 있다.\n",
        "- 추후 이 기간의 판매량을 대체할 수 있는 만한 보간법을 생각해야 할 것 같다."
      ],
      "metadata": {
        "id": "2pr8UMJpR6f0"
      }
    },
    {
      "cell_type": "markdown",
      "source": [
        "### EXTRA:  제품군 분류를 확인해보자"
      ],
      "metadata": {
        "id": "UcLuyCrXrkaa"
      }
    },
    {
      "cell_type": "markdown",
      "source": [
        "- 본격적인 분석에 앞서 대분류/중분류/소분류별 속한 그룹들을 확인해보자"
      ],
      "metadata": {
        "id": "brac8ymrR9fy"
      }
    },
    {
      "cell_type": "code",
      "source": [
        "train_data = pd.read_csv('./train.csv')"
      ],
      "metadata": {
        "id": "yylCOz20tqL-"
      },
      "execution_count": null,
      "outputs": []
    },
    {
      "cell_type": "code",
      "source": [
        "# 대,중,소 로 묶어서 개수를 확인해보자\n",
        "result = train_data.groupby(['대분류', '중분류', '소분류']).size()\n",
        "result"
      ],
      "metadata": {
        "id": "5e4VRC7Drkdj"
      },
      "execution_count": null,
      "outputs": []
    },
    {
      "cell_type": "code",
      "source": [
        "# 브랜드까지 추가해서 확인해보자\n",
        "pd.set_option('display.max_rows', None)\n",
        "result = train_data.groupby(['대분류', '중분류', '소분류', '브랜드']).size()\n",
        "# 출력 너무 많이 나와서 조금만 확인\n",
        "result.head(20)"
      ],
      "metadata": {
        "id": "RjrojKIMsQ5j"
      },
      "execution_count": null,
      "outputs": []
    },
    {
      "cell_type": "code",
      "source": [
        "## 위 분류를 기준으로 대략적으로 데이터 프레임의 구성을 확인해보자\n",
        "train_data_3 = train_data.groupby(['대분류', '중분류', '소분류','브랜드']).agg(lambda x: x)\n",
        "train_data_3.head(20)"
      ],
      "metadata": {
        "id": "B-MkVLezPFla"
      },
      "execution_count": null,
      "outputs": []
    },
    {
      "cell_type": "markdown",
      "source": [
        "- 특정 데이터들이 리스트로 구성되어 있다.\n",
        "- 해당 값이 여러개 입력되어 있는 것은 동일한 대,중,소,브랜드 가 존재해서 그런듯 하다.\n",
        "- 특정 분류값을 대상으로 이를 확인해보자."
      ],
      "metadata": {
        "id": "w3RqygMXSBod"
      }
    },
    {
      "cell_type": "code",
      "source": [
        "desired_value = ('B002-C001-0001', 'B002-C002-0001', 'B002-C003-0001', 'B002-00043')\n",
        "result = train_data[(train_data['대분류'] == desired_value[0]) & (train_data['중분류'] == desired_value[1]) & (train_data['소분류'] == desired_value[2])& (train_data['브랜드'] == desired_value[3])]\n",
        "result"
      ],
      "metadata": {
        "id": "BxfsAuK4sQ_X"
      },
      "execution_count": null,
      "outputs": []
    },
    {
      "cell_type": "markdown",
      "source": [
        "- 분류에도 중복된 값이 있는 것을 확인"
      ],
      "metadata": {
        "id": "JMgUku-RSFui"
      }
    },
    {
      "cell_type": "markdown",
      "source": [
        "* 판매량이 잘 집계된 not_zero는 그대로 가져가고, 집계가 안된 zero들에 대해서만 예측으로 보간을 실시"
      ],
      "metadata": {
        "id": "wSynF3ztijNt"
      }
    },
    {
      "cell_type": "markdown",
      "source": [
        "# 3. Prophet으로 보간하기\n",
        "* 후반부에 0인 것들만 골라서 보간 (14772개)\n",
        "* 0인 것들의 2023년 2월 22일 까지 데이터로 2월23일 ~ 3월 28일 제품 판매량을 보충 이후 3월 29일부터 4월 4일까지는 원래 값 그대로 사용."
      ],
      "metadata": {
        "id": "WOMrThhd-cXW"
      }
    },
    {
      "cell_type": "markdown",
      "source": [
        "## 0인 것 전체 평균"
      ],
      "metadata": {
        "id": "tWm_yPlV_FN6"
      }
    },
    {
      "cell_type": "markdown",
      "source": [
        "## prophet 사전준비"
      ],
      "metadata": {
        "id": "32GYn157A8an"
      }
    },
    {
      "cell_type": "code",
      "source": [
        "data = zero.loc[:,'2022-01-01':'2023-02-22'].mean() # 우리가 예측을 시작할 2023-02-23 직전까지 판매량은 전부 사용.\n",
        "# 우리는 기준을 평균으로 잡았다. 각 날짜의 평균 판매량을 알고, 그것으로 하이퍼 파라미터를 조정할 수 있다고 생각.\n",
        "series = data.reset_index()\n",
        "series.columns = ['ds','y']\n",
        "series.head(3)\n",
        "# 이런 형태는 Prophet 모델에서 요구하는 형태를 맞추기 위해서."
      ],
      "metadata": {
        "id": "6KZz3DN0AKgj"
      },
      "execution_count": null,
      "outputs": []
    },
    {
      "cell_type": "code",
      "source": [
        "series.plot();\n",
        "# 각 날짜의 평균판매량으로 그래프를 그려보았다."
      ],
      "metadata": {
        "id": "6N6XAamUBATq"
      },
      "execution_count": null,
      "outputs": []
    },
    {
      "cell_type": "markdown",
      "source": [
        "## prophet 적용"
      ],
      "metadata": {
        "id": "3NQKym_RA_xe"
      }
    },
    {
      "cell_type": "markdown",
      "source": [
        "### 월계절성 추가, 트렌드 유연성 증가, 분산 가변형(multiplicative) 확인, KR 휴일 추가"
      ],
      "metadata": {
        "id": "UtxXt1xrB0P5"
      }
    },
    {
      "cell_type": "markdown",
      "source": [
        "* 이는 이미 시행착오 끝에 지정한 하이퍼 파라미터입니다."
      ],
      "metadata": {
        "id": "Ut7CsqgwFs6k"
      }
    },
    {
      "cell_type": "code",
      "source": [
        "m = Prophet(\n",
        "    # trend\n",
        "    changepoint_prior_scale=0.5, # 경향을 더 유연하게 받아들임.\n",
        "    # seasonality\n",
        "    seasonality_prior_scale = 0.5, # 계절성도 더 유연하게 받아들임.\n",
        "    weekly_seasonality = 20,\n",
        "    daily_seasonality=False,\n",
        "    yearly_seasonality=False,\n",
        "    seasonality_mode='multiplicative' # 계절성의 크기를 가변형으로 잡고\n",
        ")\n",
        "m.add_seasonality(name='monthly', period=30.5, fourier_order=5) # monthly 계절성 추가\n",
        "m.add_country_holidays(country_name='KR') # 한국의 휴일 날짜를 자동으로 입력해줌\n",
        "m.fit(series)\n",
        "\n",
        "future = m.make_future_dataframe(periods = 34)\n",
        "forecast = m.predict(future)\n",
        "\n",
        "fig1 = m.plot(forecast)\n",
        "plt.title('Prophet으로 예측된 값(푸른선) + 실제 값(검은점)')\n",
        "fig2 = m.plot_components(forecast) # Seasonal Decomposition\n",
        "plt.show()\n",
        "# 약간씩 벗어나는 점도 있고, 굉장히 변동이 큰 경우에는 놓치는 점도 있지만, 대체로 잘 맞췄다고 생각해서 이 하이퍼 파라미터 조합으로 실시."
      ],
      "metadata": {
        "id": "MKh5hkJtBMSn"
      },
      "execution_count": null,
      "outputs": []
    },
    {
      "cell_type": "code",
      "source": [
        "forecast.loc[:,['ds','yhat']] # ds는 날짜, yhat은 모델이 예측해준 값"
      ],
      "metadata": {
        "id": "_izLqzJNB-cu"
      },
      "execution_count": null,
      "outputs": []
    },
    {
      "cell_type": "markdown",
      "source": [
        "- 주기가 7일 , 즉 일주일 마다 반복됨을 알 수 있습니다.\n",
        "- 이를 참고하여 Seasonal_decompose 로 대분류별로 주기 7에 대한 결과를 추가적으로 확인해봅니다."
      ],
      "metadata": {
        "id": "caezcvedS1pl"
      }
    },
    {
      "cell_type": "code",
      "source": [
        "df2 = pd.read_csv('./train.csv')"
      ],
      "metadata": {
        "id": "eQQSD1lHTh0l"
      },
      "execution_count": null,
      "outputs": []
    },
    {
      "cell_type": "code",
      "source": [
        "df_maincat = df.groupby(by = '대분류').mean().drop(columns = 'ID') #대분류별로 판매량의 평균을 구하고 ID는 더한 값이 있으면 안되니까 제거\n",
        "df_maincat.head()"
      ],
      "metadata": {
        "id": "AKnKvWouQm_m"
      },
      "execution_count": null,
      "outputs": []
    },
    {
      "cell_type": "code",
      "source": [
        "df_maincat_T = df_maincat.transpose()\n",
        "df_maincat_T.head()"
      ],
      "metadata": {
        "id": "rj8BQNMFQv6C"
      },
      "execution_count": null,
      "outputs": []
    },
    {
      "cell_type": "code",
      "source": [
        "df_maincat_T_1 = df_maincat_T.loc['2022-01-01':'2023-02-22']"
      ],
      "metadata": {
        "id": "smzhcSTuQv9a"
      },
      "execution_count": null,
      "outputs": []
    },
    {
      "cell_type": "code",
      "source": [
        "from statsmodels.tsa.seasonal import seasonal_decompose\n",
        "df_maincat_T_1.index = pd.to_datetime(df_maincat_T_1.index)"
      ],
      "metadata": {
        "id": "dvuzvWbdQwDc"
      },
      "execution_count": null,
      "outputs": []
    },
    {
      "cell_type": "code",
      "source": [
        "for i in df_maincat_T_1.columns:\n",
        "  ts = df_maincat_T_1[i]\n",
        "  period = 7 # 주별 주기확인\n",
        "  result = seasonal_decompose(ts, period=period)\n",
        "  plt.rcParams['figure.figsize'] = [20, 8]\n",
        "  result.plot()\n",
        "  plt.xlabel('Date')\n",
        "  plt.show()"
      ],
      "metadata": {
        "id": "Qg3ptb4mU8ZR"
      },
      "execution_count": null,
      "outputs": []
    },
    {
      "cell_type": "markdown",
      "source": [
        "- 추후 모델에 Window size 를 7 단위로 적용시키면 될것 같다."
      ],
      "metadata": {
        "id": "puZvOU5jU8c_"
      }
    },
    {
      "cell_type": "markdown",
      "source": [
        "### 모든 제품에 같은 파라미터를 적용해서 예측"
      ],
      "metadata": {
        "id": "IcEuSBNCC8ew"
      }
    },
    {
      "cell_type": "code",
      "source": [
        "zero.info() # train의 판매량은 int타입임. 모델로 예측한 값은 float 타입이니까 바로는 안들어간다."
      ],
      "metadata": {
        "id": "1paYC3NNIY5R"
      },
      "execution_count": null,
      "outputs": []
    },
    {
      "cell_type": "code",
      "source": [
        "ds = zero.loc[:,'2022-01-01':'2023-02-22'].columns"
      ],
      "metadata": {
        "id": "taL21aglDvn5"
      },
      "execution_count": null,
      "outputs": []
    },
    {
      "cell_type": "code",
      "source": [
        "i = 7 # 7번 제품에 대해서 해보기\n",
        "series = pd.DataFrame({\n",
        "    'ds':ds,\n",
        "    'y':zero.loc[i,'2022-01-01':'2023-02-22']\n",
        "})"
      ],
      "metadata": {
        "id": "BdmTlVWSDMDL"
      },
      "execution_count": null,
      "outputs": []
    },
    {
      "cell_type": "code",
      "source": [
        "series.head()"
      ],
      "metadata": {
        "id": "bKrleNHnEMNq"
      },
      "execution_count": null,
      "outputs": []
    },
    {
      "cell_type": "code",
      "source": [
        "m = Prophet(\n",
        "    # trend\n",
        "    changepoint_prior_scale=0.5, # 경향을 더 유연하게 받아들임.\n",
        "    # seasonality\n",
        "    seasonality_prior_scale = 0.5, # 계절성도 더 유연하게 받아들임.\n",
        "    weekly_seasonality = 20, # 주 계절성을 더 민감하게.\n",
        "    daily_seasonality=False,\n",
        "    yearly_seasonality=False,\n",
        "    seasonality_mode='multiplicative' # 계절성의 크기를 가변형으로 잡고\n",
        ")\n",
        "m.add_seasonality(name='monthly', period=30.5, fourier_order=5) # monthly 계절성 추가\n",
        "m.add_country_holidays(country_name='KR') # 한국의 휴일 날짜를 자동으로 입력해줌\n",
        "# 휴일이란, 해당 날짜의 변동에만 특별한 가중치를 부여하여 이후 진행될 fitting에 영향력을 극단적으로 줄이는 것.\n",
        "m.fit(series)\n",
        "\n",
        "future = m.make_future_dataframe(periods = 34)\n",
        "forecast = m.predict(future)\n",
        "\n",
        "fig1 = m.plot(forecast)\n",
        "plt.title('Prophet으로 예측된 값(푸른선) + 실제 값(검은점)')\n",
        "fig2 = m.plot_components(forecast)"
      ],
      "metadata": {
        "id": "g1tGIYxSGF-L"
      },
      "execution_count": null,
      "outputs": []
    },
    {
      "cell_type": "code",
      "source": [
        "m = Prophet(\n",
        "    # trend\n",
        "    changepoint_prior_scale=0.5, # 경향을 더 유연하게 받아들임.\n",
        "    # seasonality\n",
        "    seasonality_prior_scale = 0.5, # 계절성도 더 유연하게 받아들임.\n",
        "    weekly_seasonality = 20,\n",
        "    daily_seasonality=False,\n",
        "    yearly_seasonality=False,\n",
        "    seasonality_mode='multiplicative' # 계절성의 크기를 가변형으로 잡고\n",
        ")\n",
        "m.add_seasonality(name='monthly', period=30.5, fourier_order=5) # monthly 계절성 추가\n",
        "m.add_country_holidays(country_name='KR') # 한국의 휴일 날짜를 자동으로 입력해줌\n",
        "m.fit(series)\n",
        "\n",
        "future = m.make_future_dataframe(periods = 34)\n",
        "forecast = m.predict(future)\n",
        "\n",
        "fig1 = m.plot(forecast)\n",
        "plt.title('Prophet으로 예측된 값(푸른선) + 실제 값(검은점)')\n",
        "fig2 = m.plot_components(forecast)"
      ],
      "metadata": {
        "id": "eUttDJ4dDAOP"
      },
      "execution_count": null,
      "outputs": []
    },
    {
      "cell_type": "code",
      "source": [
        "yhat = forecast.loc[forecast['ds'] >= '2023-02-23','yhat'] # prophet으로 예측한 값중 우리가 필요한 날짜만큼 슬라이싱\n",
        "yhat = yhat.astype(int);yhat"
      ],
      "metadata": {
        "id": "KwZ1djL0ER4m"
      },
      "execution_count": null,
      "outputs": []
    },
    {
      "cell_type": "code",
      "source": [
        "# zero = train.iloc[((train.loc[:,'2023-02-23':'2023-03-28'] != 0).sum(1) == 0).values,:] # 이건 전체 train 중에서 02/23~03/28 에 집계가 안된 것들\n",
        "# not_zero = train.iloc[((train.loc[:,'2023-02-23':'2023-03-28'] != 0).sum(1) != 0).values,:] # 이건 전체 train 중에서 02/23~03/28 에 집계가 제대로 된 것들\n",
        "# print(zero.shape, not_zero.shape, zero.shape[0] + not_zero.shape[0], '정확하게 나눠진 모습')\n",
        "ds = zero.loc[:,'2022-01-01':'2023-02-22'].columns\n",
        "ds"
      ],
      "metadata": {
        "id": "PCLM5oCLLtKV"
      },
      "execution_count": null,
      "outputs": []
    },
    {
      "cell_type": "markdown",
      "source": [
        "### 반복문으로 14722개 제품에 대해서 각각 예측해보기"
      ],
      "metadata": {
        "id": "-I-xmsHYOWRh"
      }
    },
    {
      "cell_type": "code",
      "source": [
        "'''\n",
        "from tqdm.auto import tqdm\n",
        "\n",
        "save_yhat = [] # 각각 제품들의 yhat값을 저장할 빈 리스트 선언\n",
        "\n",
        "for i in tqdm(zero.index):\n",
        "  series = pd.DataFrame({\n",
        "    'ds':ds,\n",
        "    'y':zero.loc[i,'2022-01-01':'2023-02-22']\n",
        "  })\n",
        "  m = Prophet(\n",
        "    # trend\n",
        "    changepoint_prior_scale=0.5, # 경향을 더 유연하게 받아들임.\n",
        "    # seasonality\n",
        "    seasonality_prior_scale = 0.5,\n",
        "    weekly_seasonality = 20,\n",
        "    daily_seasonality=False, # 일계절성 없음\n",
        "    yearly_seasonality=False, # 연계절성 없음\n",
        "    seasonality_mode='multiplicative' # 계절성의 크기를 가변형으로 잡고\n",
        "  )\n",
        "  m.add_seasonality(name='monthly', period=30.5, fourier_order=5) # monthly 계절성 추가\n",
        "  m.add_country_holidays(country_name='KR') # 한국의 휴일 날짜를 자동으로 입력해줌. 혹시나 해서 넣어봤다.\n",
        "  m.fit(series)\n",
        "\n",
        "  # future = m.make_future_dataframe(periods = 34) # 이건 이전에 실행해두었다면 다시 할 필요없음.\n",
        "  # 매반복마다 future를 생성하면 오히려 더 늦어질 것.\n",
        "  forecast = m.predict(future)\n",
        "\n",
        "  save_yhat.append(forecast.loc[forecast['ds'] >= '2023-02-23','yhat'].values)\n",
        "  # 리스트의 각 인덱스마다 prophet모형이 418일간 데이터로 예측한 14772개 각 제품에 대한 미래 2023-02-23~2023-03-28까지 판매량을 저장\n",
        "  # 코렙 무료버전 기준 4시간 20분 가량 소요.\n",
        "  # 그래서 해당 코드로 만들어낸 CSV파일을 같이 첨부하겠습니다. 구동되는건 확인하였습니다.\n",
        "  '''"
      ],
      "metadata": {
        "id": "JxdFJrzJEZLu"
      },
      "execution_count": null,
      "outputs": []
    },
    {
      "cell_type": "code",
      "source": [
        "# pp = pd.DataFrame(save_yhat)"
      ],
      "metadata": {
        "id": "kdp6wfLBrsWJ"
      },
      "execution_count": null,
      "outputs": []
    },
    {
      "cell_type": "code",
      "source": [
        "# pp.to_csv('프로펫으로 예측한 결측치 + holiday.csv',encoding='utf-8-sig',index = False)\n",
        "# 기존에는 이 내용을 csv로 저장해뒀다가 나중에 불러와서 사용했습니다.\n",
        "# 반복문 돌리는데 시간이 너무 오래걸려서, 다시하면 시간낭비가 심하니 그걸 방지하기 위해서 CSV로 저장했습니다.\n",
        "\n",
        "# 단순히 반복문을 다시 돌리는 불상사를 예방하기 위해서 개인적으로 쓰려고 했던 CSV라서 prophet_holiday_replaced_train.csv를 만들고 삭제해서 지금은 가지고 있지 않으니 따로 CSV 파일은 첨부하지 않겠습니다."
      ],
      "metadata": {
        "id": "z6aaMW2Rn8ot"
      },
      "execution_count": null,
      "outputs": []
    },
    {
      "cell_type": "markdown",
      "source": [
        "### 구한 내용 적용한 CSV 만들기\n"
      ],
      "metadata": {
        "id": "RZSm7X7NizEj"
      }
    },
    {
      "cell_type": "markdown",
      "source": [
        "#####pp = pd.read_csv('프로펫으로 예측한 결측치 + holiday.csv')\n",
        "###### round(pp).astype(int) # 이건 반올림한 후에 int 타입으로 바꾼 것\n",
        "###### 처음엔 반올림을 적용해서 csv를 만들겠다.\n",
        "###### a = round(pp).astype(int).values\n",
        "###### no_0_val = np.where(a < 0, 0, a) # 이건 배열에서 0보다 작은 값은 전부 0으로 치환해주는 함수\n",
        "###### 음수라는 건 전부 0일 가능성이 그만큼 더 크다는 뜻이 아닐까? 라는 생각으로 모두 0으로 치환하였습니다."
      ],
      "metadata": {
        "id": "98pINSTOQcmt"
      }
    },
    {
      "cell_type": "markdown",
      "source": [
        "##### zero.loc[:,'2023-02-23':'2023-03-28'] = no_0_val\n",
        "##### zero.loc[:,'2023-02-23':'2023-03-28']\n",
        "##### zero라는 변수는 34일간 0인 결측을 가진 데이터 프레임입니다. 거기에 음수를 모두 0으로 치환한 값을 넣습니다.\n",
        "##### (zero.loc[:,'2023-02-23':'2023-03-28'] != no_0_val).sum().sum() # 0이면 zero 데이터프레임에 no_0_val이 잘 들어갔다는 의미\n",
        "---\n",
        "\n",
        "##### for_csv = pd.concat([zero,not_zero], axis = 0)\n",
        "##### zero(0이 있는 제품들을 prophet으로 예측한 값을 반올림해서 정수화한 걸 넣은 것) + not_zero(0이 없던 원래 그대로)\n",
        "##### for_csv = for_csv.sort_values('ID', ascending = True) # ID기준으로 오름차순 정렬"
      ],
      "metadata": {
        "id": "VQ-jaDMUQ5qp"
      }
    },
    {
      "cell_type": "markdown",
      "source": [
        "##### (for_csv.isnull().sum() != 0).sum()\n",
        "##### 데이터 프레임 전체에 결측치 없음.\n",
        "\n",
        "##### for_csv.groupby('대분류').mean().drop(columns = 'ID').transpose().plot();\n",
        "##### 그래프 모양을 보면 새롭게 예측한 값이 잘 들어간 것으로 보인다.\n",
        "##### plt.scatter((for_csv.select_dtypes('int') < 0).sum(1).index, (for_csv.select_dtypes('int') < 0).sum(1).values, s = 5)\n",
        "##### 새로 만든 데이터프레임에 0보다 작은 값이 있는지 확인. 하나도 없었다. 그럼 잘 된것."
      ],
      "metadata": {
        "id": "oIvBojgERO6S"
      }
    },
    {
      "cell_type": "code",
      "source": [
        "# for_csv.to_csv('prophet_holiday_replaced_train.csv',encoding='utf-8-sig',index = False) # csv 파일로 내보내기"
      ],
      "metadata": {
        "id": "QobLk1xfl6v0"
      },
      "execution_count": null,
      "outputs": []
    },
    {
      "cell_type": "markdown",
      "source": [
        "## prophet_holiday_replaced_train.csv\n",
        "* 위 제목과 같은 이름의 (2023-02-23 ~ 2023-03-28) 34일간 판매량이 연속으로 0이었던 결측으로 판단하여 Prophet 모형을 이용해 결측의 보간한 train.csv를 앞으로의 학습에 이용하였습니다.\n",
        "* 아래에 해당 csv 파일의 링크를 첨부하겠습니다. 링크가 있는 모든 사용자는 편집 가능하게 해두었습니다.\n",
        "\n",
        "https://drive.google.com/file/d/1H3lV12K0K75dqyh2Fc5M9cIW9c-xkPQ5/view?usp=sharing   \n",
        "!!! 코드와 같이 첨부된 csv 파일과 완전히 동일한 CSV 파일의 다운로드 링크입니다  필요하지 않다면 굳이 열지 않으셔도 됩니다. !!!"
      ],
      "metadata": {
        "id": "5fK1NXK3Jzy7"
      }
    },
    {
      "cell_type": "markdown",
      "source": [
        "# 4. 데이터 Smoothing - Savitzky-Golay filter 사용\n",
        "* smoothing을 하면 LSTM의 정확도가 올라간다는 내용의 논문에서 아이디어를 얻어서 스무딩을 진행"
      ],
      "metadata": {
        "id": "qQFjI_FHP0r_"
      }
    },
    {
      "cell_type": "markdown",
      "source": [
        "\n",
        "## prophet_hoilday_replaced_train.csv 파일 불러오기"
      ],
      "metadata": {
        "id": "3-labZLEQUl1"
      }
    },
    {
      "cell_type": "code",
      "source": [
        "train_data = pd.read_csv('./prophet_holiday_replaced_train.csv').drop(columns=['ID', '제품'])\n",
        "# 위의 해당 csv파일의 링크 첨부해두었음."
      ],
      "metadata": {
        "id": "cy77y3qqTl8_"
      },
      "execution_count": null,
      "outputs": []
    },
    {
      "cell_type": "code",
      "source": [
        "train_data"
      ],
      "metadata": {
        "id": "1XL3XmF_sGxy"
      },
      "execution_count": null,
      "outputs": []
    },
    {
      "cell_type": "code",
      "source": [
        "_train_data = train_data.iloc[:,4:] # Savitzky-Golay filter를 넣기 위해 대,중,소 분류 및 브랜드 col을 없앤 _train_data를 만든다.\n",
        "_train_col = _train_data.columns.tolist() # 그리고 날짜 col을 기록하기 위해 list에 담아둔다.\n",
        "_train_data"
      ],
      "metadata": {
        "id": "UOEWfha0QidD"
      },
      "execution_count": null,
      "outputs": []
    },
    {
      "cell_type": "code",
      "source": [
        "_train_data = signal.savgol_filter(_train_data, window_length = 7, polyorder = 3, mode=\"nearest\")\n",
        "#_train_data를 savgol_filter에 넣는다. 이때 파라미터는 주기가 7일로 전처리에서 확인하였으므로 window_length는 7일\n",
        "# polyorder 차수는 적당히 복잡하지 않은 3차수로 하고 mode=\"nearest\"를 사용하여 가장 가까운 데이터 포인트를 사용하여 스무딩을 진행."
      ],
      "metadata": {
        "id": "n1fpoap2rZ2d"
      },
      "execution_count": null,
      "outputs": []
    },
    {
      "cell_type": "code",
      "source": [
        "_train_data"
      ],
      "metadata": {
        "id": "B7EXVAUhrdFw"
      },
      "execution_count": null,
      "outputs": []
    },
    {
      "cell_type": "code",
      "source": [
        "_train_data = pd.DataFrame(_train_data, columns=_train_col)#Savitzky-Golay filter를 넣어 평활한 _train_data를 다시 DataFrame으로 만든다.\n",
        "_train_data"
      ],
      "metadata": {
        "id": "rGvBxJB2rhaj"
      },
      "execution_count": null,
      "outputs": []
    },
    {
      "cell_type": "code",
      "source": [
        "train_data = pd.concat([train_data.iloc[:,:4],_train_data], axis=1)#앞에 없앴던 대,중,소분류 및 브랜드 컬럼을 합친 train_data DataFrame으로 만든다.\n",
        "train_data"
      ],
      "metadata": {
        "id": "Tgtou3U9rkJA"
      },
      "execution_count": null,
      "outputs": []
    },
    {
      "cell_type": "markdown",
      "metadata": {
        "id": "nB1bzuSDWaOC"
      },
      "source": [
        "# ---------------------------------------------------------------------------------------------------------------------------------------------"
      ]
    },
    {
      "cell_type": "markdown",
      "source": [
        "#5. 데이터 불러오기"
      ],
      "metadata": {
        "id": "0C6MMdvFSU28"
      }
    },
    {
      "cell_type": "markdown",
      "source": [
        "## 프로펫 결측치(KR 휴일 포함) + savgol smoothing + 카테고리.csv\n",
        "* 위 제목과 같은 이름의 결측치를 보완한 train.csv를 Savitzky-Golay filter를 거쳐서 나온 train.csv를 앞으로의 학습에 이용하였습니다.\n",
        "* 아래에 해당 csv 파일의 링크를 첨부하겠습니다. 링크가 있는 모든 사용자는 편집 가능하게 해두었습니다.\n",
        "\n",
        "https://drive.google.com/file/d/1jl2ZVb0EMHAdN-744JuondDZiwmP5uIL/view?usp=sharing   \n",
        "!!! 코드와 같이 첨부된 csv 파일과 완전히 동일한 CSV 파일의 다운로드 링크입니다  필요하지 않다면 굳이 열지 않으셔도 됩니다. !!!\n"
      ],
      "metadata": {
        "id": "lc0j_wnQsquH"
      }
    },
    {
      "cell_type": "code",
      "source": [
        "train_data = pd.read_csv('./프로펫 결측치(KR 휴일 포함) + savgol smoothing + 카테고리.csv').drop(columns=['ID', '제품'])\n",
        "train_data"
      ],
      "metadata": {
        "id": "bD6tb6m-tWkE"
      },
      "execution_count": null,
      "outputs": []
    },
    {
      "cell_type": "markdown",
      "metadata": {
        "id": "Jm_ez7a6WmrA"
      },
      "source": [
        "#6. 데이터 전처리"
      ]
    },
    {
      "cell_type": "markdown",
      "metadata": {
        "id": "c72i7ZyPSq2w"
      },
      "source": [
        "## Hyperparameter Setting_default"
      ]
    },
    {
      "cell_type": "code",
      "execution_count": null,
      "metadata": {
        "id": "ZE1ElqCGSq2x"
      },
      "outputs": [],
      "source": [
        "CFG = {\n",
        "    'TRAIN_WINDOW_SIZE':91, # 91일치로 학습 LSTM에서 튜닝한 결과 91이 압도적으로 성능이 좋게 나옴\n",
        "    'PREDICT_SIZE':21, # 21일치 예측\n",
        "    'EPOCHS':10, # 전체 데이터셋을 몇 번 반복해서 훈련할지를 나타냅니다. 즉, 10번의 반복 학습이 이루어집니다.\n",
        "    'LEARNING_RATE':55e-6,\n",
        "    'BATCH_SIZE':4096,\n",
        "    'SEED':41\n",
        "}"
      ]
    },
    {
      "cell_type": "code",
      "execution_count": null,
      "metadata": {
        "id": "R6VExu4YSq2x"
      },
      "outputs": [],
      "source": [
        "def seed_everything(seed):\n",
        "    random.seed(seed)\n",
        "    os.environ['PYTHONHASHSEED'] = str(seed) # 파이썬 해시 함수를 사용할 때 사용되는 시드 값을 설정합니다. 이를 통해 해시 기반의 무작위성을 관리합니다.\n",
        "    np.random.seed(seed) # NumPy 라이브러리의 무작위 숫자 생성기에 시드를 설정\n",
        "    torch.manual_seed(seed) #PyTorch 라이브러리의 무작위 숫자 생성기에 시드를 설정합니다.\n",
        "    torch.cuda.manual_seed(seed) #GPU를 사용하는 경우, 해당 코드를 통해 CUDA 무작위 숫자 생성기에 시드를 설정합니다.\n",
        "    torch.backends.cudnn.deterministic = True\n",
        "    torch.backends.cudnn.benchmark = True\n",
        "\n",
        "seed_everything(CFG['SEED']) # Seed 고정"
      ]
    },
    {
      "cell_type": "markdown",
      "source": [
        "## Data Scaling 및 Labeling"
      ],
      "metadata": {
        "id": "kJ-bTvcprrMG"
      }
    },
    {
      "cell_type": "code",
      "execution_count": null,
      "metadata": {
        "id": "IK7JBccsK7Fy",
        "outputId": "5fde49de-fb9d-48b6-a91d-a3ddc34af347",
        "colab": {
          "referenced_widgets": [
            "b0a89c5930f64238b0a73fcb9a2fd19c"
          ]
        }
      },
      "outputs": [
        {
          "data": {
            "application/json": {
              "ascii": false,
              "bar_format": null,
              "colour": null,
              "elapsed": 0.02467489242553711,
              "initial": 0,
              "n": 0,
              "ncols": null,
              "nrows": 62,
              "postfix": null,
              "prefix": "",
              "rate": null,
              "total": 15890,
              "unit": "it",
              "unit_divisor": 1000,
              "unit_scale": false
            },
            "application/vnd.jupyter.widget-view+json": {
              "model_id": "b0a89c5930f64238b0a73fcb9a2fd19c",
              "version_major": 2,
              "version_minor": 0
            },
            "text/plain": [
              "  0%|          | 0/15890 [00:00<?, ?it/s]"
            ]
          },
          "metadata": {},
          "output_type": "display_data"
        }
      ],
      "source": [
        "# Data Scaling 0과 1사이의 값으로 변경\n",
        "scale_max_dict = {} # 이 딕셔너리들은 스케일링 된 데이터에서 원본 데이터로 되돌리기 위해 최대값과 최소값을 저장하는 역할을 합니다.\n",
        "scale_min_dict = {}\n",
        "\n",
        "for idx in tqdm(range(len(train_data))):\n",
        "    maxi = np.max(train_data.iloc[idx,4:]) # 각 행의 4번째 열부터 마지막 열까지의 데이터에서 최대값과 최소값을 계산합니다.\n",
        "    mini = np.min(train_data.iloc[idx,4:])\n",
        "\n",
        "    if maxi == mini : # 최대값과 최소값이 같을 경우, 해당 행의 4번째 열부터 마지막 열까지의 값을 모두 0으로 변환합니다.\n",
        "        train_data.iloc[idx,4:] = 0 # 이는 모든 값이 같은 경우 스케일링이 의미가 없기 때문입니다.\n",
        "    else:\n",
        "        train_data.iloc[idx,4:] = (train_data.iloc[idx,4:] - mini) / (maxi - mini) # 최대값과 최소값이 다른 경우\n",
        "    #, 해당 행의 4번째 열부터 마지막 열까지의 값을 (원래 값 - 최소값) / (최대값 - 최소값)으로 변환하여 0과 1 사이의 값으로 스케일링합니다.\n",
        "\n",
        "    scale_max_dict[idx] = maxi # 스케일링 된 데이터의 해당 행에 대한 최대값과 최소값을 딕셔너리에 저장합니다.\n",
        "    scale_min_dict[idx] = mini # 이렇게 하면 스케일링 된 데이터를 다시 원래의 범위로 되돌릴 수 있습니다."
      ]
    },
    {
      "cell_type": "code",
      "execution_count": null,
      "metadata": {
        "scrolled": true,
        "id": "43KXQf30K7Fz",
        "outputId": "86e6475f-a1c7-4c71-83c5-80020f497aa7"
      },
      "outputs": [
        {
          "data": {
            "text/html": [
              "<div>\n",
              "<style scoped>\n",
              "    .dataframe tbody tr th:only-of-type {\n",
              "        vertical-align: middle;\n",
              "    }\n",
              "\n",
              "    .dataframe tbody tr th {\n",
              "        vertical-align: top;\n",
              "    }\n",
              "\n",
              "    .dataframe thead th {\n",
              "        text-align: right;\n",
              "    }\n",
              "</style>\n",
              "<table border=\"1\" class=\"dataframe\">\n",
              "  <thead>\n",
              "    <tr style=\"text-align: right;\">\n",
              "      <th></th>\n",
              "      <th>대분류</th>\n",
              "      <th>중분류</th>\n",
              "      <th>소분류</th>\n",
              "      <th>브랜드</th>\n",
              "      <th>2022-01-01</th>\n",
              "      <th>2022-01-02</th>\n",
              "      <th>2022-01-03</th>\n",
              "      <th>2022-01-04</th>\n",
              "      <th>2022-01-05</th>\n",
              "      <th>2022-01-06</th>\n",
              "      <th>...</th>\n",
              "      <th>2023-03-26</th>\n",
              "      <th>2023-03-27</th>\n",
              "      <th>2023-03-28</th>\n",
              "      <th>2023-03-29</th>\n",
              "      <th>2023-03-30</th>\n",
              "      <th>2023-03-31</th>\n",
              "      <th>2023-04-01</th>\n",
              "      <th>2023-04-02</th>\n",
              "      <th>2023-04-03</th>\n",
              "      <th>2023-04-04</th>\n",
              "    </tr>\n",
              "  </thead>\n",
              "  <tbody>\n",
              "    <tr>\n",
              "      <th>0</th>\n",
              "      <td>B002-C001-0002</td>\n",
              "      <td>B002-C002-0007</td>\n",
              "      <td>B002-C003-0038</td>\n",
              "      <td>B002-00001</td>\n",
              "      <td>0.111111</td>\n",
              "      <td>0.111111</td>\n",
              "      <td>0.111111</td>\n",
              "      <td>0.111111</td>\n",
              "      <td>0.111111</td>\n",
              "      <td>0.111111</td>\n",
              "      <td>...</td>\n",
              "      <td>0.476852</td>\n",
              "      <td>0.416667</td>\n",
              "      <td>0.402778</td>\n",
              "      <td>0.254630</td>\n",
              "      <td>0.152778</td>\n",
              "      <td>0.064815</td>\n",
              "      <td>0.111111</td>\n",
              "      <td>0.111111</td>\n",
              "      <td>0.111111</td>\n",
              "      <td>0.111111</td>\n",
              "    </tr>\n",
              "    <tr>\n",
              "      <th>1</th>\n",
              "      <td>B002-C001-0003</td>\n",
              "      <td>B002-C002-0008</td>\n",
              "      <td>B002-C003-0044</td>\n",
              "      <td>B002-00002</td>\n",
              "      <td>0.047619</td>\n",
              "      <td>0.047619</td>\n",
              "      <td>0.047619</td>\n",
              "      <td>0.047619</td>\n",
              "      <td>0.047619</td>\n",
              "      <td>0.047619</td>\n",
              "      <td>...</td>\n",
              "      <td>0.255952</td>\n",
              "      <td>0.190476</td>\n",
              "      <td>0.202381</td>\n",
              "      <td>0.261905</td>\n",
              "      <td>0.285714</td>\n",
              "      <td>0.220238</td>\n",
              "      <td>0.196429</td>\n",
              "      <td>0.119048</td>\n",
              "      <td>0.107143</td>\n",
              "      <td>0.119048</td>\n",
              "    </tr>\n",
              "    <tr>\n",
              "      <th>2</th>\n",
              "      <td>B002-C001-0003</td>\n",
              "      <td>B002-C002-0008</td>\n",
              "      <td>B002-C003-0044</td>\n",
              "      <td>B002-00002</td>\n",
              "      <td>0.038186</td>\n",
              "      <td>0.038186</td>\n",
              "      <td>0.038186</td>\n",
              "      <td>0.038186</td>\n",
              "      <td>0.038186</td>\n",
              "      <td>0.038186</td>\n",
              "      <td>...</td>\n",
              "      <td>0.038186</td>\n",
              "      <td>0.038186</td>\n",
              "      <td>0.038186</td>\n",
              "      <td>0.038186</td>\n",
              "      <td>0.038186</td>\n",
              "      <td>0.038186</td>\n",
              "      <td>0.038186</td>\n",
              "      <td>0.038186</td>\n",
              "      <td>0.038186</td>\n",
              "      <td>0.038186</td>\n",
              "    </tr>\n",
              "    <tr>\n",
              "      <th>3</th>\n",
              "      <td>B002-C001-0003</td>\n",
              "      <td>B002-C002-0008</td>\n",
              "      <td>B002-C003-0044</td>\n",
              "      <td>B002-00002</td>\n",
              "      <td>0.022923</td>\n",
              "      <td>0.022923</td>\n",
              "      <td>0.022923</td>\n",
              "      <td>0.022923</td>\n",
              "      <td>0.022923</td>\n",
              "      <td>0.022923</td>\n",
              "      <td>...</td>\n",
              "      <td>0.022923</td>\n",
              "      <td>0.022923</td>\n",
              "      <td>0.022923</td>\n",
              "      <td>0.022923</td>\n",
              "      <td>0.022923</td>\n",
              "      <td>0.022923</td>\n",
              "      <td>0.022923</td>\n",
              "      <td>0.022923</td>\n",
              "      <td>0.022923</td>\n",
              "      <td>0.022923</td>\n",
              "    </tr>\n",
              "    <tr>\n",
              "      <th>4</th>\n",
              "      <td>B002-C001-0001</td>\n",
              "      <td>B002-C002-0001</td>\n",
              "      <td>B002-C003-0003</td>\n",
              "      <td>B002-00003</td>\n",
              "      <td>0.073876</td>\n",
              "      <td>0.073876</td>\n",
              "      <td>0.073876</td>\n",
              "      <td>0.073876</td>\n",
              "      <td>0.073876</td>\n",
              "      <td>0.073876</td>\n",
              "      <td>...</td>\n",
              "      <td>0.073876</td>\n",
              "      <td>0.073876</td>\n",
              "      <td>0.073876</td>\n",
              "      <td>0.073876</td>\n",
              "      <td>0.073876</td>\n",
              "      <td>0.073876</td>\n",
              "      <td>0.073876</td>\n",
              "      <td>0.073876</td>\n",
              "      <td>0.073876</td>\n",
              "      <td>0.073876</td>\n",
              "    </tr>\n",
              "    <tr>\n",
              "      <th>...</th>\n",
              "      <td>...</td>\n",
              "      <td>...</td>\n",
              "      <td>...</td>\n",
              "      <td>...</td>\n",
              "      <td>...</td>\n",
              "      <td>...</td>\n",
              "      <td>...</td>\n",
              "      <td>...</td>\n",
              "      <td>...</td>\n",
              "      <td>...</td>\n",
              "      <td>...</td>\n",
              "      <td>...</td>\n",
              "      <td>...</td>\n",
              "      <td>...</td>\n",
              "      <td>...</td>\n",
              "      <td>...</td>\n",
              "      <td>...</td>\n",
              "      <td>...</td>\n",
              "      <td>...</td>\n",
              "      <td>...</td>\n",
              "      <td>...</td>\n",
              "    </tr>\n",
              "    <tr>\n",
              "      <th>15885</th>\n",
              "      <td>B002-C001-0003</td>\n",
              "      <td>B002-C002-0008</td>\n",
              "      <td>B002-C003-0042</td>\n",
              "      <td>B002-03799</td>\n",
              "      <td>0.091150</td>\n",
              "      <td>0.091150</td>\n",
              "      <td>0.091150</td>\n",
              "      <td>0.091150</td>\n",
              "      <td>0.091150</td>\n",
              "      <td>0.091150</td>\n",
              "      <td>...</td>\n",
              "      <td>0.238648</td>\n",
              "      <td>0.183626</td>\n",
              "      <td>0.123301</td>\n",
              "      <td>0.081869</td>\n",
              "      <td>0.084521</td>\n",
              "      <td>0.091150</td>\n",
              "      <td>0.091150</td>\n",
              "      <td>0.091150</td>\n",
              "      <td>0.091150</td>\n",
              "      <td>0.091150</td>\n",
              "    </tr>\n",
              "    <tr>\n",
              "      <th>15886</th>\n",
              "      <td>B002-C001-0003</td>\n",
              "      <td>B002-C002-0008</td>\n",
              "      <td>B002-C003-0044</td>\n",
              "      <td>B002-03799</td>\n",
              "      <td>0.002704</td>\n",
              "      <td>0.002704</td>\n",
              "      <td>0.002704</td>\n",
              "      <td>0.002704</td>\n",
              "      <td>0.002704</td>\n",
              "      <td>0.002704</td>\n",
              "      <td>...</td>\n",
              "      <td>0.391167</td>\n",
              "      <td>0.302839</td>\n",
              "      <td>0.163587</td>\n",
              "      <td>0.073006</td>\n",
              "      <td>0.024335</td>\n",
              "      <td>0.004507</td>\n",
              "      <td>0.019378</td>\n",
              "      <td>0.023434</td>\n",
              "      <td>0.021631</td>\n",
              "      <td>0.022082</td>\n",
              "    </tr>\n",
              "    <tr>\n",
              "      <th>15887</th>\n",
              "      <td>B002-C001-0003</td>\n",
              "      <td>B002-C002-0008</td>\n",
              "      <td>B002-C003-0044</td>\n",
              "      <td>B002-03799</td>\n",
              "      <td>0.011091</td>\n",
              "      <td>0.011091</td>\n",
              "      <td>0.011091</td>\n",
              "      <td>0.011091</td>\n",
              "      <td>0.011091</td>\n",
              "      <td>0.011091</td>\n",
              "      <td>...</td>\n",
              "      <td>0.011091</td>\n",
              "      <td>0.011091</td>\n",
              "      <td>0.011091</td>\n",
              "      <td>0.011091</td>\n",
              "      <td>0.011091</td>\n",
              "      <td>0.011091</td>\n",
              "      <td>0.011091</td>\n",
              "      <td>0.011091</td>\n",
              "      <td>0.011091</td>\n",
              "      <td>0.011091</td>\n",
              "    </tr>\n",
              "    <tr>\n",
              "      <th>15888</th>\n",
              "      <td>B002-C001-0003</td>\n",
              "      <td>B002-C002-0008</td>\n",
              "      <td>B002-C003-0044</td>\n",
              "      <td>B002-03799</td>\n",
              "      <td>0.021898</td>\n",
              "      <td>0.021898</td>\n",
              "      <td>0.021898</td>\n",
              "      <td>0.021898</td>\n",
              "      <td>0.021898</td>\n",
              "      <td>0.021898</td>\n",
              "      <td>...</td>\n",
              "      <td>0.105839</td>\n",
              "      <td>0.094891</td>\n",
              "      <td>0.072993</td>\n",
              "      <td>0.047445</td>\n",
              "      <td>0.025547</td>\n",
              "      <td>0.014599</td>\n",
              "      <td>0.007299</td>\n",
              "      <td>0.029197</td>\n",
              "      <td>0.072993</td>\n",
              "      <td>0.124088</td>\n",
              "    </tr>\n",
              "    <tr>\n",
              "      <th>15889</th>\n",
              "      <td>B002-C001-0002</td>\n",
              "      <td>B002-C002-0004</td>\n",
              "      <td>B002-C003-0020</td>\n",
              "      <td>B002-03799</td>\n",
              "      <td>0.222222</td>\n",
              "      <td>0.222222</td>\n",
              "      <td>0.222222</td>\n",
              "      <td>0.222222</td>\n",
              "      <td>0.222222</td>\n",
              "      <td>0.222222</td>\n",
              "      <td>...</td>\n",
              "      <td>0.222222</td>\n",
              "      <td>0.222222</td>\n",
              "      <td>0.222222</td>\n",
              "      <td>0.222222</td>\n",
              "      <td>0.222222</td>\n",
              "      <td>0.222222</td>\n",
              "      <td>0.222222</td>\n",
              "      <td>0.222222</td>\n",
              "      <td>0.222222</td>\n",
              "      <td>0.222222</td>\n",
              "    </tr>\n",
              "  </tbody>\n",
              "</table>\n",
              "<p>15890 rows × 463 columns</p>\n",
              "</div>"
            ],
            "text/plain": [
              "                  대분류             중분류             소분류         브랜드  2022-01-01  \\\n",
              "0      B002-C001-0002  B002-C002-0007  B002-C003-0038  B002-00001    0.111111   \n",
              "1      B002-C001-0003  B002-C002-0008  B002-C003-0044  B002-00002    0.047619   \n",
              "2      B002-C001-0003  B002-C002-0008  B002-C003-0044  B002-00002    0.038186   \n",
              "3      B002-C001-0003  B002-C002-0008  B002-C003-0044  B002-00002    0.022923   \n",
              "4      B002-C001-0001  B002-C002-0001  B002-C003-0003  B002-00003    0.073876   \n",
              "...               ...             ...             ...         ...         ...   \n",
              "15885  B002-C001-0003  B002-C002-0008  B002-C003-0042  B002-03799    0.091150   \n",
              "15886  B002-C001-0003  B002-C002-0008  B002-C003-0044  B002-03799    0.002704   \n",
              "15887  B002-C001-0003  B002-C002-0008  B002-C003-0044  B002-03799    0.011091   \n",
              "15888  B002-C001-0003  B002-C002-0008  B002-C003-0044  B002-03799    0.021898   \n",
              "15889  B002-C001-0002  B002-C002-0004  B002-C003-0020  B002-03799    0.222222   \n",
              "\n",
              "       2022-01-02  2022-01-03  2022-01-04  2022-01-05  2022-01-06  ...  \\\n",
              "0        0.111111    0.111111    0.111111    0.111111    0.111111  ...   \n",
              "1        0.047619    0.047619    0.047619    0.047619    0.047619  ...   \n",
              "2        0.038186    0.038186    0.038186    0.038186    0.038186  ...   \n",
              "3        0.022923    0.022923    0.022923    0.022923    0.022923  ...   \n",
              "4        0.073876    0.073876    0.073876    0.073876    0.073876  ...   \n",
              "...           ...         ...         ...         ...         ...  ...   \n",
              "15885    0.091150    0.091150    0.091150    0.091150    0.091150  ...   \n",
              "15886    0.002704    0.002704    0.002704    0.002704    0.002704  ...   \n",
              "15887    0.011091    0.011091    0.011091    0.011091    0.011091  ...   \n",
              "15888    0.021898    0.021898    0.021898    0.021898    0.021898  ...   \n",
              "15889    0.222222    0.222222    0.222222    0.222222    0.222222  ...   \n",
              "\n",
              "       2023-03-26  2023-03-27  2023-03-28  2023-03-29  2023-03-30  2023-03-31  \\\n",
              "0        0.476852    0.416667    0.402778    0.254630    0.152778    0.064815   \n",
              "1        0.255952    0.190476    0.202381    0.261905    0.285714    0.220238   \n",
              "2        0.038186    0.038186    0.038186    0.038186    0.038186    0.038186   \n",
              "3        0.022923    0.022923    0.022923    0.022923    0.022923    0.022923   \n",
              "4        0.073876    0.073876    0.073876    0.073876    0.073876    0.073876   \n",
              "...           ...         ...         ...         ...         ...         ...   \n",
              "15885    0.238648    0.183626    0.123301    0.081869    0.084521    0.091150   \n",
              "15886    0.391167    0.302839    0.163587    0.073006    0.024335    0.004507   \n",
              "15887    0.011091    0.011091    0.011091    0.011091    0.011091    0.011091   \n",
              "15888    0.105839    0.094891    0.072993    0.047445    0.025547    0.014599   \n",
              "15889    0.222222    0.222222    0.222222    0.222222    0.222222    0.222222   \n",
              "\n",
              "       2023-04-01  2023-04-02  2023-04-03  2023-04-04  \n",
              "0        0.111111    0.111111    0.111111    0.111111  \n",
              "1        0.196429    0.119048    0.107143    0.119048  \n",
              "2        0.038186    0.038186    0.038186    0.038186  \n",
              "3        0.022923    0.022923    0.022923    0.022923  \n",
              "4        0.073876    0.073876    0.073876    0.073876  \n",
              "...           ...         ...         ...         ...  \n",
              "15885    0.091150    0.091150    0.091150    0.091150  \n",
              "15886    0.019378    0.023434    0.021631    0.022082  \n",
              "15887    0.011091    0.011091    0.011091    0.011091  \n",
              "15888    0.007299    0.029197    0.072993    0.124088  \n",
              "15889    0.222222    0.222222    0.222222    0.222222  \n",
              "\n",
              "[15890 rows x 463 columns]"
            ]
          },
          "execution_count": 11,
          "metadata": {},
          "output_type": "execute_result"
        }
      ],
      "source": [
        "train_data"
      ]
    },
    {
      "cell_type": "code",
      "execution_count": null,
      "metadata": {
        "id": "LjLFf7SqiSiN"
      },
      "outputs": [],
      "source": [
        "# Label Encoding\n",
        "label_encoder = LabelEncoder() # 먼저 LabelEncoder 객체를 생성합니다. 이 객체는 카테고리형 데이터를 숫자로 인코딩하는데 사용됩니다.\n",
        "categorical_columns = ['대분류', '중분류', '소분류', '브랜드']\n",
        "\n",
        "for col in categorical_columns: # categorical_columns 리스트에 있는 각 카테고리형 변수들을 순회하면서 라벨 인코딩을 수행합니다.\n",
        "    label_encoder.fit(train_data[col]) #변수에 나타나는 고유한 카테고리들을 파악하여 각 카테고리에 대해 고유한 숫자를 매핑할 수 있도록 준비(학습)합니다.\n",
        "    train_data[col] = label_encoder.transform(train_data[col]) # 학습된 LabelEncoder 객체를 사용하여 해당 카테고리형 변수의 값들을 숫자로 변환합니다.\n",
        "    #각 카테고리별로 고유한 숫자로 매핑하여 데이터를 변환합니다."
      ]
    },
    {
      "cell_type": "markdown",
      "source": [
        "## Dataset 생성 및 Data split\n"
      ],
      "metadata": {
        "id": "ioXltbLvUnON"
      }
    },
    {
      "cell_type": "code",
      "execution_count": null,
      "metadata": {
        "id": "RxCVOz1AinKf"
      },
      "outputs": [],
      "source": [
        "# 해당 함수는 일별 판매량 데이터를 입력으로 받아서 학습 기간 블럭과 예측 기간 블럭의 세트로 데이터를 생성하는 기능을 수행합니다.\n",
        "def make_train_data(data, train_size=CFG['TRAIN_WINDOW_SIZE'], predict_size=CFG['PREDICT_SIZE']):\n",
        "    '''\n",
        "    학습 기간 블럭, 예측 기간 블럭의 세트로 데이터를 생성\n",
        "    data : 일별 판매량\n",
        "    train_size : 학습에 활용할 기간 = 90일\n",
        "    predict_size : 추론할 기간 = 21\n",
        "    '''\n",
        "    num_rows = len(data) # 데이터프레임의 행(row) 개수를 num_rows에 저장합니다.\n",
        "    window_size = train_size + predict_size # 학습 기간 블럭과 예측 기간 블럭의 크기를 합친 값을 window_size에 저장합니다.\n",
        "\n",
        "    # 학습용 입력 데이터를 저장할 input_data 배열과 예측 결과를 저장할 target_data 배열을 빈 배열로 초기화합니다.\n",
        "    input_data = np.empty((num_rows * (len(data.columns) - window_size + 1), train_size, len(data.iloc[0, :4]) + 1))\n",
        "    target_data = np.empty((num_rows * (len(data.columns) - window_size + 1), predict_size))\n",
        "\n",
        "    for i in tqdm(range(num_rows)):\n",
        "        encode_info = np.array(data.iloc[i, :4]) # 각 행의 '대분류', '중분류', '소분류', '브랜드'에 해당하는 값을 encode_info로 추출합니다.\n",
        "        sales_data = np.array(data.iloc[i, 4:]) # 각 행의 판매량 데이터를 sales_data로 추출합니다.\n",
        "\n",
        "        for j in range(len(sales_data) - window_size + 1): # 각 행의 판매량 데이터를 순회하면서 학습용 입력 데이터(input_data)와 예측 결과(target_data)를 생성합니다.\n",
        "            window = sales_data[j : j + window_size]\n",
        "            temp_data = np.column_stack((np.tile(encode_info, (train_size, 1)), window[:train_size]))\n",
        "            # 학습 기간 블럭 크기만큼의 판매량 데이터를 담는 temp_data를 생성합니다.\n",
        "            # 이때, 해당 행의 제품 정보인 encode_info를 반복하여 모든 데이터에 추가하고, 학습 기간 블럭 크기만큼의 판매량 데이터를 temp_data와 함께 열 방향으로 결합합니다.\n",
        "            input_data[i * (len(data.columns) - window_size + 1) + j] = temp_data\n",
        "            target_data[i * (len(data.columns) - window_size + 1) + j] = window[train_size:]\n",
        "\n",
        "    return input_data, target_data"
      ]
    },
    {
      "cell_type": "code",
      "execution_count": null,
      "metadata": {
        "id": "37w-q0ywiqLC"
      },
      "outputs": [],
      "source": [
        "# 해당 함수는 일별 판매량 데이터를 입력으로 받아서 추론에 사용할 입력 데이터를 생성하는 기능을 수행합니다.\n",
        "def make_predict_data(data, train_size=CFG['TRAIN_WINDOW_SIZE']):\n",
        "    '''\n",
        "    평가 데이터(Test Dataset)를 추론하기 위한 Input 데이터를 생성\n",
        "    data : 일별 판매량\n",
        "    train_size : 추론을 위해 필요한 일별 판매량 기간 (= 학습에 활용할 기간) = 90일\n",
        "    '''\n",
        "    num_rows = len(data) # 데이터프레임의 행(row) 개수를 num_rows에 저장합니다.\n",
        "\n",
        "    #추론에 사용할 입력 데이터를 저장할 input_data 배열을 빈 배열로 초기화합니다.\n",
        "    input_data = np.empty((num_rows, train_size, len(data.iloc[0, :4]) + 1))\n",
        "\n",
        "    for i in tqdm(range(num_rows)):\n",
        "        encode_info = np.array(data.iloc[i, :4]) # 각 행의 '대분류', '중분류', '소분류', '브랜드'에 해당하는 값을 encode_info로 추출합니다.\n",
        "        sales_data = np.array(data.iloc[i, -train_size:])\n",
        "\n",
        "        # 학습 기간 크기만큼의 판매량 데이터를 담는 temp_data를 생성합니다.\n",
        "        # 이때, 해당 행의 제품 정보인 encode_info를 반복하여 모든 데이터에 추가하고, 학습 기간 크기만큼의 판매량 데이터를 temp_data와 함께 열 방향으로 결합합니다.\n",
        "        window = sales_data[-train_size : ]\n",
        "        temp_data = np.column_stack((np.tile(encode_info, (train_size, 1)), window[:train_size]))\n",
        "        input_data[i] = temp_data\n",
        "\n",
        "    return input_data"
      ]
    },
    {
      "cell_type": "code",
      "execution_count": null,
      "metadata": {
        "colab": {
          "base_uri": "https://localhost:8080/",
          "height": 81,
          "referenced_widgets": [
            "d4936653c1184967baa8bc3b2082fc36",
            "46ac540060aa43338c272861d53263cc",
            "8ab05cd704a241538e45378010b11c98",
            "3a92c5260a9b4ee7bb6a52786de2a766",
            "f332bee2ba7a4c5297574ee514673077",
            "05c811a2ef7b431981044a248baf1b54",
            "7a810255cb7844878224c4f1a0d99a97",
            "46f81adde47346779e17d7eb6cd473e4",
            "51079bbf9e7b4ddcb47efb3ca7a236ff",
            "cf53acf7bbef4f879cf571cbedce02e4",
            "00a6e785be2340e8a29a2231a5c4c1a3",
            "6ecb0b164dfc4110953970ec6f76644e",
            "c57587d74aa4425892aad80a74d2b27f",
            "72e59828dcaa4ca6a31ce6cf2e2f34fa",
            "66feb58b91a04c0c97c680b243244c9c",
            "13738508597c412684529b491497274e",
            "e7b46defa76f43a08efccee6c6a91e4e",
            "758f53a369c04f71a47b9021d14e14f3",
            "5ec600e8d12f4ceba1bd760cb483636c",
            "92e6dca19d334b28b29150473765eaa0",
            "c8375ff55a904b008d2d453b8256ca75",
            "577a106d28d9494f86e64300a034c684",
            "4175ca34f1bd49dbb56e71fa1db6b5a5",
            "b2b8a07bc13b42f1be4106007db30cdd"
          ]
        },
        "id": "fOwXIpypitJY",
        "outputId": "5c5da69f-56bc-405f-9bc4-e70c57e70d38",
        "scrolled": true
      },
      "outputs": [
        {
          "data": {
            "application/json": {
              "ascii": false,
              "bar_format": null,
              "colour": null,
              "elapsed": 0.024575233459472656,
              "initial": 0,
              "n": 0,
              "ncols": null,
              "nrows": 62,
              "postfix": null,
              "prefix": "",
              "rate": null,
              "total": 15890,
              "unit": "it",
              "unit_divisor": 1000,
              "unit_scale": false
            },
            "application/vnd.jupyter.widget-view+json": {
              "model_id": "4175ca34f1bd49dbb56e71fa1db6b5a5",
              "version_major": 2,
              "version_minor": 0
            },
            "text/plain": [
              "  0%|          | 0/15890 [00:00<?, ?it/s]"
            ]
          },
          "metadata": {},
          "output_type": "display_data"
        },
        {
          "data": {
            "application/json": {
              "ascii": false,
              "bar_format": null,
              "colour": null,
              "elapsed": 0.02401566505432129,
              "initial": 0,
              "n": 0,
              "ncols": null,
              "nrows": 62,
              "postfix": null,
              "prefix": "",
              "rate": null,
              "total": 15890,
              "unit": "it",
              "unit_divisor": 1000,
              "unit_scale": false
            },
            "application/vnd.jupyter.widget-view+json": {
              "model_id": "b2b8a07bc13b42f1be4106007db30cdd",
              "version_major": 2,
              "version_minor": 0
            },
            "text/plain": [
              "  0%|          | 0/15890 [00:00<?, ?it/s]"
            ]
          },
          "metadata": {},
          "output_type": "display_data"
        }
      ],
      "source": [
        "# 위 코드는 make_train_data 함수와 make_predict_data 함수를 사용하여 학습 데이터와 테스트 데이터를 생성\n",
        "train_input, train_target = make_train_data(train_data)\n",
        "test_input = make_predict_data(train_data)"
      ]
    },
    {
      "cell_type": "code",
      "execution_count": null,
      "metadata": {
        "id": "AI6LdG6hivhN"
      },
      "outputs": [],
      "source": [
        "# Train / Validation Split\n",
        "data_len = len(train_input)\n",
        "val_input = train_input[-int(data_len*0.2):]\n",
        "val_target = train_target[-int(data_len*0.2):]\n",
        "train_input = train_input[:-int(data_len*0.2)]\n",
        "train_target = train_target[:-int(data_len*0.2)]"
      ]
    },
    {
      "cell_type": "code",
      "execution_count": null,
      "metadata": {
        "colab": {
          "base_uri": "https://localhost:8080/"
        },
        "id": "Kc1LvZKcyi8e",
        "outputId": "f0d856db-39ba-4924-db0c-d569cb8a1274"
      },
      "outputs": [
        {
          "data": {
            "text/plain": [
              "((4474624, 91, 5),\n",
              " (4474624, 21),\n",
              " (1118656, 91, 5),\n",
              " (1118656, 21),\n",
              " (15890, 91, 5))"
            ]
          },
          "execution_count": 17,
          "metadata": {},
          "output_type": "execute_result"
        }
      ],
      "source": [
        "train_input.shape, train_target.shape, val_input.shape, val_target.shape, test_input.shape"
      ]
    },
    {
      "cell_type": "markdown",
      "metadata": {
        "id": "FnmGFzq2yp5l"
      },
      "source": [
        "## Custom Dataset"
      ]
    },
    {
      "cell_type": "code",
      "execution_count": null,
      "metadata": {
        "id": "yLtvI3ERyoZd"
      },
      "outputs": [],
      "source": [
        "# 위 코드는 PyTorch에서 사용하는 커스텀 데이터셋(CustomDataset) 클래스를 정의하는 부분입니다.\n",
        "class CustomDataset(Dataset):\n",
        "    def __init__(self, X, Y):\n",
        "        self.X = X\n",
        "        self.Y = Y\n",
        "\n",
        "    def __getitem__(self, index): #메서드는 데이터셋에서 특정 인덱스의 데이터를 가져올 때 호출됩니다.\n",
        "        if self.Y is not None: # self.Y가 None이 아니면, 입력 데이터와 타겟 데이터를 함께 반환합니다.\n",
        "            return torch.Tensor(self.X[index]), torch.Tensor(self.Y[index]) # 인덱스를 통해 self.X와 self.Y에서 데이터를 가져옵니다.\n",
        "        return torch.Tensor(self.X[index])\n",
        "\n",
        "    def __len__(self):\n",
        "        return len(self.X) # len(self.X)를 호출하여 데이터셋의 샘플 개수를 반환합니다."
      ]
    },
    {
      "cell_type": "code",
      "execution_count": null,
      "metadata": {
        "id": "X84SaiWnytZL"
      },
      "outputs": [],
      "source": [
        "# CustomDataset 클래스를 활용하여 학습용 데이터셋과 검증용 데이터셋을 생성하고,\n",
        "# DataLoader를 사용하여 배치 단위로 데이터를 불러오는 부분입니다.\n",
        "\n",
        "train_dataset = CustomDataset(train_input, train_target) # CustomDataset 클래스를 사용하여 train_dataset을 생성합니다.\n",
        "train_loader = DataLoader(train_dataset, batch_size = CFG['BATCH_SIZE'], shuffle=True, num_workers=0)\n",
        "# DataLoader는 batch_size에 지정된 배치 크기만큼 데이터를 한 번에 로드합니다.shuffle=True로 설정되어 있으므로 데이터를 섞어서 로드합니다. 이는 모델의 학습이 더 잘 이루어지도록 합니다.\n",
        "\n",
        "val_dataset = CustomDataset(val_input, val_target)\n",
        "val_loader = DataLoader(val_dataset, batch_size = CFG['BATCH_SIZE'], shuffle=False, num_workers=0)"
      ]
    },
    {
      "cell_type": "markdown",
      "metadata": {
        "id": "ePkVbTNwy0CJ"
      },
      "source": [
        "#7. 모델 선언(Bi-LSTM)"
      ]
    },
    {
      "cell_type": "code",
      "execution_count": null,
      "metadata": {
        "id": "C38mJThaK7F0"
      },
      "outputs": [],
      "source": [
        "class biLSTM(nn.Module):\n",
        "    def __init__(self, num_classes, input_size, hidden_size, num_layers, seq_length, drop_out):\n",
        "        super(biLSTM, self).__init__()\n",
        "        self.num_classes = num_classes\n",
        "        self.num_layers = num_layers\n",
        "        self.input_size = input_size\n",
        "        self.hidden_size = hidden_size\n",
        "        self.seq_length = seq_length\n",
        "        self.drop_out = drop_out\n",
        "\n",
        "        self.lstm = nn.LSTM(input_size=input_size, hidden_size=hidden_size,\n",
        "                          num_layers=num_layers, bidirectional=True, batch_first=True)\n",
        "\n",
        "        self.fc =  nn.Sequential(\n",
        "            nn.Linear(hidden_size*2, hidden_size),\n",
        "            nn.ReLU(),\n",
        "            nn.Dropout(p = drop_out),\n",
        "            nn.Linear(hidden_size, num_classes)\n",
        "        )\n",
        "        self.relu = nn.ReLU()\n",
        "\n",
        "    def forward(self,x):\n",
        "        h_0 = torch.zeros(self.num_layers*2, x.size(0), self.hidden_size, device=device)\n",
        "        c_0 = torch.zeros(self.num_layers*2, x.size(0), self.hidden_size, device=device)\n",
        "        out, _ = self.lstm(x, (h_0, c_0))\n",
        "        out = self.fc(out[:, -1, :])\n",
        "        out = self.relu(out)\n",
        "        return out"
      ]
    },
    {
      "cell_type": "markdown",
      "metadata": {
        "id": "kqDr7nuly-1b"
      },
      "source": [
        "#8. 모델 튜닝(Optuna)"
      ]
    },
    {
      "cell_type": "code",
      "execution_count": null,
      "metadata": {
        "id": "KfKZZPX9y7ii"
      },
      "outputs": [],
      "source": [
        "# 위 함수는 머신 러닝 모델을 튜닝시키는 기능을 수행합니다.\n",
        "def train_for_tune(model, optimizer, train_loader, val_loader, device): # train_loader = 데이터셋에서 배치 크기만큼 데이터를 로드하는 역할\n",
        "    model.to(device) # GPU가 지정되었다면 모델을 GPU에 할당하여 가속화된 계산을 수행합니다.\n",
        "    criterion = nn.MSELoss().to(device) # 평균 제곱 오차(Mean Squared Error, MSE)를 손실 함수로 사용합니다.\n",
        "    best_loss = 9999999 # 최고 손실 값을 초기화합니다.\n",
        "    best_model = None # 최고 성능을 보이는 모델을 저장하는 변수를 초기화\n",
        "\n",
        "    for epoch in range(1, CFG['EPOCHS']+1): # epoch 수만큼 모델을 훈련\n",
        "        model.train() # 모델을 학습 모드로 설정\n",
        "        train_loss = []\n",
        "        train_mae = []\n",
        "        for X, Y in tqdm(iter(train_loader)): # train_loader로부터 미니배치를 가져와서 모델을 학습\n",
        "            X = X.to(device)\n",
        "            Y = Y.to(device)\n",
        "\n",
        "            optimizer.zero_grad() #optimizer.zero_grad()로 기울기를 초기화\n",
        "\n",
        "            output = model(X) #모델을 통해 입력 데이터(X)를 전달하여 예측 결과(output)를 얻습니다.\n",
        "            loss = criterion(output, Y) # 손실 함수(criterion)를 사용하여 예측 결과와 실제 값 사이의 손실을 계산합니다.\n",
        "\n",
        "            loss.backward() # 손실(loss)를 역전파하여 기울기를 계산하고,\n",
        "            optimizer.step() # optimizer.step()으로 가중치를 업데이트합니다.\n",
        "\n",
        "            train_loss.append(loss.item()) # 학습된 손실 값들을 train_loss 리스트에 저장합니다.\n",
        "\n",
        "        val_loss = validation(model, val_loader, criterion, device) # validation 함수를 호출하여 검증 데이터셋에 대한 손실 값을 얻어옵니다.\n",
        "        print(f'Epoch : [{epoch}] Train Loss : [{np.mean(train_loss):.5f}] Val Loss : [{val_loss:.5f}]')\n",
        "\n",
        "        # 현재 손실 값이 이전까지의 최고 손실 값보다 작은 경우에만 모델을 저장합니다.\n",
        "        if best_loss > val_loss:\n",
        "            best_loss = val_loss\n",
        "            best_model = model\n",
        "            print('Model Saved')\n",
        "    return best_loss"
      ]
    },
    {
      "cell_type": "code",
      "execution_count": null,
      "metadata": {
        "id": "p3aqqCa-zCCO"
      },
      "outputs": [],
      "source": [
        "# 위 함수는 학습된 모델을 검증(평가)하기 위한 기능을 수행합니다.\n",
        "def validation(model, val_loader, criterion, device):\n",
        "    model.eval() # 모델을 평가 모드로 설정합니다.\n",
        "    val_loss = []\n",
        "\n",
        "    # 검증 데이터에 대한 연산에서는 기울기 계산이 필요 없으므로 torch.no_grad() 컨텍스트 매니저를 사용합니다.\n",
        "    # 이렇게 하면 연산 속도가 향상되며 메모리를 더 효율적으로 사용할 수 있습니다.\n",
        "    with torch.no_grad():\n",
        "        for X, Y in tqdm(iter(val_loader)):\n",
        "            X = X.to(device)\n",
        "            Y = Y.to(device)\n",
        "\n",
        "            output = model(X)\n",
        "            loss = criterion(output, Y)\n",
        "\n",
        "            val_loss.append(loss.item())\n",
        "    return np.mean(val_loss)\n",
        "    # 모든 미니배치에 대한 검증 데이터의 손실 값을 평균하여 반환합니다.\n",
        "    # 작은 값일수록 모델의 성능이 더 좋다고 판단할 수 있습니다."
      ]
    },
    {
      "cell_type": "code",
      "execution_count": null,
      "metadata": {
        "id": "bxVDx6hMK7F1",
        "outputId": "1542e118-0b4e-4fc8-f6a3-ff5003ea6bbf"
      },
      "outputs": [
        {
          "name": "stderr",
          "output_type": "stream",
          "text": [
            "[I 2023-08-26 09:28:34,315] A new study created in memory with name: no-name-b4d14183-11b4-4241-b857-d0eec6a9b137\n"
          ]
        }
      ],
      "source": [
        "# 하이퍼파라미터 튜닝 학습모델 초기화\n",
        "study = optuna.create_study(sampler=optuna.samplers.TPESampler(), direction='minimize')"
      ]
    },
    {
      "cell_type": "code",
      "execution_count": null,
      "metadata": {
        "id": "GmwG-UDQK7F1"
      },
      "outputs": [],
      "source": [
        "# 위 함수는 하이퍼파라미터 튜닝을 위해 목적함수를 정하는 함수입니다.\n",
        "def objective(trial):\n",
        "\n",
        "    global device\n",
        "    device = torch.device('cuda') if torch.cuda.is_available() else torch.device('cpu')\n",
        "\n",
        "    CFG = {\n",
        "        'TRAIN_WINDOW_SIZE': 91, #trial.suggest_categorical('TRAIN_WINDOW_SIZE', [m*7 for m in range(1,13+1)]),\n",
        "        'PREDICT_SIZE':21, # 21일치 예측\n",
        "        'EPOCHS':10, #trial.suggest_categorical('EPOCHS', [5, 10, 20]),\n",
        "        'LEARNING_RATE':trial.suggest_loguniform('LEARNING_RATE',1e-5, 1e-4), #1e-5, 1e-3\n",
        "        'BATCH_SIZE': 4096, #trial.suggest_categorical('BATCH_SIZE', [4096, 8192]),\n",
        "        'DROP_OUT': trial.suggest_loguniform('DROP_OUT', 0.1, 0.3),\n",
        "        'SEED':41\n",
        "    }\n",
        "\n",
        "    model = biLSTM(num_classes= CFG['PREDICT_SIZE'], input_size= 5, hidden_size = 512, num_layers =2,\n",
        "                   seq_length= CFG['PREDICT_SIZE'], drop_out = CFG['DROP_OUT'])\n",
        "    model = nn.DataParallel(model,device_ids = [0,1])\n",
        "    optimizer = torch.optim.Adam(params = model.parameters(), lr = CFG[\"LEARNING_RATE\"])\n",
        "    val_loss = train_for_tune(model, optimizer, train_loader, val_loader, device= device)\n",
        "\n",
        "    return val_loss\n"
      ]
    },
    {
      "cell_type": "code",
      "execution_count": null,
      "metadata": {
        "scrolled": true,
        "id": "py72JfTLK7F1",
        "outputId": "fc8b03ae-06fe-4873-c4c6-28bbf855fc43",
        "colab": {
          "referenced_widgets": [
            "8c619eeac93d4943b47b29bd128d8601",
            "d28ce5d1163748909da519623ca79bfa",
            "6aafa98614ca424d958ecb16f7d9f563",
            "08aeee7990aa46699af2a6806b5ec012",
            "ca1d2799226c41b58514ac700eeb5955",
            "ccd062a1685244d29246d03db89867f8",
            "784966bcd1e1410d84de2b1a1989e9b9",
            "45e2d8e6af7141969b4f23d83869055d",
            "c1a47c3bb0834d07baa7caddbaf02f50",
            "ba1bf24722f344b8bcc262316660c835",
            "4f9f1f80dba14dc2a0ed52256754c14e",
            "8179deaf5c6c4927aad355bcf61fc44e",
            "4f76b59b6fd14e4fbd5589c31273619a",
            "ab65d0a8253040188914a2e86a780d03",
            "6e4fdbc221ae4bd08612031cc111de65",
            "ece4883d85734fce93b42f3307972138",
            "8c2b95f0068d4a28b84f34c7d3629b76",
            "6db0e42fc2d74581b5d880c719a0e318",
            "6b1e049876e346eb9b6bb0e17724c8ba",
            "5947e7ab5a1444db9fc3da72fd9a5d2b",
            "c7ef8698f1d54b1585014a30e10c2220",
            "026117f73380485bbfd57cc9ec6d4e5f",
            "9b6478511f20449e857772fb2060506e",
            "350255b46e174e46ac73173135b06312",
            "b9ab209703604043ac9b975521ba51aa",
            "c184287167404c70af5a7e9d200f09f3",
            "ef60ec559d574b08ace07a6df1f2dc09",
            "7e312c9defb44f889bf5e12fcc487e26",
            "e6c1829dd04e41a9b497b2c4ea6fde09",
            "66066009e3084135b2e378863ac16c4b",
            "02ab6e17e66a48e085c1ebce8142afb4",
            "e83f89e1b3af40a1ae9d7bc45852e402",
            "ade32d00e03e4eb1a2060299994a68e9",
            "86ad7347ebe346f18c02790a4052ed45",
            "2522c340870646f1947a7163d6e7599b",
            "1d7594a201c84181a38f37a8c9f886ac",
            "7d1c83e6a8404625ab746c14c60e63c0",
            "8813171c317448f489e9f449552b4dd4",
            "c7b65c6d179e4aeca52efebf777afe50",
            "7f660df071fd481b9ecf95c2cfebf3cf",
            "e21e727827eb4a6ab59aec41de4c0152",
            "e0bd39b0093a4fcca0efacce36873eff",
            "aa37d3d5cbab4da0bb465d98ebdfc6d0",
            "faeddfbf566c45f7874ef703649bace1",
            "12d67a82b0d04fc69ebf5ae2cbe896bb",
            "f4e5c9fbcdb74c02b57ffd2c9170747e",
            "30ba52aab3d34f74815417f11533ea84",
            "25e884c09de343cfb1e67fc384c15804",
            "afb08c604c9f4785ab5e4376165a514c",
            "06758f61ca14498184e467808d593020",
            "11865039d69241c0979ab8b2cf0d68e3",
            "28560b0301424e3d9f941bf3911cfb7d",
            "62f26a1f75bb4054ab9c91d60eb8fd5d",
            "b62467c48830497ea335536ac68638b7",
            "b4820277129244e0a5588d055f10b9a3",
            "877fd40e36e14340a26daa4a023f98fc",
            "c2fbb091b31e42a1886deac54eb62717",
            "5b4b5c626c7b47aa8890f0c050a47556",
            "30a48828679b4e75a824d78b19e09e03",
            "6e3de1ba9ad949e2a35a04a38ac53c6f",
            "a414450669eb4b69b69eda4a7d803869",
            "4dfe95873622494ab06f0bab6c7c2b56",
            "660b4f8ed77448eaab33af22eace3cb7",
            "41a5a99c81164d27a2abc7c208381061",
            "2ea8c2d117dc4181b645bc3660c74663",
            "676ae3434c984ef98b616b13a17bb09b",
            "9d51e4a5347745f991d1a9665dc418ac",
            "42d61ca109dd499f9b18289db474db31",
            "3039b11d72c54bfb9fcb41a34e2a570d",
            "da5c811a247249a0b5789aec09e4eac1",
            "20d34e022f2146d789f863fd2fc3cb83",
            "1a9d3121d5734897bf1fa034a1b036f5",
            "450f45eeb0a7415eac7237f30379b3bf",
            "3c54ae1886b143eea970d565038251f0",
            "02c73771a7f942998aba3b8662aa4e69",
            "6e9c80c49c084bcba01f076b07ea1a38",
            "f274760b788242d9b4de64920856e1d3",
            "311ac5a7cde34987962318fc675f94e4",
            "fc151cad8fc744958f3917f0b4fb8738",
            "a7227b6d0989406bb194835006d51925",
            "f3a68585dde841cb888b4ade30dfb879",
            "9751eae496ec408ba4ee75db1c1dc2bb",
            "b38526cd26bf414c81337de0bc66eb03",
            "b48bf0c2e3fb4cb2b04124982b48a732",
            "70b8322685f3498eb55b39dda15351ad",
            "1522d0347f3846c48ed5869a2cc56931",
            "2b68dd91c6764cc1b1bba99da7a7a69f",
            "9fabd8d85c9d47b2adf007026d584795",
            "227dda3d8a594c88b1bd4f3eb7c73c14",
            "167522e45f48403791380c2ecabbbfda",
            "ee654b55566a42fd9e7123ac7f61f3e8",
            "957d2cfbf62444cf96e3a997befc1e94",
            "00857e583d784db88ba25ea64f04f7e9",
            "5dbb1a79eafd42bcb429961cfafb9539",
            "52645106da4243b08bd59bed4c1662dc",
            "b719f25b249a4a01902126af6c7c7fd9",
            "d353746179ca4d67845da35a343c16e7",
            "9d21af29f7b2478bb2cb8d7ebb52d340",
            "970f19df71fa438bb6f3e7fb86a26acd",
            "806b476ae02b467ab12e290068c5a816",
            "be91e53d566a42059d71aab6cae1e74d",
            "bc219db7c9274657bf8481a3cd4db1ce",
            "5e82affefcf641c6856576f604214e2e",
            "2f72e0fadf7c4b7e96679499b4109371",
            "24829ecbfa374a379c5db469c58f1dcd",
            "51e64cec66304d50837f4b138e65a0ed",
            "557578be78c24ebca27a8f3a0dd8f7c3",
            "dbb7aa89dda0472a8b589afc4739d5da",
            "822309bbd77a4f52a3e51fdff4138f44",
            "db5c26d19ce2406fbec962ef448aefa7",
            "ffdd92dce7a241c3bf07e79c5aeefcc0",
            "c0b6e00900a24c4eb150816f53a25cfa",
            "cafee0698dd44be3bb7ece3c5c50fc60",
            "c971422fc4614bf4a5be352f9b9cccae",
            "3de53000335b4de5889090f963f17f19",
            "a87cbc6c3a2d4bffbde6820578346e12",
            "d8bcb64bbcf5475eac957a4273351dbd",
            "9201de54c9e94d0e8cc95942891f25fa",
            "9218bd474cd04080a6801ec48a083503",
            "37fa8255aeef4d238bbaf7a1bf510168",
            "8f1e2263139c4b73bace3160b80914e7",
            "db2580ba105b413f8a93a28e248fccd2",
            "017ba86cb6174b058800363c6ff9ba18",
            "2250909e52084ab8bbed5fd6075040cb",
            "a0321d07904344319116920a8d7be171",
            "9e797302353743ef9b1610fe59c00591",
            "456a952bd81b4177a9774b010b416e19",
            "bf60443c71e94f29b2457f0fd6642c78",
            "aa9d4cd0b1a3436586151316cab045ca",
            "1ed8c206eadc42e8b30e90d6375f375a",
            "fbeabd1f355c4a3183848e82da8ed54a",
            "d4828520bb1241eb81d9c2ef5ad2f689",
            "d7655059c841442e8ac4c0c7d46fdff9",
            "19079c74926d4f5fbb84925a06cb1552",
            "be755241a8f941e7b131fd1cceea22a3",
            "1a56847f8c714f89b64c742eaec54f66",
            "6909645ff35e4c8c841e2ad63ef8506d",
            "6a327cdd4439462bb3d1395c3daaf12f",
            "57fcda219b39476b990b88bf58ce0fe3",
            "cfa4b4c124b4407f90163251e1f8d92d",
            "cd0d9e57776f4f0a8a37004051ce857e",
            "a1b7c8413a994daba244f84a93bf84ae",
            "08b93dce90cb4f6a9e38322842cf5be6",
            "38d90e67908b4d1d86b42f77c063024d",
            "c45ada4156d247c1abda503a20638100",
            "15184095950c49ba930db0a9e93e4af0",
            "f3fbde715c2a4324add6a1d58ac6fdae",
            "2074b0c8beca46b98bef5e66b35501a1",
            "677eef07c4064e1eafa9b14285c31264",
            "457764600d0b4979b158ac87f2afa089",
            "fcd04196eccc477888bf159ea747f8f7",
            "fc9523e44c2a4e039f9ecf82a7f11d13",
            "6676354e433540759ac3101c741f88d8",
            "6427276445b048a7acef6aedfcf2942c",
            "6fce0fe7c3c44e37b324829f59fa4ea3",
            "b9fbc8b7964743079828279368b6e8ef",
            "f8df6ce602134f588809181b439b48b3",
            "848a64eff73d460caca4001d2d729fd9",
            "b176a468ac60442aab7054bdcd73eec8",
            "521b9430b46a4127b40ff8b827da800b",
            "5ff89975961a4fea981a7585ec740dd5",
            "2dea8f432c9448c5afe14d11695e4871",
            "be45437121fd42348da0e924fd866473",
            "0c3dd3337d1940cb9d41de282c8c0834",
            "a1e639fe8c8d435aae6e13f632ba2a7a",
            "f13427634f254dc9ae07d646fb9c9b8a",
            "ec37081acc7b409492aceed860e27fbe",
            "4b8fe26c14ca4d668df2ade1a37b0e06",
            "462c6854e9624a628e41c5ec4b37b0d7",
            "4c169934aba0406d9f2cd7f6975602b3",
            "a4c3d1a6fed14e5f9b986408f839f7ce",
            "ec90d6f80ad0419aa56f05d57d2616fa",
            "ae3498c5a6f54667b27443490fdcb28b",
            "e17b17f64af9413abfb329fb2adc9988",
            "9f7b75b09dca48078a9d8e9401f65e28",
            "492c2834458b4bffa20456ab31a03cb4",
            "fd61691ba0904697bb80715519553871",
            "97609778fac546a8a4aab5f09d2fafa6",
            "376af88e413843db991aeada004f33ac",
            "481b5553250f413e8904d0b9640b10a6",
            "62652a2cf8344e3aa7bfd35229fa6695",
            "886d2a92142e4cedbeefea88d7d5ba12",
            "a4857bc6e3fe47ce80f637a03ba4a5d0",
            "54acd44eef3f4400a0680401493252a3",
            "19fc6138b1f4417aa3be00d6a291ecaf",
            "764d075069df49f6918652e123e4d5c6",
            "581854983f4541de9738a268ebd5a328",
            "7d06af9c36af47bcabf5abeaf7d9e73c",
            "3c60be044a754ca792dbdb7c9fded9a2",
            "baefbc3564494a49b8f234e7170c083d",
            "b6bb373213144d8096f62c3bdc704dbc",
            "d1132b1a4d4541c2a45182a74ebcb813",
            "b906e4456fe24b41ba58c4d23f6821f3",
            "6f25457f0a3248ff8394c4e91caecf11",
            "df8e6fb288114210b5fac4038cdc22a6",
            "9549eda98ada42fd9d8c8a5e3c265954",
            "1aeca2dc40aa42ddb5626cb96ce964a3",
            "6e135778cba0486392edfa2b2b88980c",
            "c93ed931bf0444d689a09f1719ea20c2",
            "1412ba0ae27149ba9796885d9611b095"
          ]
        }
      },
      "outputs": [
        {
          "name": "stderr",
          "output_type": "stream",
          "text": [
            "[I 2023-08-26 09:32:38,568] A new study created in memory with name: no-name-2fe05d68-7ab9-4cb7-9b03-3561e19e856d\n",
            "/tmp/ipykernel_3504829/2331593271.py:10: FutureWarning: suggest_loguniform has been deprecated in v3.0.0. This feature will be removed in v6.0.0. See https://github.com/optuna/optuna/releases/tag/v3.0.0. Use suggest_float(..., log=True) instead.\n",
            "  'LEARNING_RATE':trial.suggest_loguniform('LEARNING_RATE',1e-5, 1e-4), #1e-5, 1e-3\n",
            "/tmp/ipykernel_3504829/2331593271.py:12: FutureWarning: suggest_loguniform has been deprecated in v3.0.0. This feature will be removed in v6.0.0. See https://github.com/optuna/optuna/releases/tag/v3.0.0. Use suggest_float(..., log=True) instead.\n",
            "  'DROP_OUT': trial.suggest_loguniform('DROP_OUT', 0.1, 0.3),\n"
          ]
        },
        {
          "data": {
            "application/json": {
              "ascii": false,
              "bar_format": null,
              "colour": null,
              "elapsed": 0.023474693298339844,
              "initial": 0,
              "n": 0,
              "ncols": null,
              "nrows": 62,
              "postfix": null,
              "prefix": "",
              "rate": null,
              "total": 1093,
              "unit": "it",
              "unit_divisor": 1000,
              "unit_scale": false
            },
            "application/vnd.jupyter.widget-view+json": {
              "model_id": "8c619eeac93d4943b47b29bd128d8601",
              "version_major": 2,
              "version_minor": 0
            },
            "text/plain": [
              "  0%|          | 0/1093 [00:00<?, ?it/s]"
            ]
          },
          "metadata": {},
          "output_type": "display_data"
        },
        {
          "data": {
            "application/json": {
              "ascii": false,
              "bar_format": null,
              "colour": null,
              "elapsed": 0.023395538330078125,
              "initial": 0,
              "n": 0,
              "ncols": null,
              "nrows": 62,
              "postfix": null,
              "prefix": "",
              "rate": null,
              "total": 274,
              "unit": "it",
              "unit_divisor": 1000,
              "unit_scale": false
            },
            "application/vnd.jupyter.widget-view+json": {
              "model_id": "d28ce5d1163748909da519623ca79bfa",
              "version_major": 2,
              "version_minor": 0
            },
            "text/plain": [
              "  0%|          | 0/274 [00:00<?, ?it/s]"
            ]
          },
          "metadata": {},
          "output_type": "display_data"
        },
        {
          "name": "stdout",
          "output_type": "stream",
          "text": [
            "Epoch : [1] Train Loss : [0.03038] Val Loss : [0.02811]\n",
            "Model Saved\n"
          ]
        },
        {
          "data": {
            "application/json": {
              "ascii": false,
              "bar_format": null,
              "colour": null,
              "elapsed": 0.02342367172241211,
              "initial": 0,
              "n": 0,
              "ncols": null,
              "nrows": 62,
              "postfix": null,
              "prefix": "",
              "rate": null,
              "total": 1093,
              "unit": "it",
              "unit_divisor": 1000,
              "unit_scale": false
            },
            "application/vnd.jupyter.widget-view+json": {
              "model_id": "6aafa98614ca424d958ecb16f7d9f563",
              "version_major": 2,
              "version_minor": 0
            },
            "text/plain": [
              "  0%|          | 0/1093 [00:00<?, ?it/s]"
            ]
          },
          "metadata": {},
          "output_type": "display_data"
        },
        {
          "data": {
            "application/json": {
              "ascii": false,
              "bar_format": null,
              "colour": null,
              "elapsed": 0.02344822883605957,
              "initial": 0,
              "n": 0,
              "ncols": null,
              "nrows": 62,
              "postfix": null,
              "prefix": "",
              "rate": null,
              "total": 274,
              "unit": "it",
              "unit_divisor": 1000,
              "unit_scale": false
            },
            "application/vnd.jupyter.widget-view+json": {
              "model_id": "08aeee7990aa46699af2a6806b5ec012",
              "version_major": 2,
              "version_minor": 0
            },
            "text/plain": [
              "  0%|          | 0/274 [00:00<?, ?it/s]"
            ]
          },
          "metadata": {},
          "output_type": "display_data"
        },
        {
          "name": "stdout",
          "output_type": "stream",
          "text": [
            "Epoch : [2] Train Loss : [0.01944] Val Loss : [0.01980]\n",
            "Model Saved\n"
          ]
        },
        {
          "data": {
            "application/json": {
              "ascii": false,
              "bar_format": null,
              "colour": null,
              "elapsed": 0.023427486419677734,
              "initial": 0,
              "n": 0,
              "ncols": null,
              "nrows": 62,
              "postfix": null,
              "prefix": "",
              "rate": null,
              "total": 1093,
              "unit": "it",
              "unit_divisor": 1000,
              "unit_scale": false
            },
            "application/vnd.jupyter.widget-view+json": {
              "model_id": "ca1d2799226c41b58514ac700eeb5955",
              "version_major": 2,
              "version_minor": 0
            },
            "text/plain": [
              "  0%|          | 0/1093 [00:00<?, ?it/s]"
            ]
          },
          "metadata": {},
          "output_type": "display_data"
        },
        {
          "data": {
            "application/json": {
              "ascii": false,
              "bar_format": null,
              "colour": null,
              "elapsed": 0.023739337921142578,
              "initial": 0,
              "n": 0,
              "ncols": null,
              "nrows": 62,
              "postfix": null,
              "prefix": "",
              "rate": null,
              "total": 274,
              "unit": "it",
              "unit_divisor": 1000,
              "unit_scale": false
            },
            "application/vnd.jupyter.widget-view+json": {
              "model_id": "ccd062a1685244d29246d03db89867f8",
              "version_major": 2,
              "version_minor": 0
            },
            "text/plain": [
              "  0%|          | 0/274 [00:00<?, ?it/s]"
            ]
          },
          "metadata": {},
          "output_type": "display_data"
        },
        {
          "name": "stdout",
          "output_type": "stream",
          "text": [
            "Epoch : [3] Train Loss : [0.01802] Val Loss : [0.01817]\n",
            "Model Saved\n"
          ]
        },
        {
          "data": {
            "application/json": {
              "ascii": false,
              "bar_format": null,
              "colour": null,
              "elapsed": 0.023424863815307617,
              "initial": 0,
              "n": 0,
              "ncols": null,
              "nrows": 62,
              "postfix": null,
              "prefix": "",
              "rate": null,
              "total": 1093,
              "unit": "it",
              "unit_divisor": 1000,
              "unit_scale": false
            },
            "application/vnd.jupyter.widget-view+json": {
              "model_id": "784966bcd1e1410d84de2b1a1989e9b9",
              "version_major": 2,
              "version_minor": 0
            },
            "text/plain": [
              "  0%|          | 0/1093 [00:00<?, ?it/s]"
            ]
          },
          "metadata": {},
          "output_type": "display_data"
        },
        {
          "data": {
            "application/json": {
              "ascii": false,
              "bar_format": null,
              "colour": null,
              "elapsed": 0.023668527603149414,
              "initial": 0,
              "n": 0,
              "ncols": null,
              "nrows": 62,
              "postfix": null,
              "prefix": "",
              "rate": null,
              "total": 274,
              "unit": "it",
              "unit_divisor": 1000,
              "unit_scale": false
            },
            "application/vnd.jupyter.widget-view+json": {
              "model_id": "45e2d8e6af7141969b4f23d83869055d",
              "version_major": 2,
              "version_minor": 0
            },
            "text/plain": [
              "  0%|          | 0/274 [00:00<?, ?it/s]"
            ]
          },
          "metadata": {},
          "output_type": "display_data"
        },
        {
          "name": "stdout",
          "output_type": "stream",
          "text": [
            "Epoch : [4] Train Loss : [0.01773] Val Loss : [0.01780]\n",
            "Model Saved\n"
          ]
        },
        {
          "data": {
            "application/json": {
              "ascii": false,
              "bar_format": null,
              "colour": null,
              "elapsed": 0.023727893829345703,
              "initial": 0,
              "n": 0,
              "ncols": null,
              "nrows": 62,
              "postfix": null,
              "prefix": "",
              "rate": null,
              "total": 1093,
              "unit": "it",
              "unit_divisor": 1000,
              "unit_scale": false
            },
            "application/vnd.jupyter.widget-view+json": {
              "model_id": "c1a47c3bb0834d07baa7caddbaf02f50",
              "version_major": 2,
              "version_minor": 0
            },
            "text/plain": [
              "  0%|          | 0/1093 [00:00<?, ?it/s]"
            ]
          },
          "metadata": {},
          "output_type": "display_data"
        },
        {
          "data": {
            "application/json": {
              "ascii": false,
              "bar_format": null,
              "colour": null,
              "elapsed": 0.023664474487304688,
              "initial": 0,
              "n": 0,
              "ncols": null,
              "nrows": 62,
              "postfix": null,
              "prefix": "",
              "rate": null,
              "total": 274,
              "unit": "it",
              "unit_divisor": 1000,
              "unit_scale": false
            },
            "application/vnd.jupyter.widget-view+json": {
              "model_id": "ba1bf24722f344b8bcc262316660c835",
              "version_major": 2,
              "version_minor": 0
            },
            "text/plain": [
              "  0%|          | 0/274 [00:00<?, ?it/s]"
            ]
          },
          "metadata": {},
          "output_type": "display_data"
        },
        {
          "name": "stdout",
          "output_type": "stream",
          "text": [
            "Epoch : [5] Train Loss : [0.01755] Val Loss : [0.01858]\n"
          ]
        },
        {
          "data": {
            "application/json": {
              "ascii": false,
              "bar_format": null,
              "colour": null,
              "elapsed": 0.023720264434814453,
              "initial": 0,
              "n": 0,
              "ncols": null,
              "nrows": 62,
              "postfix": null,
              "prefix": "",
              "rate": null,
              "total": 1093,
              "unit": "it",
              "unit_divisor": 1000,
              "unit_scale": false
            },
            "application/vnd.jupyter.widget-view+json": {
              "model_id": "4f9f1f80dba14dc2a0ed52256754c14e",
              "version_major": 2,
              "version_minor": 0
            },
            "text/plain": [
              "  0%|          | 0/1093 [00:00<?, ?it/s]"
            ]
          },
          "metadata": {},
          "output_type": "display_data"
        },
        {
          "data": {
            "application/json": {
              "ascii": false,
              "bar_format": null,
              "colour": null,
              "elapsed": 0.023564577102661133,
              "initial": 0,
              "n": 0,
              "ncols": null,
              "nrows": 62,
              "postfix": null,
              "prefix": "",
              "rate": null,
              "total": 274,
              "unit": "it",
              "unit_divisor": 1000,
              "unit_scale": false
            },
            "application/vnd.jupyter.widget-view+json": {
              "model_id": "8179deaf5c6c4927aad355bcf61fc44e",
              "version_major": 2,
              "version_minor": 0
            },
            "text/plain": [
              "  0%|          | 0/274 [00:00<?, ?it/s]"
            ]
          },
          "metadata": {},
          "output_type": "display_data"
        },
        {
          "name": "stdout",
          "output_type": "stream",
          "text": [
            "Epoch : [6] Train Loss : [0.01740] Val Loss : [0.01844]\n"
          ]
        },
        {
          "data": {
            "application/json": {
              "ascii": false,
              "bar_format": null,
              "colour": null,
              "elapsed": 0.023408174514770508,
              "initial": 0,
              "n": 0,
              "ncols": null,
              "nrows": 62,
              "postfix": null,
              "prefix": "",
              "rate": null,
              "total": 1093,
              "unit": "it",
              "unit_divisor": 1000,
              "unit_scale": false
            },
            "application/vnd.jupyter.widget-view+json": {
              "model_id": "4f76b59b6fd14e4fbd5589c31273619a",
              "version_major": 2,
              "version_minor": 0
            },
            "text/plain": [
              "  0%|          | 0/1093 [00:00<?, ?it/s]"
            ]
          },
          "metadata": {},
          "output_type": "display_data"
        },
        {
          "data": {
            "application/json": {
              "ascii": false,
              "bar_format": null,
              "colour": null,
              "elapsed": 0.023598194122314453,
              "initial": 0,
              "n": 0,
              "ncols": null,
              "nrows": 62,
              "postfix": null,
              "prefix": "",
              "rate": null,
              "total": 274,
              "unit": "it",
              "unit_divisor": 1000,
              "unit_scale": false
            },
            "application/vnd.jupyter.widget-view+json": {
              "model_id": "ab65d0a8253040188914a2e86a780d03",
              "version_major": 2,
              "version_minor": 0
            },
            "text/plain": [
              "  0%|          | 0/274 [00:00<?, ?it/s]"
            ]
          },
          "metadata": {},
          "output_type": "display_data"
        },
        {
          "name": "stdout",
          "output_type": "stream",
          "text": [
            "Epoch : [7] Train Loss : [0.01725] Val Loss : [0.01901]\n"
          ]
        },
        {
          "data": {
            "application/json": {
              "ascii": false,
              "bar_format": null,
              "colour": null,
              "elapsed": 0.023069143295288086,
              "initial": 0,
              "n": 0,
              "ncols": null,
              "nrows": 62,
              "postfix": null,
              "prefix": "",
              "rate": null,
              "total": 1093,
              "unit": "it",
              "unit_divisor": 1000,
              "unit_scale": false
            },
            "application/vnd.jupyter.widget-view+json": {
              "model_id": "6e4fdbc221ae4bd08612031cc111de65",
              "version_major": 2,
              "version_minor": 0
            },
            "text/plain": [
              "  0%|          | 0/1093 [00:00<?, ?it/s]"
            ]
          },
          "metadata": {},
          "output_type": "display_data"
        },
        {
          "data": {
            "application/json": {
              "ascii": false,
              "bar_format": null,
              "colour": null,
              "elapsed": 0.023305177688598633,
              "initial": 0,
              "n": 0,
              "ncols": null,
              "nrows": 62,
              "postfix": null,
              "prefix": "",
              "rate": null,
              "total": 274,
              "unit": "it",
              "unit_divisor": 1000,
              "unit_scale": false
            },
            "application/vnd.jupyter.widget-view+json": {
              "model_id": "ece4883d85734fce93b42f3307972138",
              "version_major": 2,
              "version_minor": 0
            },
            "text/plain": [
              "  0%|          | 0/274 [00:00<?, ?it/s]"
            ]
          },
          "metadata": {},
          "output_type": "display_data"
        },
        {
          "name": "stdout",
          "output_type": "stream",
          "text": [
            "Epoch : [8] Train Loss : [0.01709] Val Loss : [0.01761]\n",
            "Model Saved\n"
          ]
        },
        {
          "data": {
            "application/json": {
              "ascii": false,
              "bar_format": null,
              "colour": null,
              "elapsed": 0.023275136947631836,
              "initial": 0,
              "n": 0,
              "ncols": null,
              "nrows": 62,
              "postfix": null,
              "prefix": "",
              "rate": null,
              "total": 1093,
              "unit": "it",
              "unit_divisor": 1000,
              "unit_scale": false
            },
            "application/vnd.jupyter.widget-view+json": {
              "model_id": "8c2b95f0068d4a28b84f34c7d3629b76",
              "version_major": 2,
              "version_minor": 0
            },
            "text/plain": [
              "  0%|          | 0/1093 [00:00<?, ?it/s]"
            ]
          },
          "metadata": {},
          "output_type": "display_data"
        },
        {
          "data": {
            "application/json": {
              "ascii": false,
              "bar_format": null,
              "colour": null,
              "elapsed": 0.023623943328857422,
              "initial": 0,
              "n": 0,
              "ncols": null,
              "nrows": 62,
              "postfix": null,
              "prefix": "",
              "rate": null,
              "total": 274,
              "unit": "it",
              "unit_divisor": 1000,
              "unit_scale": false
            },
            "application/vnd.jupyter.widget-view+json": {
              "model_id": "6db0e42fc2d74581b5d880c719a0e318",
              "version_major": 2,
              "version_minor": 0
            },
            "text/plain": [
              "  0%|          | 0/274 [00:00<?, ?it/s]"
            ]
          },
          "metadata": {},
          "output_type": "display_data"
        },
        {
          "name": "stdout",
          "output_type": "stream",
          "text": [
            "Epoch : [9] Train Loss : [0.01700] Val Loss : [0.01714]\n",
            "Model Saved\n"
          ]
        },
        {
          "data": {
            "application/json": {
              "ascii": false,
              "bar_format": null,
              "colour": null,
              "elapsed": 0.023461103439331055,
              "initial": 0,
              "n": 0,
              "ncols": null,
              "nrows": 62,
              "postfix": null,
              "prefix": "",
              "rate": null,
              "total": 1093,
              "unit": "it",
              "unit_divisor": 1000,
              "unit_scale": false
            },
            "application/vnd.jupyter.widget-view+json": {
              "model_id": "6b1e049876e346eb9b6bb0e17724c8ba",
              "version_major": 2,
              "version_minor": 0
            },
            "text/plain": [
              "  0%|          | 0/1093 [00:00<?, ?it/s]"
            ]
          },
          "metadata": {},
          "output_type": "display_data"
        },
        {
          "data": {
            "application/json": {
              "ascii": false,
              "bar_format": null,
              "colour": null,
              "elapsed": 0.023534059524536133,
              "initial": 0,
              "n": 0,
              "ncols": null,
              "nrows": 62,
              "postfix": null,
              "prefix": "",
              "rate": null,
              "total": 274,
              "unit": "it",
              "unit_divisor": 1000,
              "unit_scale": false
            },
            "application/vnd.jupyter.widget-view+json": {
              "model_id": "5947e7ab5a1444db9fc3da72fd9a5d2b",
              "version_major": 2,
              "version_minor": 0
            },
            "text/plain": [
              "  0%|          | 0/274 [00:00<?, ?it/s]"
            ]
          },
          "metadata": {},
          "output_type": "display_data"
        },
        {
          "name": "stderr",
          "output_type": "stream",
          "text": [
            "[I 2023-08-26 10:38:16,028] Trial 0 finished with value: 0.01714032866297813 and parameters: {'LEARNING_RATE': 1.8778129649016016e-05, 'DROP_OUT': 0.23478546791135627}. Best is trial 0 with value: 0.01714032866297813.\n"
          ]
        },
        {
          "name": "stdout",
          "output_type": "stream",
          "text": [
            "Epoch : [10] Train Loss : [0.01682] Val Loss : [0.01775]\n"
          ]
        },
        {
          "data": {
            "application/json": {
              "ascii": false,
              "bar_format": null,
              "colour": null,
              "elapsed": 0.023771286010742188,
              "initial": 0,
              "n": 0,
              "ncols": null,
              "nrows": 62,
              "postfix": null,
              "prefix": "",
              "rate": null,
              "total": 1093,
              "unit": "it",
              "unit_divisor": 1000,
              "unit_scale": false
            },
            "application/vnd.jupyter.widget-view+json": {
              "model_id": "c7ef8698f1d54b1585014a30e10c2220",
              "version_major": 2,
              "version_minor": 0
            },
            "text/plain": [
              "  0%|          | 0/1093 [00:00<?, ?it/s]"
            ]
          },
          "metadata": {},
          "output_type": "display_data"
        },
        {
          "data": {
            "application/json": {
              "ascii": false,
              "bar_format": null,
              "colour": null,
              "elapsed": 0.02350640296936035,
              "initial": 0,
              "n": 0,
              "ncols": null,
              "nrows": 62,
              "postfix": null,
              "prefix": "",
              "rate": null,
              "total": 274,
              "unit": "it",
              "unit_divisor": 1000,
              "unit_scale": false
            },
            "application/vnd.jupyter.widget-view+json": {
              "model_id": "026117f73380485bbfd57cc9ec6d4e5f",
              "version_major": 2,
              "version_minor": 0
            },
            "text/plain": [
              "  0%|          | 0/274 [00:00<?, ?it/s]"
            ]
          },
          "metadata": {},
          "output_type": "display_data"
        },
        {
          "name": "stdout",
          "output_type": "stream",
          "text": [
            "Epoch : [1] Train Loss : [0.02738] Val Loss : [0.02023]\n",
            "Model Saved\n"
          ]
        },
        {
          "data": {
            "application/json": {
              "ascii": false,
              "bar_format": null,
              "colour": null,
              "elapsed": 0.024016380310058594,
              "initial": 0,
              "n": 0,
              "ncols": null,
              "nrows": 62,
              "postfix": null,
              "prefix": "",
              "rate": null,
              "total": 1093,
              "unit": "it",
              "unit_divisor": 1000,
              "unit_scale": false
            },
            "application/vnd.jupyter.widget-view+json": {
              "model_id": "9b6478511f20449e857772fb2060506e",
              "version_major": 2,
              "version_minor": 0
            },
            "text/plain": [
              "  0%|          | 0/1093 [00:00<?, ?it/s]"
            ]
          },
          "metadata": {},
          "output_type": "display_data"
        },
        {
          "data": {
            "application/json": {
              "ascii": false,
              "bar_format": null,
              "colour": null,
              "elapsed": 0.02359914779663086,
              "initial": 0,
              "n": 0,
              "ncols": null,
              "nrows": 62,
              "postfix": null,
              "prefix": "",
              "rate": null,
              "total": 274,
              "unit": "it",
              "unit_divisor": 1000,
              "unit_scale": false
            },
            "application/vnd.jupyter.widget-view+json": {
              "model_id": "350255b46e174e46ac73173135b06312",
              "version_major": 2,
              "version_minor": 0
            },
            "text/plain": [
              "  0%|          | 0/274 [00:00<?, ?it/s]"
            ]
          },
          "metadata": {},
          "output_type": "display_data"
        },
        {
          "name": "stdout",
          "output_type": "stream",
          "text": [
            "Epoch : [2] Train Loss : [0.01816] Val Loss : [0.01761]\n",
            "Model Saved\n"
          ]
        },
        {
          "data": {
            "application/json": {
              "ascii": false,
              "bar_format": null,
              "colour": null,
              "elapsed": 0.023323535919189453,
              "initial": 0,
              "n": 0,
              "ncols": null,
              "nrows": 62,
              "postfix": null,
              "prefix": "",
              "rate": null,
              "total": 1093,
              "unit": "it",
              "unit_divisor": 1000,
              "unit_scale": false
            },
            "application/vnd.jupyter.widget-view+json": {
              "model_id": "b9ab209703604043ac9b975521ba51aa",
              "version_major": 2,
              "version_minor": 0
            },
            "text/plain": [
              "  0%|          | 0/1093 [00:00<?, ?it/s]"
            ]
          },
          "metadata": {},
          "output_type": "display_data"
        },
        {
          "data": {
            "application/json": {
              "ascii": false,
              "bar_format": null,
              "colour": null,
              "elapsed": 0.023267269134521484,
              "initial": 0,
              "n": 0,
              "ncols": null,
              "nrows": 62,
              "postfix": null,
              "prefix": "",
              "rate": null,
              "total": 274,
              "unit": "it",
              "unit_divisor": 1000,
              "unit_scale": false
            },
            "application/vnd.jupyter.widget-view+json": {
              "model_id": "c184287167404c70af5a7e9d200f09f3",
              "version_major": 2,
              "version_minor": 0
            },
            "text/plain": [
              "  0%|          | 0/274 [00:00<?, ?it/s]"
            ]
          },
          "metadata": {},
          "output_type": "display_data"
        },
        {
          "name": "stdout",
          "output_type": "stream",
          "text": [
            "Epoch : [3] Train Loss : [0.01769] Val Loss : [0.01972]\n"
          ]
        },
        {
          "data": {
            "application/json": {
              "ascii": false,
              "bar_format": null,
              "colour": null,
              "elapsed": 0.02339005470275879,
              "initial": 0,
              "n": 0,
              "ncols": null,
              "nrows": 62,
              "postfix": null,
              "prefix": "",
              "rate": null,
              "total": 1093,
              "unit": "it",
              "unit_divisor": 1000,
              "unit_scale": false
            },
            "application/vnd.jupyter.widget-view+json": {
              "model_id": "ef60ec559d574b08ace07a6df1f2dc09",
              "version_major": 2,
              "version_minor": 0
            },
            "text/plain": [
              "  0%|          | 0/1093 [00:00<?, ?it/s]"
            ]
          },
          "metadata": {},
          "output_type": "display_data"
        },
        {
          "data": {
            "application/json": {
              "ascii": false,
              "bar_format": null,
              "colour": null,
              "elapsed": 0.023480653762817383,
              "initial": 0,
              "n": 0,
              "ncols": null,
              "nrows": 62,
              "postfix": null,
              "prefix": "",
              "rate": null,
              "total": 274,
              "unit": "it",
              "unit_divisor": 1000,
              "unit_scale": false
            },
            "application/vnd.jupyter.widget-view+json": {
              "model_id": "7e312c9defb44f889bf5e12fcc487e26",
              "version_major": 2,
              "version_minor": 0
            },
            "text/plain": [
              "  0%|          | 0/274 [00:00<?, ?it/s]"
            ]
          },
          "metadata": {},
          "output_type": "display_data"
        },
        {
          "name": "stdout",
          "output_type": "stream",
          "text": [
            "Epoch : [4] Train Loss : [0.01740] Val Loss : [0.01734]\n",
            "Model Saved\n"
          ]
        },
        {
          "data": {
            "application/json": {
              "ascii": false,
              "bar_format": null,
              "colour": null,
              "elapsed": 0.02346181869506836,
              "initial": 0,
              "n": 0,
              "ncols": null,
              "nrows": 62,
              "postfix": null,
              "prefix": "",
              "rate": null,
              "total": 1093,
              "unit": "it",
              "unit_divisor": 1000,
              "unit_scale": false
            },
            "application/vnd.jupyter.widget-view+json": {
              "model_id": "e6c1829dd04e41a9b497b2c4ea6fde09",
              "version_major": 2,
              "version_minor": 0
            },
            "text/plain": [
              "  0%|          | 0/1093 [00:00<?, ?it/s]"
            ]
          },
          "metadata": {},
          "output_type": "display_data"
        },
        {
          "data": {
            "application/json": {
              "ascii": false,
              "bar_format": null,
              "colour": null,
              "elapsed": 0.023648500442504883,
              "initial": 0,
              "n": 0,
              "ncols": null,
              "nrows": 62,
              "postfix": null,
              "prefix": "",
              "rate": null,
              "total": 274,
              "unit": "it",
              "unit_divisor": 1000,
              "unit_scale": false
            },
            "application/vnd.jupyter.widget-view+json": {
              "model_id": "66066009e3084135b2e378863ac16c4b",
              "version_major": 2,
              "version_minor": 0
            },
            "text/plain": [
              "  0%|          | 0/274 [00:00<?, ?it/s]"
            ]
          },
          "metadata": {},
          "output_type": "display_data"
        },
        {
          "name": "stdout",
          "output_type": "stream",
          "text": [
            "Epoch : [5] Train Loss : [0.01724] Val Loss : [0.01728]\n",
            "Model Saved\n"
          ]
        },
        {
          "data": {
            "application/json": {
              "ascii": false,
              "bar_format": null,
              "colour": null,
              "elapsed": 0.023372650146484375,
              "initial": 0,
              "n": 0,
              "ncols": null,
              "nrows": 62,
              "postfix": null,
              "prefix": "",
              "rate": null,
              "total": 1093,
              "unit": "it",
              "unit_divisor": 1000,
              "unit_scale": false
            },
            "application/vnd.jupyter.widget-view+json": {
              "model_id": "02ab6e17e66a48e085c1ebce8142afb4",
              "version_major": 2,
              "version_minor": 0
            },
            "text/plain": [
              "  0%|          | 0/1093 [00:00<?, ?it/s]"
            ]
          },
          "metadata": {},
          "output_type": "display_data"
        },
        {
          "data": {
            "application/json": {
              "ascii": false,
              "bar_format": null,
              "colour": null,
              "elapsed": 0.023182153701782227,
              "initial": 0,
              "n": 0,
              "ncols": null,
              "nrows": 62,
              "postfix": null,
              "prefix": "",
              "rate": null,
              "total": 274,
              "unit": "it",
              "unit_divisor": 1000,
              "unit_scale": false
            },
            "application/vnd.jupyter.widget-view+json": {
              "model_id": "e83f89e1b3af40a1ae9d7bc45852e402",
              "version_major": 2,
              "version_minor": 0
            },
            "text/plain": [
              "  0%|          | 0/274 [00:00<?, ?it/s]"
            ]
          },
          "metadata": {},
          "output_type": "display_data"
        },
        {
          "name": "stdout",
          "output_type": "stream",
          "text": [
            "Epoch : [6] Train Loss : [0.01701] Val Loss : [0.01666]\n",
            "Model Saved\n"
          ]
        },
        {
          "data": {
            "application/json": {
              "ascii": false,
              "bar_format": null,
              "colour": null,
              "elapsed": 0.02361893653869629,
              "initial": 0,
              "n": 0,
              "ncols": null,
              "nrows": 62,
              "postfix": null,
              "prefix": "",
              "rate": null,
              "total": 1093,
              "unit": "it",
              "unit_divisor": 1000,
              "unit_scale": false
            },
            "application/vnd.jupyter.widget-view+json": {
              "model_id": "ade32d00e03e4eb1a2060299994a68e9",
              "version_major": 2,
              "version_minor": 0
            },
            "text/plain": [
              "  0%|          | 0/1093 [00:00<?, ?it/s]"
            ]
          },
          "metadata": {},
          "output_type": "display_data"
        },
        {
          "data": {
            "application/json": {
              "ascii": false,
              "bar_format": null,
              "colour": null,
              "elapsed": 0.023624181747436523,
              "initial": 0,
              "n": 0,
              "ncols": null,
              "nrows": 62,
              "postfix": null,
              "prefix": "",
              "rate": null,
              "total": 274,
              "unit": "it",
              "unit_divisor": 1000,
              "unit_scale": false
            },
            "application/vnd.jupyter.widget-view+json": {
              "model_id": "86ad7347ebe346f18c02790a4052ed45",
              "version_major": 2,
              "version_minor": 0
            },
            "text/plain": [
              "  0%|          | 0/274 [00:00<?, ?it/s]"
            ]
          },
          "metadata": {},
          "output_type": "display_data"
        },
        {
          "name": "stdout",
          "output_type": "stream",
          "text": [
            "Epoch : [7] Train Loss : [0.01680] Val Loss : [0.01651]\n",
            "Model Saved\n"
          ]
        },
        {
          "data": {
            "application/json": {
              "ascii": false,
              "bar_format": null,
              "colour": null,
              "elapsed": 0.023563623428344727,
              "initial": 0,
              "n": 0,
              "ncols": null,
              "nrows": 62,
              "postfix": null,
              "prefix": "",
              "rate": null,
              "total": 1093,
              "unit": "it",
              "unit_divisor": 1000,
              "unit_scale": false
            },
            "application/vnd.jupyter.widget-view+json": {
              "model_id": "2522c340870646f1947a7163d6e7599b",
              "version_major": 2,
              "version_minor": 0
            },
            "text/plain": [
              "  0%|          | 0/1093 [00:00<?, ?it/s]"
            ]
          },
          "metadata": {},
          "output_type": "display_data"
        },
        {
          "data": {
            "application/json": {
              "ascii": false,
              "bar_format": null,
              "colour": null,
              "elapsed": 0.023714303970336914,
              "initial": 0,
              "n": 0,
              "ncols": null,
              "nrows": 62,
              "postfix": null,
              "prefix": "",
              "rate": null,
              "total": 274,
              "unit": "it",
              "unit_divisor": 1000,
              "unit_scale": false
            },
            "application/vnd.jupyter.widget-view+json": {
              "model_id": "1d7594a201c84181a38f37a8c9f886ac",
              "version_major": 2,
              "version_minor": 0
            },
            "text/plain": [
              "  0%|          | 0/274 [00:00<?, ?it/s]"
            ]
          },
          "metadata": {},
          "output_type": "display_data"
        },
        {
          "name": "stdout",
          "output_type": "stream",
          "text": [
            "Epoch : [8] Train Loss : [0.01659] Val Loss : [0.01669]\n"
          ]
        },
        {
          "data": {
            "application/json": {
              "ascii": false,
              "bar_format": null,
              "colour": null,
              "elapsed": 0.023497819900512695,
              "initial": 0,
              "n": 0,
              "ncols": null,
              "nrows": 62,
              "postfix": null,
              "prefix": "",
              "rate": null,
              "total": 1093,
              "unit": "it",
              "unit_divisor": 1000,
              "unit_scale": false
            },
            "application/vnd.jupyter.widget-view+json": {
              "model_id": "7d1c83e6a8404625ab746c14c60e63c0",
              "version_major": 2,
              "version_minor": 0
            },
            "text/plain": [
              "  0%|          | 0/1093 [00:00<?, ?it/s]"
            ]
          },
          "metadata": {},
          "output_type": "display_data"
        },
        {
          "data": {
            "application/json": {
              "ascii": false,
              "bar_format": null,
              "colour": null,
              "elapsed": 0.023504972457885742,
              "initial": 0,
              "n": 0,
              "ncols": null,
              "nrows": 62,
              "postfix": null,
              "prefix": "",
              "rate": null,
              "total": 274,
              "unit": "it",
              "unit_divisor": 1000,
              "unit_scale": false
            },
            "application/vnd.jupyter.widget-view+json": {
              "model_id": "8813171c317448f489e9f449552b4dd4",
              "version_major": 2,
              "version_minor": 0
            },
            "text/plain": [
              "  0%|          | 0/274 [00:00<?, ?it/s]"
            ]
          },
          "metadata": {},
          "output_type": "display_data"
        },
        {
          "name": "stdout",
          "output_type": "stream",
          "text": [
            "Epoch : [9] Train Loss : [0.01652] Val Loss : [0.01658]\n"
          ]
        },
        {
          "data": {
            "application/json": {
              "ascii": false,
              "bar_format": null,
              "colour": null,
              "elapsed": 0.023330211639404297,
              "initial": 0,
              "n": 0,
              "ncols": null,
              "nrows": 62,
              "postfix": null,
              "prefix": "",
              "rate": null,
              "total": 1093,
              "unit": "it",
              "unit_divisor": 1000,
              "unit_scale": false
            },
            "application/vnd.jupyter.widget-view+json": {
              "model_id": "c7b65c6d179e4aeca52efebf777afe50",
              "version_major": 2,
              "version_minor": 0
            },
            "text/plain": [
              "  0%|          | 0/1093 [00:00<?, ?it/s]"
            ]
          },
          "metadata": {},
          "output_type": "display_data"
        },
        {
          "data": {
            "application/json": {
              "ascii": false,
              "bar_format": null,
              "colour": null,
              "elapsed": 0.02336287498474121,
              "initial": 0,
              "n": 0,
              "ncols": null,
              "nrows": 62,
              "postfix": null,
              "prefix": "",
              "rate": null,
              "total": 274,
              "unit": "it",
              "unit_divisor": 1000,
              "unit_scale": false
            },
            "application/vnd.jupyter.widget-view+json": {
              "model_id": "7f660df071fd481b9ecf95c2cfebf3cf",
              "version_major": 2,
              "version_minor": 0
            },
            "text/plain": [
              "  0%|          | 0/274 [00:00<?, ?it/s]"
            ]
          },
          "metadata": {},
          "output_type": "display_data"
        },
        {
          "name": "stderr",
          "output_type": "stream",
          "text": [
            "[I 2023-08-26 11:43:44,631] Trial 1 finished with value: 0.01617041873481349 and parameters: {'LEARNING_RATE': 2.029682114810048e-05, 'DROP_OUT': 0.1972139255081414}. Best is trial 1 with value: 0.01617041873481349.\n"
          ]
        },
        {
          "name": "stdout",
          "output_type": "stream",
          "text": [
            "Epoch : [10] Train Loss : [0.01641] Val Loss : [0.01617]\n",
            "Model Saved\n"
          ]
        },
        {
          "data": {
            "application/json": {
              "ascii": false,
              "bar_format": null,
              "colour": null,
              "elapsed": 0.02404308319091797,
              "initial": 0,
              "n": 0,
              "ncols": null,
              "nrows": 62,
              "postfix": null,
              "prefix": "",
              "rate": null,
              "total": 1093,
              "unit": "it",
              "unit_divisor": 1000,
              "unit_scale": false
            },
            "application/vnd.jupyter.widget-view+json": {
              "model_id": "e21e727827eb4a6ab59aec41de4c0152",
              "version_major": 2,
              "version_minor": 0
            },
            "text/plain": [
              "  0%|          | 0/1093 [00:00<?, ?it/s]"
            ]
          },
          "metadata": {},
          "output_type": "display_data"
        },
        {
          "data": {
            "application/json": {
              "ascii": false,
              "bar_format": null,
              "colour": null,
              "elapsed": 0.023645877838134766,
              "initial": 0,
              "n": 0,
              "ncols": null,
              "nrows": 62,
              "postfix": null,
              "prefix": "",
              "rate": null,
              "total": 274,
              "unit": "it",
              "unit_divisor": 1000,
              "unit_scale": false
            },
            "application/vnd.jupyter.widget-view+json": {
              "model_id": "e0bd39b0093a4fcca0efacce36873eff",
              "version_major": 2,
              "version_minor": 0
            },
            "text/plain": [
              "  0%|          | 0/274 [00:00<?, ?it/s]"
            ]
          },
          "metadata": {},
          "output_type": "display_data"
        },
        {
          "name": "stdout",
          "output_type": "stream",
          "text": [
            "Epoch : [1] Train Loss : [0.03162] Val Loss : [0.03042]\n",
            "Model Saved\n"
          ]
        },
        {
          "data": {
            "application/json": {
              "ascii": false,
              "bar_format": null,
              "colour": null,
              "elapsed": 0.024318695068359375,
              "initial": 0,
              "n": 0,
              "ncols": null,
              "nrows": 62,
              "postfix": null,
              "prefix": "",
              "rate": null,
              "total": 1093,
              "unit": "it",
              "unit_divisor": 1000,
              "unit_scale": false
            },
            "application/vnd.jupyter.widget-view+json": {
              "model_id": "aa37d3d5cbab4da0bb465d98ebdfc6d0",
              "version_major": 2,
              "version_minor": 0
            },
            "text/plain": [
              "  0%|          | 0/1093 [00:00<?, ?it/s]"
            ]
          },
          "metadata": {},
          "output_type": "display_data"
        },
        {
          "data": {
            "application/json": {
              "ascii": false,
              "bar_format": null,
              "colour": null,
              "elapsed": 0.023354053497314453,
              "initial": 0,
              "n": 0,
              "ncols": null,
              "nrows": 62,
              "postfix": null,
              "prefix": "",
              "rate": null,
              "total": 274,
              "unit": "it",
              "unit_divisor": 1000,
              "unit_scale": false
            },
            "application/vnd.jupyter.widget-view+json": {
              "model_id": "faeddfbf566c45f7874ef703649bace1",
              "version_major": 2,
              "version_minor": 0
            },
            "text/plain": [
              "  0%|          | 0/274 [00:00<?, ?it/s]"
            ]
          },
          "metadata": {},
          "output_type": "display_data"
        },
        {
          "name": "stdout",
          "output_type": "stream",
          "text": [
            "Epoch : [2] Train Loss : [0.02884] Val Loss : [0.05929]\n"
          ]
        },
        {
          "data": {
            "application/json": {
              "ascii": false,
              "bar_format": null,
              "colour": null,
              "elapsed": 0.024030685424804688,
              "initial": 0,
              "n": 0,
              "ncols": null,
              "nrows": 62,
              "postfix": null,
              "prefix": "",
              "rate": null,
              "total": 1093,
              "unit": "it",
              "unit_divisor": 1000,
              "unit_scale": false
            },
            "application/vnd.jupyter.widget-view+json": {
              "model_id": "12d67a82b0d04fc69ebf5ae2cbe896bb",
              "version_major": 2,
              "version_minor": 0
            },
            "text/plain": [
              "  0%|          | 0/1093 [00:00<?, ?it/s]"
            ]
          },
          "metadata": {},
          "output_type": "display_data"
        },
        {
          "data": {
            "application/json": {
              "ascii": false,
              "bar_format": null,
              "colour": null,
              "elapsed": 0.023648500442504883,
              "initial": 0,
              "n": 0,
              "ncols": null,
              "nrows": 62,
              "postfix": null,
              "prefix": "",
              "rate": null,
              "total": 274,
              "unit": "it",
              "unit_divisor": 1000,
              "unit_scale": false
            },
            "application/vnd.jupyter.widget-view+json": {
              "model_id": "f4e5c9fbcdb74c02b57ffd2c9170747e",
              "version_major": 2,
              "version_minor": 0
            },
            "text/plain": [
              "  0%|          | 0/274 [00:00<?, ?it/s]"
            ]
          },
          "metadata": {},
          "output_type": "display_data"
        },
        {
          "name": "stdout",
          "output_type": "stream",
          "text": [
            "Epoch : [3] Train Loss : [0.02224] Val Loss : [0.01914]\n",
            "Model Saved\n"
          ]
        },
        {
          "data": {
            "application/json": {
              "ascii": false,
              "bar_format": null,
              "colour": null,
              "elapsed": 0.02389812469482422,
              "initial": 0,
              "n": 0,
              "ncols": null,
              "nrows": 62,
              "postfix": null,
              "prefix": "",
              "rate": null,
              "total": 1093,
              "unit": "it",
              "unit_divisor": 1000,
              "unit_scale": false
            },
            "application/vnd.jupyter.widget-view+json": {
              "model_id": "30ba52aab3d34f74815417f11533ea84",
              "version_major": 2,
              "version_minor": 0
            },
            "text/plain": [
              "  0%|          | 0/1093 [00:00<?, ?it/s]"
            ]
          },
          "metadata": {},
          "output_type": "display_data"
        },
        {
          "data": {
            "application/json": {
              "ascii": false,
              "bar_format": null,
              "colour": null,
              "elapsed": 0.023225069046020508,
              "initial": 0,
              "n": 0,
              "ncols": null,
              "nrows": 62,
              "postfix": null,
              "prefix": "",
              "rate": null,
              "total": 274,
              "unit": "it",
              "unit_divisor": 1000,
              "unit_scale": false
            },
            "application/vnd.jupyter.widget-view+json": {
              "model_id": "25e884c09de343cfb1e67fc384c15804",
              "version_major": 2,
              "version_minor": 0
            },
            "text/plain": [
              "  0%|          | 0/274 [00:00<?, ?it/s]"
            ]
          },
          "metadata": {},
          "output_type": "display_data"
        },
        {
          "name": "stdout",
          "output_type": "stream",
          "text": [
            "Epoch : [4] Train Loss : [0.01717] Val Loss : [0.01740]\n",
            "Model Saved\n"
          ]
        },
        {
          "data": {
            "application/json": {
              "ascii": false,
              "bar_format": null,
              "colour": null,
              "elapsed": 0.023560047149658203,
              "initial": 0,
              "n": 0,
              "ncols": null,
              "nrows": 62,
              "postfix": null,
              "prefix": "",
              "rate": null,
              "total": 1093,
              "unit": "it",
              "unit_divisor": 1000,
              "unit_scale": false
            },
            "application/vnd.jupyter.widget-view+json": {
              "model_id": "afb08c604c9f4785ab5e4376165a514c",
              "version_major": 2,
              "version_minor": 0
            },
            "text/plain": [
              "  0%|          | 0/1093 [00:00<?, ?it/s]"
            ]
          },
          "metadata": {},
          "output_type": "display_data"
        },
        {
          "data": {
            "application/json": {
              "ascii": false,
              "bar_format": null,
              "colour": null,
              "elapsed": 0.023405075073242188,
              "initial": 0,
              "n": 0,
              "ncols": null,
              "nrows": 62,
              "postfix": null,
              "prefix": "",
              "rate": null,
              "total": 274,
              "unit": "it",
              "unit_divisor": 1000,
              "unit_scale": false
            },
            "application/vnd.jupyter.widget-view+json": {
              "model_id": "06758f61ca14498184e467808d593020",
              "version_major": 2,
              "version_minor": 0
            },
            "text/plain": [
              "  0%|          | 0/274 [00:00<?, ?it/s]"
            ]
          },
          "metadata": {},
          "output_type": "display_data"
        },
        {
          "name": "stdout",
          "output_type": "stream",
          "text": [
            "Epoch : [5] Train Loss : [0.01667] Val Loss : [0.01640]\n",
            "Model Saved\n"
          ]
        },
        {
          "data": {
            "application/json": {
              "ascii": false,
              "bar_format": null,
              "colour": null,
              "elapsed": 0.023670196533203125,
              "initial": 0,
              "n": 0,
              "ncols": null,
              "nrows": 62,
              "postfix": null,
              "prefix": "",
              "rate": null,
              "total": 1093,
              "unit": "it",
              "unit_divisor": 1000,
              "unit_scale": false
            },
            "application/vnd.jupyter.widget-view+json": {
              "model_id": "11865039d69241c0979ab8b2cf0d68e3",
              "version_major": 2,
              "version_minor": 0
            },
            "text/plain": [
              "  0%|          | 0/1093 [00:00<?, ?it/s]"
            ]
          },
          "metadata": {},
          "output_type": "display_data"
        },
        {
          "data": {
            "application/json": {
              "ascii": false,
              "bar_format": null,
              "colour": null,
              "elapsed": 0.023476839065551758,
              "initial": 0,
              "n": 0,
              "ncols": null,
              "nrows": 62,
              "postfix": null,
              "prefix": "",
              "rate": null,
              "total": 274,
              "unit": "it",
              "unit_divisor": 1000,
              "unit_scale": false
            },
            "application/vnd.jupyter.widget-view+json": {
              "model_id": "28560b0301424e3d9f941bf3911cfb7d",
              "version_major": 2,
              "version_minor": 0
            },
            "text/plain": [
              "  0%|          | 0/274 [00:00<?, ?it/s]"
            ]
          },
          "metadata": {},
          "output_type": "display_data"
        },
        {
          "name": "stdout",
          "output_type": "stream",
          "text": [
            "Epoch : [6] Train Loss : [0.01646] Val Loss : [0.01755]\n"
          ]
        },
        {
          "data": {
            "application/json": {
              "ascii": false,
              "bar_format": null,
              "colour": null,
              "elapsed": 0.023365020751953125,
              "initial": 0,
              "n": 0,
              "ncols": null,
              "nrows": 62,
              "postfix": null,
              "prefix": "",
              "rate": null,
              "total": 1093,
              "unit": "it",
              "unit_divisor": 1000,
              "unit_scale": false
            },
            "application/vnd.jupyter.widget-view+json": {
              "model_id": "62f26a1f75bb4054ab9c91d60eb8fd5d",
              "version_major": 2,
              "version_minor": 0
            },
            "text/plain": [
              "  0%|          | 0/1093 [00:00<?, ?it/s]"
            ]
          },
          "metadata": {},
          "output_type": "display_data"
        },
        {
          "data": {
            "application/json": {
              "ascii": false,
              "bar_format": null,
              "colour": null,
              "elapsed": 0.023512840270996094,
              "initial": 0,
              "n": 0,
              "ncols": null,
              "nrows": 62,
              "postfix": null,
              "prefix": "",
              "rate": null,
              "total": 274,
              "unit": "it",
              "unit_divisor": 1000,
              "unit_scale": false
            },
            "application/vnd.jupyter.widget-view+json": {
              "model_id": "b62467c48830497ea335536ac68638b7",
              "version_major": 2,
              "version_minor": 0
            },
            "text/plain": [
              "  0%|          | 0/274 [00:00<?, ?it/s]"
            ]
          },
          "metadata": {},
          "output_type": "display_data"
        },
        {
          "name": "stdout",
          "output_type": "stream",
          "text": [
            "Epoch : [7] Train Loss : [0.01626] Val Loss : [0.01625]\n",
            "Model Saved\n"
          ]
        },
        {
          "data": {
            "application/json": {
              "ascii": false,
              "bar_format": null,
              "colour": null,
              "elapsed": 0.024040937423706055,
              "initial": 0,
              "n": 0,
              "ncols": null,
              "nrows": 62,
              "postfix": null,
              "prefix": "",
              "rate": null,
              "total": 1093,
              "unit": "it",
              "unit_divisor": 1000,
              "unit_scale": false
            },
            "application/vnd.jupyter.widget-view+json": {
              "model_id": "b4820277129244e0a5588d055f10b9a3",
              "version_major": 2,
              "version_minor": 0
            },
            "text/plain": [
              "  0%|          | 0/1093 [00:00<?, ?it/s]"
            ]
          },
          "metadata": {},
          "output_type": "display_data"
        },
        {
          "data": {
            "application/json": {
              "ascii": false,
              "bar_format": null,
              "colour": null,
              "elapsed": 0.02311229705810547,
              "initial": 0,
              "n": 0,
              "ncols": null,
              "nrows": 62,
              "postfix": null,
              "prefix": "",
              "rate": null,
              "total": 274,
              "unit": "it",
              "unit_divisor": 1000,
              "unit_scale": false
            },
            "application/vnd.jupyter.widget-view+json": {
              "model_id": "877fd40e36e14340a26daa4a023f98fc",
              "version_major": 2,
              "version_minor": 0
            },
            "text/plain": [
              "  0%|          | 0/274 [00:00<?, ?it/s]"
            ]
          },
          "metadata": {},
          "output_type": "display_data"
        },
        {
          "name": "stdout",
          "output_type": "stream",
          "text": [
            "Epoch : [8] Train Loss : [0.01597] Val Loss : [0.01854]\n"
          ]
        },
        {
          "data": {
            "application/json": {
              "ascii": false,
              "bar_format": null,
              "colour": null,
              "elapsed": 0.023232221603393555,
              "initial": 0,
              "n": 0,
              "ncols": null,
              "nrows": 62,
              "postfix": null,
              "prefix": "",
              "rate": null,
              "total": 1093,
              "unit": "it",
              "unit_divisor": 1000,
              "unit_scale": false
            },
            "application/vnd.jupyter.widget-view+json": {
              "model_id": "c2fbb091b31e42a1886deac54eb62717",
              "version_major": 2,
              "version_minor": 0
            },
            "text/plain": [
              "  0%|          | 0/1093 [00:00<?, ?it/s]"
            ]
          },
          "metadata": {},
          "output_type": "display_data"
        },
        {
          "data": {
            "application/json": {
              "ascii": false,
              "bar_format": null,
              "colour": null,
              "elapsed": 0.02338695526123047,
              "initial": 0,
              "n": 0,
              "ncols": null,
              "nrows": 62,
              "postfix": null,
              "prefix": "",
              "rate": null,
              "total": 274,
              "unit": "it",
              "unit_divisor": 1000,
              "unit_scale": false
            },
            "application/vnd.jupyter.widget-view+json": {
              "model_id": "5b4b5c626c7b47aa8890f0c050a47556",
              "version_major": 2,
              "version_minor": 0
            },
            "text/plain": [
              "  0%|          | 0/274 [00:00<?, ?it/s]"
            ]
          },
          "metadata": {},
          "output_type": "display_data"
        },
        {
          "name": "stdout",
          "output_type": "stream",
          "text": [
            "Epoch : [9] Train Loss : [0.01579] Val Loss : [0.01555]\n",
            "Model Saved\n"
          ]
        },
        {
          "data": {
            "application/json": {
              "ascii": false,
              "bar_format": null,
              "colour": null,
              "elapsed": 0.023805618286132812,
              "initial": 0,
              "n": 0,
              "ncols": null,
              "nrows": 62,
              "postfix": null,
              "prefix": "",
              "rate": null,
              "total": 1093,
              "unit": "it",
              "unit_divisor": 1000,
              "unit_scale": false
            },
            "application/vnd.jupyter.widget-view+json": {
              "model_id": "30a48828679b4e75a824d78b19e09e03",
              "version_major": 2,
              "version_minor": 0
            },
            "text/plain": [
              "  0%|          | 0/1093 [00:00<?, ?it/s]"
            ]
          },
          "metadata": {},
          "output_type": "display_data"
        },
        {
          "data": {
            "application/json": {
              "ascii": false,
              "bar_format": null,
              "colour": null,
              "elapsed": 0.0233762264251709,
              "initial": 0,
              "n": 0,
              "ncols": null,
              "nrows": 62,
              "postfix": null,
              "prefix": "",
              "rate": null,
              "total": 274,
              "unit": "it",
              "unit_divisor": 1000,
              "unit_scale": false
            },
            "application/vnd.jupyter.widget-view+json": {
              "model_id": "6e3de1ba9ad949e2a35a04a38ac53c6f",
              "version_major": 2,
              "version_minor": 0
            },
            "text/plain": [
              "  0%|          | 0/274 [00:00<?, ?it/s]"
            ]
          },
          "metadata": {},
          "output_type": "display_data"
        },
        {
          "name": "stderr",
          "output_type": "stream",
          "text": [
            "[I 2023-08-26 12:49:15,364] Trial 2 finished with value: 0.015364208438622351 and parameters: {'LEARNING_RATE': 4.881473805115613e-05, 'DROP_OUT': 0.15767564096168896}. Best is trial 2 with value: 0.015364208438622351.\n"
          ]
        },
        {
          "name": "stdout",
          "output_type": "stream",
          "text": [
            "Epoch : [10] Train Loss : [0.01556] Val Loss : [0.01536]\n",
            "Model Saved\n"
          ]
        },
        {
          "data": {
            "application/json": {
              "ascii": false,
              "bar_format": null,
              "colour": null,
              "elapsed": 0.02428293228149414,
              "initial": 0,
              "n": 0,
              "ncols": null,
              "nrows": 62,
              "postfix": null,
              "prefix": "",
              "rate": null,
              "total": 1093,
              "unit": "it",
              "unit_divisor": 1000,
              "unit_scale": false
            },
            "application/vnd.jupyter.widget-view+json": {
              "model_id": "a414450669eb4b69b69eda4a7d803869",
              "version_major": 2,
              "version_minor": 0
            },
            "text/plain": [
              "  0%|          | 0/1093 [00:00<?, ?it/s]"
            ]
          },
          "metadata": {},
          "output_type": "display_data"
        },
        {
          "data": {
            "application/json": {
              "ascii": false,
              "bar_format": null,
              "colour": null,
              "elapsed": 0.023329496383666992,
              "initial": 0,
              "n": 0,
              "ncols": null,
              "nrows": 62,
              "postfix": null,
              "prefix": "",
              "rate": null,
              "total": 274,
              "unit": "it",
              "unit_divisor": 1000,
              "unit_scale": false
            },
            "application/vnd.jupyter.widget-view+json": {
              "model_id": "4dfe95873622494ab06f0bab6c7c2b56",
              "version_major": 2,
              "version_minor": 0
            },
            "text/plain": [
              "  0%|          | 0/274 [00:00<?, ?it/s]"
            ]
          },
          "metadata": {},
          "output_type": "display_data"
        },
        {
          "name": "stdout",
          "output_type": "stream",
          "text": [
            "Epoch : [1] Train Loss : [0.02957] Val Loss : [0.02382]\n",
            "Model Saved\n"
          ]
        },
        {
          "data": {
            "application/json": {
              "ascii": false,
              "bar_format": null,
              "colour": null,
              "elapsed": 0.023395776748657227,
              "initial": 0,
              "n": 0,
              "ncols": null,
              "nrows": 62,
              "postfix": null,
              "prefix": "",
              "rate": null,
              "total": 1093,
              "unit": "it",
              "unit_divisor": 1000,
              "unit_scale": false
            },
            "application/vnd.jupyter.widget-view+json": {
              "model_id": "660b4f8ed77448eaab33af22eace3cb7",
              "version_major": 2,
              "version_minor": 0
            },
            "text/plain": [
              "  0%|          | 0/1093 [00:00<?, ?it/s]"
            ]
          },
          "metadata": {},
          "output_type": "display_data"
        },
        {
          "data": {
            "application/json": {
              "ascii": false,
              "bar_format": null,
              "colour": null,
              "elapsed": 0.023613691329956055,
              "initial": 0,
              "n": 0,
              "ncols": null,
              "nrows": 62,
              "postfix": null,
              "prefix": "",
              "rate": null,
              "total": 274,
              "unit": "it",
              "unit_divisor": 1000,
              "unit_scale": false
            },
            "application/vnd.jupyter.widget-view+json": {
              "model_id": "41a5a99c81164d27a2abc7c208381061",
              "version_major": 2,
              "version_minor": 0
            },
            "text/plain": [
              "  0%|          | 0/274 [00:00<?, ?it/s]"
            ]
          },
          "metadata": {},
          "output_type": "display_data"
        },
        {
          "name": "stdout",
          "output_type": "stream",
          "text": [
            "Epoch : [2] Train Loss : [0.01908] Val Loss : [0.02191]\n",
            "Model Saved\n"
          ]
        },
        {
          "data": {
            "application/json": {
              "ascii": false,
              "bar_format": null,
              "colour": null,
              "elapsed": 0.02338695526123047,
              "initial": 0,
              "n": 0,
              "ncols": null,
              "nrows": 62,
              "postfix": null,
              "prefix": "",
              "rate": null,
              "total": 1093,
              "unit": "it",
              "unit_divisor": 1000,
              "unit_scale": false
            },
            "application/vnd.jupyter.widget-view+json": {
              "model_id": "2ea8c2d117dc4181b645bc3660c74663",
              "version_major": 2,
              "version_minor": 0
            },
            "text/plain": [
              "  0%|          | 0/1093 [00:00<?, ?it/s]"
            ]
          },
          "metadata": {},
          "output_type": "display_data"
        },
        {
          "data": {
            "application/json": {
              "ascii": false,
              "bar_format": null,
              "colour": null,
              "elapsed": 0.02346038818359375,
              "initial": 0,
              "n": 0,
              "ncols": null,
              "nrows": 62,
              "postfix": null,
              "prefix": "",
              "rate": null,
              "total": 274,
              "unit": "it",
              "unit_divisor": 1000,
              "unit_scale": false
            },
            "application/vnd.jupyter.widget-view+json": {
              "model_id": "676ae3434c984ef98b616b13a17bb09b",
              "version_major": 2,
              "version_minor": 0
            },
            "text/plain": [
              "  0%|          | 0/274 [00:00<?, ?it/s]"
            ]
          },
          "metadata": {},
          "output_type": "display_data"
        },
        {
          "name": "stdout",
          "output_type": "stream",
          "text": [
            "Epoch : [3] Train Loss : [0.01814] Val Loss : [0.01869]\n",
            "Model Saved\n"
          ]
        },
        {
          "data": {
            "application/json": {
              "ascii": false,
              "bar_format": null,
              "colour": null,
              "elapsed": 0.023942947387695312,
              "initial": 0,
              "n": 0,
              "ncols": null,
              "nrows": 62,
              "postfix": null,
              "prefix": "",
              "rate": null,
              "total": 1093,
              "unit": "it",
              "unit_divisor": 1000,
              "unit_scale": false
            },
            "application/vnd.jupyter.widget-view+json": {
              "model_id": "9d51e4a5347745f991d1a9665dc418ac",
              "version_major": 2,
              "version_minor": 0
            },
            "text/plain": [
              "  0%|          | 0/1093 [00:00<?, ?it/s]"
            ]
          },
          "metadata": {},
          "output_type": "display_data"
        },
        {
          "data": {
            "application/json": {
              "ascii": false,
              "bar_format": null,
              "colour": null,
              "elapsed": 0.023344039916992188,
              "initial": 0,
              "n": 0,
              "ncols": null,
              "nrows": 62,
              "postfix": null,
              "prefix": "",
              "rate": null,
              "total": 274,
              "unit": "it",
              "unit_divisor": 1000,
              "unit_scale": false
            },
            "application/vnd.jupyter.widget-view+json": {
              "model_id": "42d61ca109dd499f9b18289db474db31",
              "version_major": 2,
              "version_minor": 0
            },
            "text/plain": [
              "  0%|          | 0/274 [00:00<?, ?it/s]"
            ]
          },
          "metadata": {},
          "output_type": "display_data"
        },
        {
          "name": "stdout",
          "output_type": "stream",
          "text": [
            "Epoch : [4] Train Loss : [0.01777] Val Loss : [0.02206]\n"
          ]
        },
        {
          "data": {
            "application/json": {
              "ascii": false,
              "bar_format": null,
              "colour": null,
              "elapsed": 0.023262500762939453,
              "initial": 0,
              "n": 0,
              "ncols": null,
              "nrows": 62,
              "postfix": null,
              "prefix": "",
              "rate": null,
              "total": 1093,
              "unit": "it",
              "unit_divisor": 1000,
              "unit_scale": false
            },
            "application/vnd.jupyter.widget-view+json": {
              "model_id": "3039b11d72c54bfb9fcb41a34e2a570d",
              "version_major": 2,
              "version_minor": 0
            },
            "text/plain": [
              "  0%|          | 0/1093 [00:00<?, ?it/s]"
            ]
          },
          "metadata": {},
          "output_type": "display_data"
        },
        {
          "data": {
            "application/json": {
              "ascii": false,
              "bar_format": null,
              "colour": null,
              "elapsed": 0.023545503616333008,
              "initial": 0,
              "n": 0,
              "ncols": null,
              "nrows": 62,
              "postfix": null,
              "prefix": "",
              "rate": null,
              "total": 274,
              "unit": "it",
              "unit_divisor": 1000,
              "unit_scale": false
            },
            "application/vnd.jupyter.widget-view+json": {
              "model_id": "da5c811a247249a0b5789aec09e4eac1",
              "version_major": 2,
              "version_minor": 0
            },
            "text/plain": [
              "  0%|          | 0/274 [00:00<?, ?it/s]"
            ]
          },
          "metadata": {},
          "output_type": "display_data"
        },
        {
          "name": "stdout",
          "output_type": "stream",
          "text": [
            "Epoch : [5] Train Loss : [0.01764] Val Loss : [0.01802]\n",
            "Model Saved\n"
          ]
        },
        {
          "data": {
            "application/json": {
              "ascii": false,
              "bar_format": null,
              "colour": null,
              "elapsed": 0.023366451263427734,
              "initial": 0,
              "n": 0,
              "ncols": null,
              "nrows": 62,
              "postfix": null,
              "prefix": "",
              "rate": null,
              "total": 1093,
              "unit": "it",
              "unit_divisor": 1000,
              "unit_scale": false
            },
            "application/vnd.jupyter.widget-view+json": {
              "model_id": "20d34e022f2146d789f863fd2fc3cb83",
              "version_major": 2,
              "version_minor": 0
            },
            "text/plain": [
              "  0%|          | 0/1093 [00:00<?, ?it/s]"
            ]
          },
          "metadata": {},
          "output_type": "display_data"
        },
        {
          "data": {
            "application/json": {
              "ascii": false,
              "bar_format": null,
              "colour": null,
              "elapsed": 0.023603439331054688,
              "initial": 0,
              "n": 0,
              "ncols": null,
              "nrows": 62,
              "postfix": null,
              "prefix": "",
              "rate": null,
              "total": 274,
              "unit": "it",
              "unit_divisor": 1000,
              "unit_scale": false
            },
            "application/vnd.jupyter.widget-view+json": {
              "model_id": "1a9d3121d5734897bf1fa034a1b036f5",
              "version_major": 2,
              "version_minor": 0
            },
            "text/plain": [
              "  0%|          | 0/274 [00:00<?, ?it/s]"
            ]
          },
          "metadata": {},
          "output_type": "display_data"
        },
        {
          "name": "stdout",
          "output_type": "stream",
          "text": [
            "Epoch : [6] Train Loss : [0.01746] Val Loss : [0.01778]\n",
            "Model Saved\n"
          ]
        },
        {
          "data": {
            "application/json": {
              "ascii": false,
              "bar_format": null,
              "colour": null,
              "elapsed": 0.02348160743713379,
              "initial": 0,
              "n": 0,
              "ncols": null,
              "nrows": 62,
              "postfix": null,
              "prefix": "",
              "rate": null,
              "total": 1093,
              "unit": "it",
              "unit_divisor": 1000,
              "unit_scale": false
            },
            "application/vnd.jupyter.widget-view+json": {
              "model_id": "450f45eeb0a7415eac7237f30379b3bf",
              "version_major": 2,
              "version_minor": 0
            },
            "text/plain": [
              "  0%|          | 0/1093 [00:00<?, ?it/s]"
            ]
          },
          "metadata": {},
          "output_type": "display_data"
        },
        {
          "data": {
            "application/json": {
              "ascii": false,
              "bar_format": null,
              "colour": null,
              "elapsed": 0.02373671531677246,
              "initial": 0,
              "n": 0,
              "ncols": null,
              "nrows": 62,
              "postfix": null,
              "prefix": "",
              "rate": null,
              "total": 274,
              "unit": "it",
              "unit_divisor": 1000,
              "unit_scale": false
            },
            "application/vnd.jupyter.widget-view+json": {
              "model_id": "3c54ae1886b143eea970d565038251f0",
              "version_major": 2,
              "version_minor": 0
            },
            "text/plain": [
              "  0%|          | 0/274 [00:00<?, ?it/s]"
            ]
          },
          "metadata": {},
          "output_type": "display_data"
        },
        {
          "name": "stdout",
          "output_type": "stream",
          "text": [
            "Epoch : [7] Train Loss : [0.01731] Val Loss : [0.01808]\n"
          ]
        },
        {
          "data": {
            "application/json": {
              "ascii": false,
              "bar_format": null,
              "colour": null,
              "elapsed": 0.023932933807373047,
              "initial": 0,
              "n": 0,
              "ncols": null,
              "nrows": 62,
              "postfix": null,
              "prefix": "",
              "rate": null,
              "total": 1093,
              "unit": "it",
              "unit_divisor": 1000,
              "unit_scale": false
            },
            "application/vnd.jupyter.widget-view+json": {
              "model_id": "02c73771a7f942998aba3b8662aa4e69",
              "version_major": 2,
              "version_minor": 0
            },
            "text/plain": [
              "  0%|          | 0/1093 [00:00<?, ?it/s]"
            ]
          },
          "metadata": {},
          "output_type": "display_data"
        },
        {
          "data": {
            "application/json": {
              "ascii": false,
              "bar_format": null,
              "colour": null,
              "elapsed": 0.023180007934570312,
              "initial": 0,
              "n": 0,
              "ncols": null,
              "nrows": 62,
              "postfix": null,
              "prefix": "",
              "rate": null,
              "total": 274,
              "unit": "it",
              "unit_divisor": 1000,
              "unit_scale": false
            },
            "application/vnd.jupyter.widget-view+json": {
              "model_id": "6e9c80c49c084bcba01f076b07ea1a38",
              "version_major": 2,
              "version_minor": 0
            },
            "text/plain": [
              "  0%|          | 0/274 [00:00<?, ?it/s]"
            ]
          },
          "metadata": {},
          "output_type": "display_data"
        },
        {
          "name": "stdout",
          "output_type": "stream",
          "text": [
            "Epoch : [8] Train Loss : [0.01722] Val Loss : [0.01742]\n",
            "Model Saved\n"
          ]
        },
        {
          "data": {
            "application/json": {
              "ascii": false,
              "bar_format": null,
              "colour": null,
              "elapsed": 0.023317813873291016,
              "initial": 0,
              "n": 0,
              "ncols": null,
              "nrows": 62,
              "postfix": null,
              "prefix": "",
              "rate": null,
              "total": 1093,
              "unit": "it",
              "unit_divisor": 1000,
              "unit_scale": false
            },
            "application/vnd.jupyter.widget-view+json": {
              "model_id": "f274760b788242d9b4de64920856e1d3",
              "version_major": 2,
              "version_minor": 0
            },
            "text/plain": [
              "  0%|          | 0/1093 [00:00<?, ?it/s]"
            ]
          },
          "metadata": {},
          "output_type": "display_data"
        },
        {
          "data": {
            "application/json": {
              "ascii": false,
              "bar_format": null,
              "colour": null,
              "elapsed": 0.023349285125732422,
              "initial": 0,
              "n": 0,
              "ncols": null,
              "nrows": 62,
              "postfix": null,
              "prefix": "",
              "rate": null,
              "total": 274,
              "unit": "it",
              "unit_divisor": 1000,
              "unit_scale": false
            },
            "application/vnd.jupyter.widget-view+json": {
              "model_id": "311ac5a7cde34987962318fc675f94e4",
              "version_major": 2,
              "version_minor": 0
            },
            "text/plain": [
              "  0%|          | 0/274 [00:00<?, ?it/s]"
            ]
          },
          "metadata": {},
          "output_type": "display_data"
        },
        {
          "name": "stdout",
          "output_type": "stream",
          "text": [
            "Epoch : [9] Train Loss : [0.01705] Val Loss : [0.01731]\n",
            "Model Saved\n"
          ]
        },
        {
          "data": {
            "application/json": {
              "ascii": false,
              "bar_format": null,
              "colour": null,
              "elapsed": 0.024085283279418945,
              "initial": 0,
              "n": 0,
              "ncols": null,
              "nrows": 62,
              "postfix": null,
              "prefix": "",
              "rate": null,
              "total": 1093,
              "unit": "it",
              "unit_divisor": 1000,
              "unit_scale": false
            },
            "application/vnd.jupyter.widget-view+json": {
              "model_id": "fc151cad8fc744958f3917f0b4fb8738",
              "version_major": 2,
              "version_minor": 0
            },
            "text/plain": [
              "  0%|          | 0/1093 [00:00<?, ?it/s]"
            ]
          },
          "metadata": {},
          "output_type": "display_data"
        },
        {
          "data": {
            "application/json": {
              "ascii": false,
              "bar_format": null,
              "colour": null,
              "elapsed": 0.0233304500579834,
              "initial": 0,
              "n": 0,
              "ncols": null,
              "nrows": 62,
              "postfix": null,
              "prefix": "",
              "rate": null,
              "total": 274,
              "unit": "it",
              "unit_divisor": 1000,
              "unit_scale": false
            },
            "application/vnd.jupyter.widget-view+json": {
              "model_id": "a7227b6d0989406bb194835006d51925",
              "version_major": 2,
              "version_minor": 0
            },
            "text/plain": [
              "  0%|          | 0/274 [00:00<?, ?it/s]"
            ]
          },
          "metadata": {},
          "output_type": "display_data"
        },
        {
          "name": "stderr",
          "output_type": "stream",
          "text": [
            "[I 2023-08-26 13:54:49,501] Trial 3 finished with value: 0.01731095909027138 and parameters: {'LEARNING_RATE': 1.70316950980077e-05, 'DROP_OUT': 0.24568472702491545}. Best is trial 2 with value: 0.015364208438622351.\n"
          ]
        },
        {
          "name": "stdout",
          "output_type": "stream",
          "text": [
            "Epoch : [10] Train Loss : [0.01696] Val Loss : [0.01755]\n"
          ]
        },
        {
          "data": {
            "application/json": {
              "ascii": false,
              "bar_format": null,
              "colour": null,
              "elapsed": 0.023854494094848633,
              "initial": 0,
              "n": 0,
              "ncols": null,
              "nrows": 62,
              "postfix": null,
              "prefix": "",
              "rate": null,
              "total": 1093,
              "unit": "it",
              "unit_divisor": 1000,
              "unit_scale": false
            },
            "application/vnd.jupyter.widget-view+json": {
              "model_id": "f3a68585dde841cb888b4ade30dfb879",
              "version_major": 2,
              "version_minor": 0
            },
            "text/plain": [
              "  0%|          | 0/1093 [00:00<?, ?it/s]"
            ]
          },
          "metadata": {},
          "output_type": "display_data"
        },
        {
          "data": {
            "application/json": {
              "ascii": false,
              "bar_format": null,
              "colour": null,
              "elapsed": 0.023332834243774414,
              "initial": 0,
              "n": 0,
              "ncols": null,
              "nrows": 62,
              "postfix": null,
              "prefix": "",
              "rate": null,
              "total": 274,
              "unit": "it",
              "unit_divisor": 1000,
              "unit_scale": false
            },
            "application/vnd.jupyter.widget-view+json": {
              "model_id": "9751eae496ec408ba4ee75db1c1dc2bb",
              "version_major": 2,
              "version_minor": 0
            },
            "text/plain": [
              "  0%|          | 0/274 [00:00<?, ?it/s]"
            ]
          },
          "metadata": {},
          "output_type": "display_data"
        },
        {
          "name": "stdout",
          "output_type": "stream",
          "text": [
            "Epoch : [1] Train Loss : [0.03040] Val Loss : [0.02481]\n",
            "Model Saved\n"
          ]
        },
        {
          "data": {
            "application/json": {
              "ascii": false,
              "bar_format": null,
              "colour": null,
              "elapsed": 0.02385687828063965,
              "initial": 0,
              "n": 0,
              "ncols": null,
              "nrows": 62,
              "postfix": null,
              "prefix": "",
              "rate": null,
              "total": 1093,
              "unit": "it",
              "unit_divisor": 1000,
              "unit_scale": false
            },
            "application/vnd.jupyter.widget-view+json": {
              "model_id": "b38526cd26bf414c81337de0bc66eb03",
              "version_major": 2,
              "version_minor": 0
            },
            "text/plain": [
              "  0%|          | 0/1093 [00:00<?, ?it/s]"
            ]
          },
          "metadata": {},
          "output_type": "display_data"
        },
        {
          "data": {
            "application/json": {
              "ascii": false,
              "bar_format": null,
              "colour": null,
              "elapsed": 0.023517370223999023,
              "initial": 0,
              "n": 0,
              "ncols": null,
              "nrows": 62,
              "postfix": null,
              "prefix": "",
              "rate": null,
              "total": 274,
              "unit": "it",
              "unit_divisor": 1000,
              "unit_scale": false
            },
            "application/vnd.jupyter.widget-view+json": {
              "model_id": "b48bf0c2e3fb4cb2b04124982b48a732",
              "version_major": 2,
              "version_minor": 0
            },
            "text/plain": [
              "  0%|          | 0/274 [00:00<?, ?it/s]"
            ]
          },
          "metadata": {},
          "output_type": "display_data"
        },
        {
          "name": "stdout",
          "output_type": "stream",
          "text": [
            "Epoch : [2] Train Loss : [0.02077] Val Loss : [0.02146]\n",
            "Model Saved\n"
          ]
        },
        {
          "data": {
            "application/json": {
              "ascii": false,
              "bar_format": null,
              "colour": null,
              "elapsed": 0.023816585540771484,
              "initial": 0,
              "n": 0,
              "ncols": null,
              "nrows": 62,
              "postfix": null,
              "prefix": "",
              "rate": null,
              "total": 1093,
              "unit": "it",
              "unit_divisor": 1000,
              "unit_scale": false
            },
            "application/vnd.jupyter.widget-view+json": {
              "model_id": "70b8322685f3498eb55b39dda15351ad",
              "version_major": 2,
              "version_minor": 0
            },
            "text/plain": [
              "  0%|          | 0/1093 [00:00<?, ?it/s]"
            ]
          },
          "metadata": {},
          "output_type": "display_data"
        },
        {
          "data": {
            "application/json": {
              "ascii": false,
              "bar_format": null,
              "colour": null,
              "elapsed": 0.023615598678588867,
              "initial": 0,
              "n": 0,
              "ncols": null,
              "nrows": 62,
              "postfix": null,
              "prefix": "",
              "rate": null,
              "total": 274,
              "unit": "it",
              "unit_divisor": 1000,
              "unit_scale": false
            },
            "application/vnd.jupyter.widget-view+json": {
              "model_id": "1522d0347f3846c48ed5869a2cc56931",
              "version_major": 2,
              "version_minor": 0
            },
            "text/plain": [
              "  0%|          | 0/274 [00:00<?, ?it/s]"
            ]
          },
          "metadata": {},
          "output_type": "display_data"
        },
        {
          "name": "stdout",
          "output_type": "stream",
          "text": [
            "Epoch : [3] Train Loss : [0.02006] Val Loss : [0.02319]\n"
          ]
        },
        {
          "data": {
            "application/json": {
              "ascii": false,
              "bar_format": null,
              "colour": null,
              "elapsed": 0.02379155158996582,
              "initial": 0,
              "n": 0,
              "ncols": null,
              "nrows": 62,
              "postfix": null,
              "prefix": "",
              "rate": null,
              "total": 1093,
              "unit": "it",
              "unit_divisor": 1000,
              "unit_scale": false
            },
            "application/vnd.jupyter.widget-view+json": {
              "model_id": "2b68dd91c6764cc1b1bba99da7a7a69f",
              "version_major": 2,
              "version_minor": 0
            },
            "text/plain": [
              "  0%|          | 0/1093 [00:00<?, ?it/s]"
            ]
          },
          "metadata": {},
          "output_type": "display_data"
        },
        {
          "data": {
            "application/json": {
              "ascii": false,
              "bar_format": null,
              "colour": null,
              "elapsed": 0.02363109588623047,
              "initial": 0,
              "n": 0,
              "ncols": null,
              "nrows": 62,
              "postfix": null,
              "prefix": "",
              "rate": null,
              "total": 274,
              "unit": "it",
              "unit_divisor": 1000,
              "unit_scale": false
            },
            "application/vnd.jupyter.widget-view+json": {
              "model_id": "9fabd8d85c9d47b2adf007026d584795",
              "version_major": 2,
              "version_minor": 0
            },
            "text/plain": [
              "  0%|          | 0/274 [00:00<?, ?it/s]"
            ]
          },
          "metadata": {},
          "output_type": "display_data"
        },
        {
          "name": "stdout",
          "output_type": "stream",
          "text": [
            "Epoch : [4] Train Loss : [0.01979] Val Loss : [0.01984]\n",
            "Model Saved\n"
          ]
        },
        {
          "data": {
            "application/json": {
              "ascii": false,
              "bar_format": null,
              "colour": null,
              "elapsed": 0.023730754852294922,
              "initial": 0,
              "n": 0,
              "ncols": null,
              "nrows": 62,
              "postfix": null,
              "prefix": "",
              "rate": null,
              "total": 1093,
              "unit": "it",
              "unit_divisor": 1000,
              "unit_scale": false
            },
            "application/vnd.jupyter.widget-view+json": {
              "model_id": "227dda3d8a594c88b1bd4f3eb7c73c14",
              "version_major": 2,
              "version_minor": 0
            },
            "text/plain": [
              "  0%|          | 0/1093 [00:00<?, ?it/s]"
            ]
          },
          "metadata": {},
          "output_type": "display_data"
        },
        {
          "data": {
            "application/json": {
              "ascii": false,
              "bar_format": null,
              "colour": null,
              "elapsed": 0.023617982864379883,
              "initial": 0,
              "n": 0,
              "ncols": null,
              "nrows": 62,
              "postfix": null,
              "prefix": "",
              "rate": null,
              "total": 274,
              "unit": "it",
              "unit_divisor": 1000,
              "unit_scale": false
            },
            "application/vnd.jupyter.widget-view+json": {
              "model_id": "167522e45f48403791380c2ecabbbfda",
              "version_major": 2,
              "version_minor": 0
            },
            "text/plain": [
              "  0%|          | 0/274 [00:00<?, ?it/s]"
            ]
          },
          "metadata": {},
          "output_type": "display_data"
        },
        {
          "name": "stdout",
          "output_type": "stream",
          "text": [
            "Epoch : [5] Train Loss : [0.01952] Val Loss : [0.01959]\n",
            "Model Saved\n"
          ]
        },
        {
          "data": {
            "application/json": {
              "ascii": false,
              "bar_format": null,
              "colour": null,
              "elapsed": 0.023546695709228516,
              "initial": 0,
              "n": 0,
              "ncols": null,
              "nrows": 62,
              "postfix": null,
              "prefix": "",
              "rate": null,
              "total": 1093,
              "unit": "it",
              "unit_divisor": 1000,
              "unit_scale": false
            },
            "application/vnd.jupyter.widget-view+json": {
              "model_id": "ee654b55566a42fd9e7123ac7f61f3e8",
              "version_major": 2,
              "version_minor": 0
            },
            "text/plain": [
              "  0%|          | 0/1093 [00:00<?, ?it/s]"
            ]
          },
          "metadata": {},
          "output_type": "display_data"
        },
        {
          "data": {
            "application/json": {
              "ascii": false,
              "bar_format": null,
              "colour": null,
              "elapsed": 0.02320241928100586,
              "initial": 0,
              "n": 0,
              "ncols": null,
              "nrows": 62,
              "postfix": null,
              "prefix": "",
              "rate": null,
              "total": 274,
              "unit": "it",
              "unit_divisor": 1000,
              "unit_scale": false
            },
            "application/vnd.jupyter.widget-view+json": {
              "model_id": "957d2cfbf62444cf96e3a997befc1e94",
              "version_major": 2,
              "version_minor": 0
            },
            "text/plain": [
              "  0%|          | 0/274 [00:00<?, ?it/s]"
            ]
          },
          "metadata": {},
          "output_type": "display_data"
        },
        {
          "name": "stdout",
          "output_type": "stream",
          "text": [
            "Epoch : [6] Train Loss : [0.01928] Val Loss : [0.01950]\n",
            "Model Saved\n"
          ]
        },
        {
          "data": {
            "application/json": {
              "ascii": false,
              "bar_format": null,
              "colour": null,
              "elapsed": 0.023725509643554688,
              "initial": 0,
              "n": 0,
              "ncols": null,
              "nrows": 62,
              "postfix": null,
              "prefix": "",
              "rate": null,
              "total": 1093,
              "unit": "it",
              "unit_divisor": 1000,
              "unit_scale": false
            },
            "application/vnd.jupyter.widget-view+json": {
              "model_id": "00857e583d784db88ba25ea64f04f7e9",
              "version_major": 2,
              "version_minor": 0
            },
            "text/plain": [
              "  0%|          | 0/1093 [00:00<?, ?it/s]"
            ]
          },
          "metadata": {},
          "output_type": "display_data"
        },
        {
          "data": {
            "application/json": {
              "ascii": false,
              "bar_format": null,
              "colour": null,
              "elapsed": 0.02355813980102539,
              "initial": 0,
              "n": 0,
              "ncols": null,
              "nrows": 62,
              "postfix": null,
              "prefix": "",
              "rate": null,
              "total": 274,
              "unit": "it",
              "unit_divisor": 1000,
              "unit_scale": false
            },
            "application/vnd.jupyter.widget-view+json": {
              "model_id": "5dbb1a79eafd42bcb429961cfafb9539",
              "version_major": 2,
              "version_minor": 0
            },
            "text/plain": [
              "  0%|          | 0/274 [00:00<?, ?it/s]"
            ]
          },
          "metadata": {},
          "output_type": "display_data"
        },
        {
          "name": "stdout",
          "output_type": "stream",
          "text": [
            "Epoch : [7] Train Loss : [0.01906] Val Loss : [0.01894]\n",
            "Model Saved\n"
          ]
        },
        {
          "data": {
            "application/json": {
              "ascii": false,
              "bar_format": null,
              "colour": null,
              "elapsed": 0.023769617080688477,
              "initial": 0,
              "n": 0,
              "ncols": null,
              "nrows": 62,
              "postfix": null,
              "prefix": "",
              "rate": null,
              "total": 1093,
              "unit": "it",
              "unit_divisor": 1000,
              "unit_scale": false
            },
            "application/vnd.jupyter.widget-view+json": {
              "model_id": "52645106da4243b08bd59bed4c1662dc",
              "version_major": 2,
              "version_minor": 0
            },
            "text/plain": [
              "  0%|          | 0/1093 [00:00<?, ?it/s]"
            ]
          },
          "metadata": {},
          "output_type": "display_data"
        },
        {
          "data": {
            "application/json": {
              "ascii": false,
              "bar_format": null,
              "colour": null,
              "elapsed": 0.02368474006652832,
              "initial": 0,
              "n": 0,
              "ncols": null,
              "nrows": 62,
              "postfix": null,
              "prefix": "",
              "rate": null,
              "total": 274,
              "unit": "it",
              "unit_divisor": 1000,
              "unit_scale": false
            },
            "application/vnd.jupyter.widget-view+json": {
              "model_id": "b719f25b249a4a01902126af6c7c7fd9",
              "version_major": 2,
              "version_minor": 0
            },
            "text/plain": [
              "  0%|          | 0/274 [00:00<?, ?it/s]"
            ]
          },
          "metadata": {},
          "output_type": "display_data"
        },
        {
          "name": "stdout",
          "output_type": "stream",
          "text": [
            "Epoch : [8] Train Loss : [0.01890] Val Loss : [0.01883]\n",
            "Model Saved\n"
          ]
        },
        {
          "data": {
            "application/json": {
              "ascii": false,
              "bar_format": null,
              "colour": null,
              "elapsed": 0.023349285125732422,
              "initial": 0,
              "n": 0,
              "ncols": null,
              "nrows": 62,
              "postfix": null,
              "prefix": "",
              "rate": null,
              "total": 1093,
              "unit": "it",
              "unit_divisor": 1000,
              "unit_scale": false
            },
            "application/vnd.jupyter.widget-view+json": {
              "model_id": "d353746179ca4d67845da35a343c16e7",
              "version_major": 2,
              "version_minor": 0
            },
            "text/plain": [
              "  0%|          | 0/1093 [00:00<?, ?it/s]"
            ]
          },
          "metadata": {},
          "output_type": "display_data"
        },
        {
          "data": {
            "application/json": {
              "ascii": false,
              "bar_format": null,
              "colour": null,
              "elapsed": 0.023438453674316406,
              "initial": 0,
              "n": 0,
              "ncols": null,
              "nrows": 62,
              "postfix": null,
              "prefix": "",
              "rate": null,
              "total": 274,
              "unit": "it",
              "unit_divisor": 1000,
              "unit_scale": false
            },
            "application/vnd.jupyter.widget-view+json": {
              "model_id": "9d21af29f7b2478bb2cb8d7ebb52d340",
              "version_major": 2,
              "version_minor": 0
            },
            "text/plain": [
              "  0%|          | 0/274 [00:00<?, ?it/s]"
            ]
          },
          "metadata": {},
          "output_type": "display_data"
        },
        {
          "name": "stdout",
          "output_type": "stream",
          "text": [
            "Epoch : [9] Train Loss : [0.01769] Val Loss : [0.01668]\n",
            "Model Saved\n"
          ]
        },
        {
          "data": {
            "application/json": {
              "ascii": false,
              "bar_format": null,
              "colour": null,
              "elapsed": 0.024150609970092773,
              "initial": 0,
              "n": 0,
              "ncols": null,
              "nrows": 62,
              "postfix": null,
              "prefix": "",
              "rate": null,
              "total": 1093,
              "unit": "it",
              "unit_divisor": 1000,
              "unit_scale": false
            },
            "application/vnd.jupyter.widget-view+json": {
              "model_id": "970f19df71fa438bb6f3e7fb86a26acd",
              "version_major": 2,
              "version_minor": 0
            },
            "text/plain": [
              "  0%|          | 0/1093 [00:00<?, ?it/s]"
            ]
          },
          "metadata": {},
          "output_type": "display_data"
        },
        {
          "data": {
            "application/json": {
              "ascii": false,
              "bar_format": null,
              "colour": null,
              "elapsed": 0.02344799041748047,
              "initial": 0,
              "n": 0,
              "ncols": null,
              "nrows": 62,
              "postfix": null,
              "prefix": "",
              "rate": null,
              "total": 274,
              "unit": "it",
              "unit_divisor": 1000,
              "unit_scale": false
            },
            "application/vnd.jupyter.widget-view+json": {
              "model_id": "806b476ae02b467ab12e290068c5a816",
              "version_major": 2,
              "version_minor": 0
            },
            "text/plain": [
              "  0%|          | 0/274 [00:00<?, ?it/s]"
            ]
          },
          "metadata": {},
          "output_type": "display_data"
        },
        {
          "name": "stderr",
          "output_type": "stream",
          "text": [
            "[I 2023-08-26 15:00:27,080] Trial 4 finished with value: 0.01645149595110956 and parameters: {'LEARNING_RATE': 2.4006000369941698e-05, 'DROP_OUT': 0.20640042661486416}. Best is trial 2 with value: 0.015364208438622351.\n"
          ]
        },
        {
          "name": "stdout",
          "output_type": "stream",
          "text": [
            "Epoch : [10] Train Loss : [0.01649] Val Loss : [0.01645]\n",
            "Model Saved\n"
          ]
        },
        {
          "data": {
            "application/json": {
              "ascii": false,
              "bar_format": null,
              "colour": null,
              "elapsed": 0.023760318756103516,
              "initial": 0,
              "n": 0,
              "ncols": null,
              "nrows": 62,
              "postfix": null,
              "prefix": "",
              "rate": null,
              "total": 1093,
              "unit": "it",
              "unit_divisor": 1000,
              "unit_scale": false
            },
            "application/vnd.jupyter.widget-view+json": {
              "model_id": "be91e53d566a42059d71aab6cae1e74d",
              "version_major": 2,
              "version_minor": 0
            },
            "text/plain": [
              "  0%|          | 0/1093 [00:00<?, ?it/s]"
            ]
          },
          "metadata": {},
          "output_type": "display_data"
        },
        {
          "data": {
            "application/json": {
              "ascii": false,
              "bar_format": null,
              "colour": null,
              "elapsed": 0.02330780029296875,
              "initial": 0,
              "n": 0,
              "ncols": null,
              "nrows": 62,
              "postfix": null,
              "prefix": "",
              "rate": null,
              "total": 274,
              "unit": "it",
              "unit_divisor": 1000,
              "unit_scale": false
            },
            "application/vnd.jupyter.widget-view+json": {
              "model_id": "bc219db7c9274657bf8481a3cd4db1ce",
              "version_major": 2,
              "version_minor": 0
            },
            "text/plain": [
              "  0%|          | 0/274 [00:00<?, ?it/s]"
            ]
          },
          "metadata": {},
          "output_type": "display_data"
        },
        {
          "name": "stdout",
          "output_type": "stream",
          "text": [
            "Epoch : [1] Train Loss : [0.03098] Val Loss : [0.04194]\n",
            "Model Saved\n"
          ]
        },
        {
          "data": {
            "application/json": {
              "ascii": false,
              "bar_format": null,
              "colour": null,
              "elapsed": 0.02341914176940918,
              "initial": 0,
              "n": 0,
              "ncols": null,
              "nrows": 62,
              "postfix": null,
              "prefix": "",
              "rate": null,
              "total": 1093,
              "unit": "it",
              "unit_divisor": 1000,
              "unit_scale": false
            },
            "application/vnd.jupyter.widget-view+json": {
              "model_id": "5e82affefcf641c6856576f604214e2e",
              "version_major": 2,
              "version_minor": 0
            },
            "text/plain": [
              "  0%|          | 0/1093 [00:00<?, ?it/s]"
            ]
          },
          "metadata": {},
          "output_type": "display_data"
        },
        {
          "data": {
            "application/json": {
              "ascii": false,
              "bar_format": null,
              "colour": null,
              "elapsed": 0.023689746856689453,
              "initial": 0,
              "n": 0,
              "ncols": null,
              "nrows": 62,
              "postfix": null,
              "prefix": "",
              "rate": null,
              "total": 274,
              "unit": "it",
              "unit_divisor": 1000,
              "unit_scale": false
            },
            "application/vnd.jupyter.widget-view+json": {
              "model_id": "2f72e0fadf7c4b7e96679499b4109371",
              "version_major": 2,
              "version_minor": 0
            },
            "text/plain": [
              "  0%|          | 0/274 [00:00<?, ?it/s]"
            ]
          },
          "metadata": {},
          "output_type": "display_data"
        },
        {
          "name": "stdout",
          "output_type": "stream",
          "text": [
            "Epoch : [2] Train Loss : [0.01950] Val Loss : [0.01936]\n",
            "Model Saved\n"
          ]
        },
        {
          "data": {
            "application/json": {
              "ascii": false,
              "bar_format": null,
              "colour": null,
              "elapsed": 0.023899316787719727,
              "initial": 0,
              "n": 0,
              "ncols": null,
              "nrows": 62,
              "postfix": null,
              "prefix": "",
              "rate": null,
              "total": 1093,
              "unit": "it",
              "unit_divisor": 1000,
              "unit_scale": false
            },
            "application/vnd.jupyter.widget-view+json": {
              "model_id": "24829ecbfa374a379c5db469c58f1dcd",
              "version_major": 2,
              "version_minor": 0
            },
            "text/plain": [
              "  0%|          | 0/1093 [00:00<?, ?it/s]"
            ]
          },
          "metadata": {},
          "output_type": "display_data"
        },
        {
          "data": {
            "application/json": {
              "ascii": false,
              "bar_format": null,
              "colour": null,
              "elapsed": 0.02355504035949707,
              "initial": 0,
              "n": 0,
              "ncols": null,
              "nrows": 62,
              "postfix": null,
              "prefix": "",
              "rate": null,
              "total": 274,
              "unit": "it",
              "unit_divisor": 1000,
              "unit_scale": false
            },
            "application/vnd.jupyter.widget-view+json": {
              "model_id": "51e64cec66304d50837f4b138e65a0ed",
              "version_major": 2,
              "version_minor": 0
            },
            "text/plain": [
              "  0%|          | 0/274 [00:00<?, ?it/s]"
            ]
          },
          "metadata": {},
          "output_type": "display_data"
        },
        {
          "name": "stdout",
          "output_type": "stream",
          "text": [
            "Epoch : [3] Train Loss : [0.01786] Val Loss : [0.01832]\n",
            "Model Saved\n"
          ]
        },
        {
          "data": {
            "application/json": {
              "ascii": false,
              "bar_format": null,
              "colour": null,
              "elapsed": 0.023712873458862305,
              "initial": 0,
              "n": 0,
              "ncols": null,
              "nrows": 62,
              "postfix": null,
              "prefix": "",
              "rate": null,
              "total": 1093,
              "unit": "it",
              "unit_divisor": 1000,
              "unit_scale": false
            },
            "application/vnd.jupyter.widget-view+json": {
              "model_id": "557578be78c24ebca27a8f3a0dd8f7c3",
              "version_major": 2,
              "version_minor": 0
            },
            "text/plain": [
              "  0%|          | 0/1093 [00:00<?, ?it/s]"
            ]
          },
          "metadata": {},
          "output_type": "display_data"
        },
        {
          "data": {
            "application/json": {
              "ascii": false,
              "bar_format": null,
              "colour": null,
              "elapsed": 0.023555278778076172,
              "initial": 0,
              "n": 0,
              "ncols": null,
              "nrows": 62,
              "postfix": null,
              "prefix": "",
              "rate": null,
              "total": 274,
              "unit": "it",
              "unit_divisor": 1000,
              "unit_scale": false
            },
            "application/vnd.jupyter.widget-view+json": {
              "model_id": "dbb7aa89dda0472a8b589afc4739d5da",
              "version_major": 2,
              "version_minor": 0
            },
            "text/plain": [
              "  0%|          | 0/274 [00:00<?, ?it/s]"
            ]
          },
          "metadata": {},
          "output_type": "display_data"
        },
        {
          "name": "stdout",
          "output_type": "stream",
          "text": [
            "Epoch : [4] Train Loss : [0.01755] Val Loss : [0.01771]\n",
            "Model Saved\n"
          ]
        },
        {
          "data": {
            "application/json": {
              "ascii": false,
              "bar_format": null,
              "colour": null,
              "elapsed": 0.023328542709350586,
              "initial": 0,
              "n": 0,
              "ncols": null,
              "nrows": 62,
              "postfix": null,
              "prefix": "",
              "rate": null,
              "total": 1093,
              "unit": "it",
              "unit_divisor": 1000,
              "unit_scale": false
            },
            "application/vnd.jupyter.widget-view+json": {
              "model_id": "822309bbd77a4f52a3e51fdff4138f44",
              "version_major": 2,
              "version_minor": 0
            },
            "text/plain": [
              "  0%|          | 0/1093 [00:00<?, ?it/s]"
            ]
          },
          "metadata": {},
          "output_type": "display_data"
        },
        {
          "data": {
            "application/json": {
              "ascii": false,
              "bar_format": null,
              "colour": null,
              "elapsed": 0.02591681480407715,
              "initial": 0,
              "n": 0,
              "ncols": null,
              "nrows": 62,
              "postfix": null,
              "prefix": "",
              "rate": null,
              "total": 274,
              "unit": "it",
              "unit_divisor": 1000,
              "unit_scale": false
            },
            "application/vnd.jupyter.widget-view+json": {
              "model_id": "db5c26d19ce2406fbec962ef448aefa7",
              "version_major": 2,
              "version_minor": 0
            },
            "text/plain": [
              "  0%|          | 0/274 [00:00<?, ?it/s]"
            ]
          },
          "metadata": {},
          "output_type": "display_data"
        },
        {
          "name": "stdout",
          "output_type": "stream",
          "text": [
            "Epoch : [5] Train Loss : [0.01731] Val Loss : [0.01741]\n",
            "Model Saved\n"
          ]
        },
        {
          "data": {
            "application/json": {
              "ascii": false,
              "bar_format": null,
              "colour": null,
              "elapsed": 0.023477792739868164,
              "initial": 0,
              "n": 0,
              "ncols": null,
              "nrows": 62,
              "postfix": null,
              "prefix": "",
              "rate": null,
              "total": 1093,
              "unit": "it",
              "unit_divisor": 1000,
              "unit_scale": false
            },
            "application/vnd.jupyter.widget-view+json": {
              "model_id": "ffdd92dce7a241c3bf07e79c5aeefcc0",
              "version_major": 2,
              "version_minor": 0
            },
            "text/plain": [
              "  0%|          | 0/1093 [00:00<?, ?it/s]"
            ]
          },
          "metadata": {},
          "output_type": "display_data"
        },
        {
          "data": {
            "application/json": {
              "ascii": false,
              "bar_format": null,
              "colour": null,
              "elapsed": 0.023511648178100586,
              "initial": 0,
              "n": 0,
              "ncols": null,
              "nrows": 62,
              "postfix": null,
              "prefix": "",
              "rate": null,
              "total": 274,
              "unit": "it",
              "unit_divisor": 1000,
              "unit_scale": false
            },
            "application/vnd.jupyter.widget-view+json": {
              "model_id": "c0b6e00900a24c4eb150816f53a25cfa",
              "version_major": 2,
              "version_minor": 0
            },
            "text/plain": [
              "  0%|          | 0/274 [00:00<?, ?it/s]"
            ]
          },
          "metadata": {},
          "output_type": "display_data"
        },
        {
          "name": "stdout",
          "output_type": "stream",
          "text": [
            "Epoch : [6] Train Loss : [0.01704] Val Loss : [0.01703]\n",
            "Model Saved\n"
          ]
        },
        {
          "data": {
            "application/json": {
              "ascii": false,
              "bar_format": null,
              "colour": null,
              "elapsed": 0.02391672134399414,
              "initial": 0,
              "n": 0,
              "ncols": null,
              "nrows": 62,
              "postfix": null,
              "prefix": "",
              "rate": null,
              "total": 1093,
              "unit": "it",
              "unit_divisor": 1000,
              "unit_scale": false
            },
            "application/vnd.jupyter.widget-view+json": {
              "model_id": "cafee0698dd44be3bb7ece3c5c50fc60",
              "version_major": 2,
              "version_minor": 0
            },
            "text/plain": [
              "  0%|          | 0/1093 [00:00<?, ?it/s]"
            ]
          },
          "metadata": {},
          "output_type": "display_data"
        },
        {
          "data": {
            "application/json": {
              "ascii": false,
              "bar_format": null,
              "colour": null,
              "elapsed": 0.023638010025024414,
              "initial": 0,
              "n": 0,
              "ncols": null,
              "nrows": 62,
              "postfix": null,
              "prefix": "",
              "rate": null,
              "total": 274,
              "unit": "it",
              "unit_divisor": 1000,
              "unit_scale": false
            },
            "application/vnd.jupyter.widget-view+json": {
              "model_id": "c971422fc4614bf4a5be352f9b9cccae",
              "version_major": 2,
              "version_minor": 0
            },
            "text/plain": [
              "  0%|          | 0/274 [00:00<?, ?it/s]"
            ]
          },
          "metadata": {},
          "output_type": "display_data"
        },
        {
          "name": "stdout",
          "output_type": "stream",
          "text": [
            "Epoch : [7] Train Loss : [0.01682] Val Loss : [0.01780]\n"
          ]
        },
        {
          "data": {
            "application/json": {
              "ascii": false,
              "bar_format": null,
              "colour": null,
              "elapsed": 0.02361011505126953,
              "initial": 0,
              "n": 0,
              "ncols": null,
              "nrows": 62,
              "postfix": null,
              "prefix": "",
              "rate": null,
              "total": 1093,
              "unit": "it",
              "unit_divisor": 1000,
              "unit_scale": false
            },
            "application/vnd.jupyter.widget-view+json": {
              "model_id": "3de53000335b4de5889090f963f17f19",
              "version_major": 2,
              "version_minor": 0
            },
            "text/plain": [
              "  0%|          | 0/1093 [00:00<?, ?it/s]"
            ]
          },
          "metadata": {},
          "output_type": "display_data"
        },
        {
          "data": {
            "application/json": {
              "ascii": false,
              "bar_format": null,
              "colour": null,
              "elapsed": 0.02339005470275879,
              "initial": 0,
              "n": 0,
              "ncols": null,
              "nrows": 62,
              "postfix": null,
              "prefix": "",
              "rate": null,
              "total": 274,
              "unit": "it",
              "unit_divisor": 1000,
              "unit_scale": false
            },
            "application/vnd.jupyter.widget-view+json": {
              "model_id": "a87cbc6c3a2d4bffbde6820578346e12",
              "version_major": 2,
              "version_minor": 0
            },
            "text/plain": [
              "  0%|          | 0/274 [00:00<?, ?it/s]"
            ]
          },
          "metadata": {},
          "output_type": "display_data"
        },
        {
          "name": "stdout",
          "output_type": "stream",
          "text": [
            "Epoch : [8] Train Loss : [0.01665] Val Loss : [0.01663]\n",
            "Model Saved\n"
          ]
        },
        {
          "data": {
            "application/json": {
              "ascii": false,
              "bar_format": null,
              "colour": null,
              "elapsed": 0.02346944808959961,
              "initial": 0,
              "n": 0,
              "ncols": null,
              "nrows": 62,
              "postfix": null,
              "prefix": "",
              "rate": null,
              "total": 1093,
              "unit": "it",
              "unit_divisor": 1000,
              "unit_scale": false
            },
            "application/vnd.jupyter.widget-view+json": {
              "model_id": "d8bcb64bbcf5475eac957a4273351dbd",
              "version_major": 2,
              "version_minor": 0
            },
            "text/plain": [
              "  0%|          | 0/1093 [00:00<?, ?it/s]"
            ]
          },
          "metadata": {},
          "output_type": "display_data"
        },
        {
          "data": {
            "application/json": {
              "ascii": false,
              "bar_format": null,
              "colour": null,
              "elapsed": 0.02384662628173828,
              "initial": 0,
              "n": 0,
              "ncols": null,
              "nrows": 62,
              "postfix": null,
              "prefix": "",
              "rate": null,
              "total": 274,
              "unit": "it",
              "unit_divisor": 1000,
              "unit_scale": false
            },
            "application/vnd.jupyter.widget-view+json": {
              "model_id": "9201de54c9e94d0e8cc95942891f25fa",
              "version_major": 2,
              "version_minor": 0
            },
            "text/plain": [
              "  0%|          | 0/274 [00:00<?, ?it/s]"
            ]
          },
          "metadata": {},
          "output_type": "display_data"
        },
        {
          "name": "stdout",
          "output_type": "stream",
          "text": [
            "Epoch : [9] Train Loss : [0.01650] Val Loss : [0.01654]\n",
            "Model Saved\n"
          ]
        },
        {
          "data": {
            "application/json": {
              "ascii": false,
              "bar_format": null,
              "colour": null,
              "elapsed": 0.023682355880737305,
              "initial": 0,
              "n": 0,
              "ncols": null,
              "nrows": 62,
              "postfix": null,
              "prefix": "",
              "rate": null,
              "total": 1093,
              "unit": "it",
              "unit_divisor": 1000,
              "unit_scale": false
            },
            "application/vnd.jupyter.widget-view+json": {
              "model_id": "9218bd474cd04080a6801ec48a083503",
              "version_major": 2,
              "version_minor": 0
            },
            "text/plain": [
              "  0%|          | 0/1093 [00:00<?, ?it/s]"
            ]
          },
          "metadata": {},
          "output_type": "display_data"
        },
        {
          "data": {
            "application/json": {
              "ascii": false,
              "bar_format": null,
              "colour": null,
              "elapsed": 0.02314305305480957,
              "initial": 0,
              "n": 0,
              "ncols": null,
              "nrows": 62,
              "postfix": null,
              "prefix": "",
              "rate": null,
              "total": 274,
              "unit": "it",
              "unit_divisor": 1000,
              "unit_scale": false
            },
            "application/vnd.jupyter.widget-view+json": {
              "model_id": "37fa8255aeef4d238bbaf7a1bf510168",
              "version_major": 2,
              "version_minor": 0
            },
            "text/plain": [
              "  0%|          | 0/274 [00:00<?, ?it/s]"
            ]
          },
          "metadata": {},
          "output_type": "display_data"
        },
        {
          "name": "stderr",
          "output_type": "stream",
          "text": [
            "[I 2023-08-26 16:06:07,617] Trial 5 finished with value: 0.016538081356293664 and parameters: {'LEARNING_RATE': 1.8970263709619496e-05, 'DROP_OUT': 0.2406827168066951}. Best is trial 2 with value: 0.015364208438622351.\n"
          ]
        },
        {
          "name": "stdout",
          "output_type": "stream",
          "text": [
            "Epoch : [10] Train Loss : [0.01639] Val Loss : [0.01803]\n"
          ]
        },
        {
          "data": {
            "application/json": {
              "ascii": false,
              "bar_format": null,
              "colour": null,
              "elapsed": 0.02387404441833496,
              "initial": 0,
              "n": 0,
              "ncols": null,
              "nrows": 62,
              "postfix": null,
              "prefix": "",
              "rate": null,
              "total": 1093,
              "unit": "it",
              "unit_divisor": 1000,
              "unit_scale": false
            },
            "application/vnd.jupyter.widget-view+json": {
              "model_id": "8f1e2263139c4b73bace3160b80914e7",
              "version_major": 2,
              "version_minor": 0
            },
            "text/plain": [
              "  0%|          | 0/1093 [00:00<?, ?it/s]"
            ]
          },
          "metadata": {},
          "output_type": "display_data"
        },
        {
          "data": {
            "application/json": {
              "ascii": false,
              "bar_format": null,
              "colour": null,
              "elapsed": 0.023931503295898438,
              "initial": 0,
              "n": 0,
              "ncols": null,
              "nrows": 62,
              "postfix": null,
              "prefix": "",
              "rate": null,
              "total": 274,
              "unit": "it",
              "unit_divisor": 1000,
              "unit_scale": false
            },
            "application/vnd.jupyter.widget-view+json": {
              "model_id": "db2580ba105b413f8a93a28e248fccd2",
              "version_major": 2,
              "version_minor": 0
            },
            "text/plain": [
              "  0%|          | 0/274 [00:00<?, ?it/s]"
            ]
          },
          "metadata": {},
          "output_type": "display_data"
        },
        {
          "name": "stdout",
          "output_type": "stream",
          "text": [
            "Epoch : [1] Train Loss : [0.03062] Val Loss : [0.02430]\n",
            "Model Saved\n"
          ]
        },
        {
          "data": {
            "application/json": {
              "ascii": false,
              "bar_format": null,
              "colour": null,
              "elapsed": 0.02371501922607422,
              "initial": 0,
              "n": 0,
              "ncols": null,
              "nrows": 62,
              "postfix": null,
              "prefix": "",
              "rate": null,
              "total": 1093,
              "unit": "it",
              "unit_divisor": 1000,
              "unit_scale": false
            },
            "application/vnd.jupyter.widget-view+json": {
              "model_id": "017ba86cb6174b058800363c6ff9ba18",
              "version_major": 2,
              "version_minor": 0
            },
            "text/plain": [
              "  0%|          | 0/1093 [00:00<?, ?it/s]"
            ]
          },
          "metadata": {},
          "output_type": "display_data"
        },
        {
          "data": {
            "application/json": {
              "ascii": false,
              "bar_format": null,
              "colour": null,
              "elapsed": 0.023290634155273438,
              "initial": 0,
              "n": 0,
              "ncols": null,
              "nrows": 62,
              "postfix": null,
              "prefix": "",
              "rate": null,
              "total": 274,
              "unit": "it",
              "unit_divisor": 1000,
              "unit_scale": false
            },
            "application/vnd.jupyter.widget-view+json": {
              "model_id": "2250909e52084ab8bbed5fd6075040cb",
              "version_major": 2,
              "version_minor": 0
            },
            "text/plain": [
              "  0%|          | 0/274 [00:00<?, ?it/s]"
            ]
          },
          "metadata": {},
          "output_type": "display_data"
        },
        {
          "name": "stdout",
          "output_type": "stream",
          "text": [
            "Epoch : [2] Train Loss : [0.02606] Val Loss : [0.04048]\n"
          ]
        },
        {
          "data": {
            "application/json": {
              "ascii": false,
              "bar_format": null,
              "colour": null,
              "elapsed": 0.023302793502807617,
              "initial": 0,
              "n": 0,
              "ncols": null,
              "nrows": 62,
              "postfix": null,
              "prefix": "",
              "rate": null,
              "total": 1093,
              "unit": "it",
              "unit_divisor": 1000,
              "unit_scale": false
            },
            "application/vnd.jupyter.widget-view+json": {
              "model_id": "a0321d07904344319116920a8d7be171",
              "version_major": 2,
              "version_minor": 0
            },
            "text/plain": [
              "  0%|          | 0/1093 [00:00<?, ?it/s]"
            ]
          },
          "metadata": {},
          "output_type": "display_data"
        },
        {
          "data": {
            "application/json": {
              "ascii": false,
              "bar_format": null,
              "colour": null,
              "elapsed": 0.023372173309326172,
              "initial": 0,
              "n": 0,
              "ncols": null,
              "nrows": 62,
              "postfix": null,
              "prefix": "",
              "rate": null,
              "total": 274,
              "unit": "it",
              "unit_divisor": 1000,
              "unit_scale": false
            },
            "application/vnd.jupyter.widget-view+json": {
              "model_id": "9e797302353743ef9b1610fe59c00591",
              "version_major": 2,
              "version_minor": 0
            },
            "text/plain": [
              "  0%|          | 0/274 [00:00<?, ?it/s]"
            ]
          },
          "metadata": {},
          "output_type": "display_data"
        },
        {
          "name": "stdout",
          "output_type": "stream",
          "text": [
            "Epoch : [3] Train Loss : [0.01786] Val Loss : [0.01847]\n",
            "Model Saved\n"
          ]
        },
        {
          "data": {
            "application/json": {
              "ascii": false,
              "bar_format": null,
              "colour": null,
              "elapsed": 0.023241758346557617,
              "initial": 0,
              "n": 0,
              "ncols": null,
              "nrows": 62,
              "postfix": null,
              "prefix": "",
              "rate": null,
              "total": 1093,
              "unit": "it",
              "unit_divisor": 1000,
              "unit_scale": false
            },
            "application/vnd.jupyter.widget-view+json": {
              "model_id": "456a952bd81b4177a9774b010b416e19",
              "version_major": 2,
              "version_minor": 0
            },
            "text/plain": [
              "  0%|          | 0/1093 [00:00<?, ?it/s]"
            ]
          },
          "metadata": {},
          "output_type": "display_data"
        },
        {
          "data": {
            "application/json": {
              "ascii": false,
              "bar_format": null,
              "colour": null,
              "elapsed": 0.023415327072143555,
              "initial": 0,
              "n": 0,
              "ncols": null,
              "nrows": 62,
              "postfix": null,
              "prefix": "",
              "rate": null,
              "total": 274,
              "unit": "it",
              "unit_divisor": 1000,
              "unit_scale": false
            },
            "application/vnd.jupyter.widget-view+json": {
              "model_id": "bf60443c71e94f29b2457f0fd6642c78",
              "version_major": 2,
              "version_minor": 0
            },
            "text/plain": [
              "  0%|          | 0/274 [00:00<?, ?it/s]"
            ]
          },
          "metadata": {},
          "output_type": "display_data"
        },
        {
          "name": "stdout",
          "output_type": "stream",
          "text": [
            "Epoch : [4] Train Loss : [0.01687] Val Loss : [0.01706]\n",
            "Model Saved\n"
          ]
        },
        {
          "data": {
            "application/json": {
              "ascii": false,
              "bar_format": null,
              "colour": null,
              "elapsed": 0.0235137939453125,
              "initial": 0,
              "n": 0,
              "ncols": null,
              "nrows": 62,
              "postfix": null,
              "prefix": "",
              "rate": null,
              "total": 1093,
              "unit": "it",
              "unit_divisor": 1000,
              "unit_scale": false
            },
            "application/vnd.jupyter.widget-view+json": {
              "model_id": "aa9d4cd0b1a3436586151316cab045ca",
              "version_major": 2,
              "version_minor": 0
            },
            "text/plain": [
              "  0%|          | 0/1093 [00:00<?, ?it/s]"
            ]
          },
          "metadata": {},
          "output_type": "display_data"
        },
        {
          "data": {
            "application/json": {
              "ascii": false,
              "bar_format": null,
              "colour": null,
              "elapsed": 0.023418188095092773,
              "initial": 0,
              "n": 0,
              "ncols": null,
              "nrows": 62,
              "postfix": null,
              "prefix": "",
              "rate": null,
              "total": 274,
              "unit": "it",
              "unit_divisor": 1000,
              "unit_scale": false
            },
            "application/vnd.jupyter.widget-view+json": {
              "model_id": "1ed8c206eadc42e8b30e90d6375f375a",
              "version_major": 2,
              "version_minor": 0
            },
            "text/plain": [
              "  0%|          | 0/274 [00:00<?, ?it/s]"
            ]
          },
          "metadata": {},
          "output_type": "display_data"
        },
        {
          "name": "stdout",
          "output_type": "stream",
          "text": [
            "Epoch : [5] Train Loss : [0.01650] Val Loss : [0.02237]\n"
          ]
        },
        {
          "data": {
            "application/json": {
              "ascii": false,
              "bar_format": null,
              "colour": null,
              "elapsed": 0.023881912231445312,
              "initial": 0,
              "n": 0,
              "ncols": null,
              "nrows": 62,
              "postfix": null,
              "prefix": "",
              "rate": null,
              "total": 1093,
              "unit": "it",
              "unit_divisor": 1000,
              "unit_scale": false
            },
            "application/vnd.jupyter.widget-view+json": {
              "model_id": "fbeabd1f355c4a3183848e82da8ed54a",
              "version_major": 2,
              "version_minor": 0
            },
            "text/plain": [
              "  0%|          | 0/1093 [00:00<?, ?it/s]"
            ]
          },
          "metadata": {},
          "output_type": "display_data"
        },
        {
          "data": {
            "application/json": {
              "ascii": false,
              "bar_format": null,
              "colour": null,
              "elapsed": 0.0234525203704834,
              "initial": 0,
              "n": 0,
              "ncols": null,
              "nrows": 62,
              "postfix": null,
              "prefix": "",
              "rate": null,
              "total": 274,
              "unit": "it",
              "unit_divisor": 1000,
              "unit_scale": false
            },
            "application/vnd.jupyter.widget-view+json": {
              "model_id": "d4828520bb1241eb81d9c2ef5ad2f689",
              "version_major": 2,
              "version_minor": 0
            },
            "text/plain": [
              "  0%|          | 0/274 [00:00<?, ?it/s]"
            ]
          },
          "metadata": {},
          "output_type": "display_data"
        },
        {
          "name": "stdout",
          "output_type": "stream",
          "text": [
            "Epoch : [6] Train Loss : [0.01628] Val Loss : [0.01698]\n",
            "Model Saved\n"
          ]
        },
        {
          "data": {
            "application/json": {
              "ascii": false,
              "bar_format": null,
              "colour": null,
              "elapsed": 0.023467063903808594,
              "initial": 0,
              "n": 0,
              "ncols": null,
              "nrows": 62,
              "postfix": null,
              "prefix": "",
              "rate": null,
              "total": 1093,
              "unit": "it",
              "unit_divisor": 1000,
              "unit_scale": false
            },
            "application/vnd.jupyter.widget-view+json": {
              "model_id": "d7655059c841442e8ac4c0c7d46fdff9",
              "version_major": 2,
              "version_minor": 0
            },
            "text/plain": [
              "  0%|          | 0/1093 [00:00<?, ?it/s]"
            ]
          },
          "metadata": {},
          "output_type": "display_data"
        },
        {
          "data": {
            "application/json": {
              "ascii": false,
              "bar_format": null,
              "colour": null,
              "elapsed": 0.02340221405029297,
              "initial": 0,
              "n": 0,
              "ncols": null,
              "nrows": 62,
              "postfix": null,
              "prefix": "",
              "rate": null,
              "total": 274,
              "unit": "it",
              "unit_divisor": 1000,
              "unit_scale": false
            },
            "application/vnd.jupyter.widget-view+json": {
              "model_id": "19079c74926d4f5fbb84925a06cb1552",
              "version_major": 2,
              "version_minor": 0
            },
            "text/plain": [
              "  0%|          | 0/274 [00:00<?, ?it/s]"
            ]
          },
          "metadata": {},
          "output_type": "display_data"
        },
        {
          "name": "stdout",
          "output_type": "stream",
          "text": [
            "Epoch : [7] Train Loss : [0.01595] Val Loss : [0.01595]\n",
            "Model Saved\n"
          ]
        },
        {
          "data": {
            "application/json": {
              "ascii": false,
              "bar_format": null,
              "colour": null,
              "elapsed": 0.0234835147857666,
              "initial": 0,
              "n": 0,
              "ncols": null,
              "nrows": 62,
              "postfix": null,
              "prefix": "",
              "rate": null,
              "total": 1093,
              "unit": "it",
              "unit_divisor": 1000,
              "unit_scale": false
            },
            "application/vnd.jupyter.widget-view+json": {
              "model_id": "be755241a8f941e7b131fd1cceea22a3",
              "version_major": 2,
              "version_minor": 0
            },
            "text/plain": [
              "  0%|          | 0/1093 [00:00<?, ?it/s]"
            ]
          },
          "metadata": {},
          "output_type": "display_data"
        },
        {
          "data": {
            "application/json": {
              "ascii": false,
              "bar_format": null,
              "colour": null,
              "elapsed": 0.02371835708618164,
              "initial": 0,
              "n": 0,
              "ncols": null,
              "nrows": 62,
              "postfix": null,
              "prefix": "",
              "rate": null,
              "total": 274,
              "unit": "it",
              "unit_divisor": 1000,
              "unit_scale": false
            },
            "application/vnd.jupyter.widget-view+json": {
              "model_id": "1a56847f8c714f89b64c742eaec54f66",
              "version_major": 2,
              "version_minor": 0
            },
            "text/plain": [
              "  0%|          | 0/274 [00:00<?, ?it/s]"
            ]
          },
          "metadata": {},
          "output_type": "display_data"
        },
        {
          "name": "stdout",
          "output_type": "stream",
          "text": [
            "Epoch : [8] Train Loss : [0.01567] Val Loss : [0.01700]\n"
          ]
        },
        {
          "data": {
            "application/json": {
              "ascii": false,
              "bar_format": null,
              "colour": null,
              "elapsed": 0.023234128952026367,
              "initial": 0,
              "n": 0,
              "ncols": null,
              "nrows": 62,
              "postfix": null,
              "prefix": "",
              "rate": null,
              "total": 1093,
              "unit": "it",
              "unit_divisor": 1000,
              "unit_scale": false
            },
            "application/vnd.jupyter.widget-view+json": {
              "model_id": "6909645ff35e4c8c841e2ad63ef8506d",
              "version_major": 2,
              "version_minor": 0
            },
            "text/plain": [
              "  0%|          | 0/1093 [00:00<?, ?it/s]"
            ]
          },
          "metadata": {},
          "output_type": "display_data"
        },
        {
          "data": {
            "application/json": {
              "ascii": false,
              "bar_format": null,
              "colour": null,
              "elapsed": 0.0241851806640625,
              "initial": 0,
              "n": 0,
              "ncols": null,
              "nrows": 62,
              "postfix": null,
              "prefix": "",
              "rate": null,
              "total": 274,
              "unit": "it",
              "unit_divisor": 1000,
              "unit_scale": false
            },
            "application/vnd.jupyter.widget-view+json": {
              "model_id": "6a327cdd4439462bb3d1395c3daaf12f",
              "version_major": 2,
              "version_minor": 0
            },
            "text/plain": [
              "  0%|          | 0/274 [00:00<?, ?it/s]"
            ]
          },
          "metadata": {},
          "output_type": "display_data"
        },
        {
          "name": "stdout",
          "output_type": "stream",
          "text": [
            "Epoch : [9] Train Loss : [0.01551] Val Loss : [0.01572]\n",
            "Model Saved\n"
          ]
        },
        {
          "data": {
            "application/json": {
              "ascii": false,
              "bar_format": null,
              "colour": null,
              "elapsed": 0.023815631866455078,
              "initial": 0,
              "n": 0,
              "ncols": null,
              "nrows": 62,
              "postfix": null,
              "prefix": "",
              "rate": null,
              "total": 1093,
              "unit": "it",
              "unit_divisor": 1000,
              "unit_scale": false
            },
            "application/vnd.jupyter.widget-view+json": {
              "model_id": "57fcda219b39476b990b88bf58ce0fe3",
              "version_major": 2,
              "version_minor": 0
            },
            "text/plain": [
              "  0%|          | 0/1093 [00:00<?, ?it/s]"
            ]
          },
          "metadata": {},
          "output_type": "display_data"
        },
        {
          "data": {
            "application/json": {
              "ascii": false,
              "bar_format": null,
              "colour": null,
              "elapsed": 0.02359151840209961,
              "initial": 0,
              "n": 0,
              "ncols": null,
              "nrows": 62,
              "postfix": null,
              "prefix": "",
              "rate": null,
              "total": 274,
              "unit": "it",
              "unit_divisor": 1000,
              "unit_scale": false
            },
            "application/vnd.jupyter.widget-view+json": {
              "model_id": "cfa4b4c124b4407f90163251e1f8d92d",
              "version_major": 2,
              "version_minor": 0
            },
            "text/plain": [
              "  0%|          | 0/274 [00:00<?, ?it/s]"
            ]
          },
          "metadata": {},
          "output_type": "display_data"
        },
        {
          "name": "stderr",
          "output_type": "stream",
          "text": [
            "[I 2023-08-26 17:11:55,047] Trial 6 finished with value: 0.015237413917584888 and parameters: {'LEARNING_RATE': 4.8417184934599854e-05, 'DROP_OUT': 0.10928577143781706}. Best is trial 6 with value: 0.015237413917584888.\n"
          ]
        },
        {
          "name": "stdout",
          "output_type": "stream",
          "text": [
            "Epoch : [10] Train Loss : [0.01535] Val Loss : [0.01524]\n",
            "Model Saved\n"
          ]
        },
        {
          "data": {
            "application/json": {
              "ascii": false,
              "bar_format": null,
              "colour": null,
              "elapsed": 0.02424907684326172,
              "initial": 0,
              "n": 0,
              "ncols": null,
              "nrows": 62,
              "postfix": null,
              "prefix": "",
              "rate": null,
              "total": 1093,
              "unit": "it",
              "unit_divisor": 1000,
              "unit_scale": false
            },
            "application/vnd.jupyter.widget-view+json": {
              "model_id": "cd0d9e57776f4f0a8a37004051ce857e",
              "version_major": 2,
              "version_minor": 0
            },
            "text/plain": [
              "  0%|          | 0/1093 [00:00<?, ?it/s]"
            ]
          },
          "metadata": {},
          "output_type": "display_data"
        },
        {
          "data": {
            "application/json": {
              "ascii": false,
              "bar_format": null,
              "colour": null,
              "elapsed": 0.023145675659179688,
              "initial": 0,
              "n": 0,
              "ncols": null,
              "nrows": 62,
              "postfix": null,
              "prefix": "",
              "rate": null,
              "total": 274,
              "unit": "it",
              "unit_divisor": 1000,
              "unit_scale": false
            },
            "application/vnd.jupyter.widget-view+json": {
              "model_id": "a1b7c8413a994daba244f84a93bf84ae",
              "version_major": 2,
              "version_minor": 0
            },
            "text/plain": [
              "  0%|          | 0/274 [00:00<?, ?it/s]"
            ]
          },
          "metadata": {},
          "output_type": "display_data"
        },
        {
          "name": "stdout",
          "output_type": "stream",
          "text": [
            "Epoch : [1] Train Loss : [0.03025] Val Loss : [0.03179]\n",
            "Model Saved\n"
          ]
        },
        {
          "data": {
            "application/json": {
              "ascii": false,
              "bar_format": null,
              "colour": null,
              "elapsed": 0.02431321144104004,
              "initial": 0,
              "n": 0,
              "ncols": null,
              "nrows": 62,
              "postfix": null,
              "prefix": "",
              "rate": null,
              "total": 1093,
              "unit": "it",
              "unit_divisor": 1000,
              "unit_scale": false
            },
            "application/vnd.jupyter.widget-view+json": {
              "model_id": "08b93dce90cb4f6a9e38322842cf5be6",
              "version_major": 2,
              "version_minor": 0
            },
            "text/plain": [
              "  0%|          | 0/1093 [00:00<?, ?it/s]"
            ]
          },
          "metadata": {},
          "output_type": "display_data"
        },
        {
          "data": {
            "application/json": {
              "ascii": false,
              "bar_format": null,
              "colour": null,
              "elapsed": 0.0234372615814209,
              "initial": 0,
              "n": 0,
              "ncols": null,
              "nrows": 62,
              "postfix": null,
              "prefix": "",
              "rate": null,
              "total": 274,
              "unit": "it",
              "unit_divisor": 1000,
              "unit_scale": false
            },
            "application/vnd.jupyter.widget-view+json": {
              "model_id": "38d90e67908b4d1d86b42f77c063024d",
              "version_major": 2,
              "version_minor": 0
            },
            "text/plain": [
              "  0%|          | 0/274 [00:00<?, ?it/s]"
            ]
          },
          "metadata": {},
          "output_type": "display_data"
        },
        {
          "name": "stdout",
          "output_type": "stream",
          "text": [
            "Epoch : [2] Train Loss : [0.02761] Val Loss : [0.02118]\n",
            "Model Saved\n"
          ]
        },
        {
          "data": {
            "application/json": {
              "ascii": false,
              "bar_format": null,
              "colour": null,
              "elapsed": 0.02364325523376465,
              "initial": 0,
              "n": 0,
              "ncols": null,
              "nrows": 62,
              "postfix": null,
              "prefix": "",
              "rate": null,
              "total": 1093,
              "unit": "it",
              "unit_divisor": 1000,
              "unit_scale": false
            },
            "application/vnd.jupyter.widget-view+json": {
              "model_id": "c45ada4156d247c1abda503a20638100",
              "version_major": 2,
              "version_minor": 0
            },
            "text/plain": [
              "  0%|          | 0/1093 [00:00<?, ?it/s]"
            ]
          },
          "metadata": {},
          "output_type": "display_data"
        },
        {
          "data": {
            "application/json": {
              "ascii": false,
              "bar_format": null,
              "colour": null,
              "elapsed": 0.023747682571411133,
              "initial": 0,
              "n": 0,
              "ncols": null,
              "nrows": 62,
              "postfix": null,
              "prefix": "",
              "rate": null,
              "total": 274,
              "unit": "it",
              "unit_divisor": 1000,
              "unit_scale": false
            },
            "application/vnd.jupyter.widget-view+json": {
              "model_id": "15184095950c49ba930db0a9e93e4af0",
              "version_major": 2,
              "version_minor": 0
            },
            "text/plain": [
              "  0%|          | 0/274 [00:00<?, ?it/s]"
            ]
          },
          "metadata": {},
          "output_type": "display_data"
        },
        {
          "name": "stdout",
          "output_type": "stream",
          "text": [
            "Epoch : [3] Train Loss : [0.01943] Val Loss : [0.02013]\n",
            "Model Saved\n"
          ]
        },
        {
          "data": {
            "application/json": {
              "ascii": false,
              "bar_format": null,
              "colour": null,
              "elapsed": 0.023958206176757812,
              "initial": 0,
              "n": 0,
              "ncols": null,
              "nrows": 62,
              "postfix": null,
              "prefix": "",
              "rate": null,
              "total": 1093,
              "unit": "it",
              "unit_divisor": 1000,
              "unit_scale": false
            },
            "application/vnd.jupyter.widget-view+json": {
              "model_id": "f3fbde715c2a4324add6a1d58ac6fdae",
              "version_major": 2,
              "version_minor": 0
            },
            "text/plain": [
              "  0%|          | 0/1093 [00:00<?, ?it/s]"
            ]
          },
          "metadata": {},
          "output_type": "display_data"
        },
        {
          "data": {
            "application/json": {
              "ascii": false,
              "bar_format": null,
              "colour": null,
              "elapsed": 0.023194074630737305,
              "initial": 0,
              "n": 0,
              "ncols": null,
              "nrows": 62,
              "postfix": null,
              "prefix": "",
              "rate": null,
              "total": 274,
              "unit": "it",
              "unit_divisor": 1000,
              "unit_scale": false
            },
            "application/vnd.jupyter.widget-view+json": {
              "model_id": "2074b0c8beca46b98bef5e66b35501a1",
              "version_major": 2,
              "version_minor": 0
            },
            "text/plain": [
              "  0%|          | 0/274 [00:00<?, ?it/s]"
            ]
          },
          "metadata": {},
          "output_type": "display_data"
        },
        {
          "name": "stdout",
          "output_type": "stream",
          "text": [
            "Epoch : [4] Train Loss : [0.01665] Val Loss : [0.01719]\n",
            "Model Saved\n"
          ]
        },
        {
          "data": {
            "application/json": {
              "ascii": false,
              "bar_format": null,
              "colour": null,
              "elapsed": 0.02358722686767578,
              "initial": 0,
              "n": 0,
              "ncols": null,
              "nrows": 62,
              "postfix": null,
              "prefix": "",
              "rate": null,
              "total": 1093,
              "unit": "it",
              "unit_divisor": 1000,
              "unit_scale": false
            },
            "application/vnd.jupyter.widget-view+json": {
              "model_id": "677eef07c4064e1eafa9b14285c31264",
              "version_major": 2,
              "version_minor": 0
            },
            "text/plain": [
              "  0%|          | 0/1093 [00:00<?, ?it/s]"
            ]
          },
          "metadata": {},
          "output_type": "display_data"
        },
        {
          "data": {
            "application/json": {
              "ascii": false,
              "bar_format": null,
              "colour": null,
              "elapsed": 0.023357391357421875,
              "initial": 0,
              "n": 0,
              "ncols": null,
              "nrows": 62,
              "postfix": null,
              "prefix": "",
              "rate": null,
              "total": 274,
              "unit": "it",
              "unit_divisor": 1000,
              "unit_scale": false
            },
            "application/vnd.jupyter.widget-view+json": {
              "model_id": "457764600d0b4979b158ac87f2afa089",
              "version_major": 2,
              "version_minor": 0
            },
            "text/plain": [
              "  0%|          | 0/274 [00:00<?, ?it/s]"
            ]
          },
          "metadata": {},
          "output_type": "display_data"
        },
        {
          "name": "stdout",
          "output_type": "stream",
          "text": [
            "Epoch : [5] Train Loss : [0.01619] Val Loss : [0.01584]\n",
            "Model Saved\n"
          ]
        },
        {
          "data": {
            "application/json": {
              "ascii": false,
              "bar_format": null,
              "colour": null,
              "elapsed": 0.02380204200744629,
              "initial": 0,
              "n": 0,
              "ncols": null,
              "nrows": 62,
              "postfix": null,
              "prefix": "",
              "rate": null,
              "total": 1093,
              "unit": "it",
              "unit_divisor": 1000,
              "unit_scale": false
            },
            "application/vnd.jupyter.widget-view+json": {
              "model_id": "fcd04196eccc477888bf159ea747f8f7",
              "version_major": 2,
              "version_minor": 0
            },
            "text/plain": [
              "  0%|          | 0/1093 [00:00<?, ?it/s]"
            ]
          },
          "metadata": {},
          "output_type": "display_data"
        },
        {
          "data": {
            "application/json": {
              "ascii": false,
              "bar_format": null,
              "colour": null,
              "elapsed": 0.02366018295288086,
              "initial": 0,
              "n": 0,
              "ncols": null,
              "nrows": 62,
              "postfix": null,
              "prefix": "",
              "rate": null,
              "total": 274,
              "unit": "it",
              "unit_divisor": 1000,
              "unit_scale": false
            },
            "application/vnd.jupyter.widget-view+json": {
              "model_id": "fc9523e44c2a4e039f9ecf82a7f11d13",
              "version_major": 2,
              "version_minor": 0
            },
            "text/plain": [
              "  0%|          | 0/274 [00:00<?, ?it/s]"
            ]
          },
          "metadata": {},
          "output_type": "display_data"
        },
        {
          "name": "stdout",
          "output_type": "stream",
          "text": [
            "Epoch : [6] Train Loss : [0.01575] Val Loss : [0.01540]\n",
            "Model Saved\n"
          ]
        },
        {
          "data": {
            "application/json": {
              "ascii": false,
              "bar_format": null,
              "colour": null,
              "elapsed": 0.023468017578125,
              "initial": 0,
              "n": 0,
              "ncols": null,
              "nrows": 62,
              "postfix": null,
              "prefix": "",
              "rate": null,
              "total": 1093,
              "unit": "it",
              "unit_divisor": 1000,
              "unit_scale": false
            },
            "application/vnd.jupyter.widget-view+json": {
              "model_id": "6676354e433540759ac3101c741f88d8",
              "version_major": 2,
              "version_minor": 0
            },
            "text/plain": [
              "  0%|          | 0/1093 [00:00<?, ?it/s]"
            ]
          },
          "metadata": {},
          "output_type": "display_data"
        },
        {
          "data": {
            "application/json": {
              "ascii": false,
              "bar_format": null,
              "colour": null,
              "elapsed": 0.023343563079833984,
              "initial": 0,
              "n": 0,
              "ncols": null,
              "nrows": 62,
              "postfix": null,
              "prefix": "",
              "rate": null,
              "total": 274,
              "unit": "it",
              "unit_divisor": 1000,
              "unit_scale": false
            },
            "application/vnd.jupyter.widget-view+json": {
              "model_id": "6427276445b048a7acef6aedfcf2942c",
              "version_major": 2,
              "version_minor": 0
            },
            "text/plain": [
              "  0%|          | 0/274 [00:00<?, ?it/s]"
            ]
          },
          "metadata": {},
          "output_type": "display_data"
        },
        {
          "name": "stdout",
          "output_type": "stream",
          "text": [
            "Epoch : [7] Train Loss : [0.01545] Val Loss : [0.01525]\n",
            "Model Saved\n"
          ]
        },
        {
          "data": {
            "application/json": {
              "ascii": false,
              "bar_format": null,
              "colour": null,
              "elapsed": 0.02334308624267578,
              "initial": 0,
              "n": 0,
              "ncols": null,
              "nrows": 62,
              "postfix": null,
              "prefix": "",
              "rate": null,
              "total": 1093,
              "unit": "it",
              "unit_divisor": 1000,
              "unit_scale": false
            },
            "application/vnd.jupyter.widget-view+json": {
              "model_id": "6fce0fe7c3c44e37b324829f59fa4ea3",
              "version_major": 2,
              "version_minor": 0
            },
            "text/plain": [
              "  0%|          | 0/1093 [00:00<?, ?it/s]"
            ]
          },
          "metadata": {},
          "output_type": "display_data"
        },
        {
          "data": {
            "application/json": {
              "ascii": false,
              "bar_format": null,
              "colour": null,
              "elapsed": 0.02323150634765625,
              "initial": 0,
              "n": 0,
              "ncols": null,
              "nrows": 62,
              "postfix": null,
              "prefix": "",
              "rate": null,
              "total": 274,
              "unit": "it",
              "unit_divisor": 1000,
              "unit_scale": false
            },
            "application/vnd.jupyter.widget-view+json": {
              "model_id": "b9fbc8b7964743079828279368b6e8ef",
              "version_major": 2,
              "version_minor": 0
            },
            "text/plain": [
              "  0%|          | 0/274 [00:00<?, ?it/s]"
            ]
          },
          "metadata": {},
          "output_type": "display_data"
        },
        {
          "name": "stdout",
          "output_type": "stream",
          "text": [
            "Epoch : [8] Train Loss : [0.01519] Val Loss : [0.01576]\n"
          ]
        },
        {
          "data": {
            "application/json": {
              "ascii": false,
              "bar_format": null,
              "colour": null,
              "elapsed": 0.023331403732299805,
              "initial": 0,
              "n": 0,
              "ncols": null,
              "nrows": 62,
              "postfix": null,
              "prefix": "",
              "rate": null,
              "total": 1093,
              "unit": "it",
              "unit_divisor": 1000,
              "unit_scale": false
            },
            "application/vnd.jupyter.widget-view+json": {
              "model_id": "f8df6ce602134f588809181b439b48b3",
              "version_major": 2,
              "version_minor": 0
            },
            "text/plain": [
              "  0%|          | 0/1093 [00:00<?, ?it/s]"
            ]
          },
          "metadata": {},
          "output_type": "display_data"
        },
        {
          "data": {
            "application/json": {
              "ascii": false,
              "bar_format": null,
              "colour": null,
              "elapsed": 0.023481369018554688,
              "initial": 0,
              "n": 0,
              "ncols": null,
              "nrows": 62,
              "postfix": null,
              "prefix": "",
              "rate": null,
              "total": 274,
              "unit": "it",
              "unit_divisor": 1000,
              "unit_scale": false
            },
            "application/vnd.jupyter.widget-view+json": {
              "model_id": "848a64eff73d460caca4001d2d729fd9",
              "version_major": 2,
              "version_minor": 0
            },
            "text/plain": [
              "  0%|          | 0/274 [00:00<?, ?it/s]"
            ]
          },
          "metadata": {},
          "output_type": "display_data"
        },
        {
          "name": "stdout",
          "output_type": "stream",
          "text": [
            "Epoch : [9] Train Loss : [0.01495] Val Loss : [0.01500]\n",
            "Model Saved\n"
          ]
        },
        {
          "data": {
            "application/json": {
              "ascii": false,
              "bar_format": null,
              "colour": null,
              "elapsed": 0.023767709732055664,
              "initial": 0,
              "n": 0,
              "ncols": null,
              "nrows": 62,
              "postfix": null,
              "prefix": "",
              "rate": null,
              "total": 1093,
              "unit": "it",
              "unit_divisor": 1000,
              "unit_scale": false
            },
            "application/vnd.jupyter.widget-view+json": {
              "model_id": "b176a468ac60442aab7054bdcd73eec8",
              "version_major": 2,
              "version_minor": 0
            },
            "text/plain": [
              "  0%|          | 0/1093 [00:00<?, ?it/s]"
            ]
          },
          "metadata": {},
          "output_type": "display_data"
        },
        {
          "data": {
            "application/json": {
              "ascii": false,
              "bar_format": null,
              "colour": null,
              "elapsed": 0.02384328842163086,
              "initial": 0,
              "n": 0,
              "ncols": null,
              "nrows": 62,
              "postfix": null,
              "prefix": "",
              "rate": null,
              "total": 274,
              "unit": "it",
              "unit_divisor": 1000,
              "unit_scale": false
            },
            "application/vnd.jupyter.widget-view+json": {
              "model_id": "521b9430b46a4127b40ff8b827da800b",
              "version_major": 2,
              "version_minor": 0
            },
            "text/plain": [
              "  0%|          | 0/274 [00:00<?, ?it/s]"
            ]
          },
          "metadata": {},
          "output_type": "display_data"
        },
        {
          "name": "stderr",
          "output_type": "stream",
          "text": [
            "[I 2023-08-26 18:17:28,652] Trial 7 finished with value: 0.015003435929768114 and parameters: {'LEARNING_RATE': 9.898609422754722e-05, 'DROP_OUT': 0.110295193300282}. Best is trial 7 with value: 0.015003435929768114.\n"
          ]
        },
        {
          "name": "stdout",
          "output_type": "stream",
          "text": [
            "Epoch : [10] Train Loss : [0.01472] Val Loss : [0.01525]\n"
          ]
        },
        {
          "data": {
            "application/json": {
              "ascii": false,
              "bar_format": null,
              "colour": null,
              "elapsed": 0.02368927001953125,
              "initial": 0,
              "n": 0,
              "ncols": null,
              "nrows": 62,
              "postfix": null,
              "prefix": "",
              "rate": null,
              "total": 1093,
              "unit": "it",
              "unit_divisor": 1000,
              "unit_scale": false
            },
            "application/vnd.jupyter.widget-view+json": {
              "model_id": "5ff89975961a4fea981a7585ec740dd5",
              "version_major": 2,
              "version_minor": 0
            },
            "text/plain": [
              "  0%|          | 0/1093 [00:00<?, ?it/s]"
            ]
          },
          "metadata": {},
          "output_type": "display_data"
        },
        {
          "data": {
            "application/json": {
              "ascii": false,
              "bar_format": null,
              "colour": null,
              "elapsed": 0.023406982421875,
              "initial": 0,
              "n": 0,
              "ncols": null,
              "nrows": 62,
              "postfix": null,
              "prefix": "",
              "rate": null,
              "total": 274,
              "unit": "it",
              "unit_divisor": 1000,
              "unit_scale": false
            },
            "application/vnd.jupyter.widget-view+json": {
              "model_id": "2dea8f432c9448c5afe14d11695e4871",
              "version_major": 2,
              "version_minor": 0
            },
            "text/plain": [
              "  0%|          | 0/274 [00:00<?, ?it/s]"
            ]
          },
          "metadata": {},
          "output_type": "display_data"
        },
        {
          "name": "stdout",
          "output_type": "stream",
          "text": [
            "Epoch : [1] Train Loss : [0.03091] Val Loss : [0.02981]\n",
            "Model Saved\n"
          ]
        },
        {
          "data": {
            "application/json": {
              "ascii": false,
              "bar_format": null,
              "colour": null,
              "elapsed": 0.023316621780395508,
              "initial": 0,
              "n": 0,
              "ncols": null,
              "nrows": 62,
              "postfix": null,
              "prefix": "",
              "rate": null,
              "total": 1093,
              "unit": "it",
              "unit_divisor": 1000,
              "unit_scale": false
            },
            "application/vnd.jupyter.widget-view+json": {
              "model_id": "be45437121fd42348da0e924fd866473",
              "version_major": 2,
              "version_minor": 0
            },
            "text/plain": [
              "  0%|          | 0/1093 [00:00<?, ?it/s]"
            ]
          },
          "metadata": {},
          "output_type": "display_data"
        },
        {
          "data": {
            "application/json": {
              "ascii": false,
              "bar_format": null,
              "colour": null,
              "elapsed": 0.023786067962646484,
              "initial": 0,
              "n": 0,
              "ncols": null,
              "nrows": 62,
              "postfix": null,
              "prefix": "",
              "rate": null,
              "total": 274,
              "unit": "it",
              "unit_divisor": 1000,
              "unit_scale": false
            },
            "application/vnd.jupyter.widget-view+json": {
              "model_id": "0c3dd3337d1940cb9d41de282c8c0834",
              "version_major": 2,
              "version_minor": 0
            },
            "text/plain": [
              "  0%|          | 0/274 [00:00<?, ?it/s]"
            ]
          },
          "metadata": {},
          "output_type": "display_data"
        },
        {
          "name": "stdout",
          "output_type": "stream",
          "text": [
            "Epoch : [2] Train Loss : [0.02587] Val Loss : [0.01772]\n",
            "Model Saved\n"
          ]
        },
        {
          "data": {
            "application/json": {
              "ascii": false,
              "bar_format": null,
              "colour": null,
              "elapsed": 0.024173974990844727,
              "initial": 0,
              "n": 0,
              "ncols": null,
              "nrows": 62,
              "postfix": null,
              "prefix": "",
              "rate": null,
              "total": 1093,
              "unit": "it",
              "unit_divisor": 1000,
              "unit_scale": false
            },
            "application/vnd.jupyter.widget-view+json": {
              "model_id": "a1e639fe8c8d435aae6e13f632ba2a7a",
              "version_major": 2,
              "version_minor": 0
            },
            "text/plain": [
              "  0%|          | 0/1093 [00:00<?, ?it/s]"
            ]
          },
          "metadata": {},
          "output_type": "display_data"
        },
        {
          "data": {
            "application/json": {
              "ascii": false,
              "bar_format": null,
              "colour": null,
              "elapsed": 0.023638248443603516,
              "initial": 0,
              "n": 0,
              "ncols": null,
              "nrows": 62,
              "postfix": null,
              "prefix": "",
              "rate": null,
              "total": 274,
              "unit": "it",
              "unit_divisor": 1000,
              "unit_scale": false
            },
            "application/vnd.jupyter.widget-view+json": {
              "model_id": "f13427634f254dc9ae07d646fb9c9b8a",
              "version_major": 2,
              "version_minor": 0
            },
            "text/plain": [
              "  0%|          | 0/274 [00:00<?, ?it/s]"
            ]
          },
          "metadata": {},
          "output_type": "display_data"
        },
        {
          "name": "stdout",
          "output_type": "stream",
          "text": [
            "Epoch : [3] Train Loss : [0.01727] Val Loss : [0.01734]\n",
            "Model Saved\n"
          ]
        },
        {
          "data": {
            "application/json": {
              "ascii": false,
              "bar_format": null,
              "colour": null,
              "elapsed": 0.023462772369384766,
              "initial": 0,
              "n": 0,
              "ncols": null,
              "nrows": 62,
              "postfix": null,
              "prefix": "",
              "rate": null,
              "total": 1093,
              "unit": "it",
              "unit_divisor": 1000,
              "unit_scale": false
            },
            "application/vnd.jupyter.widget-view+json": {
              "model_id": "ec37081acc7b409492aceed860e27fbe",
              "version_major": 2,
              "version_minor": 0
            },
            "text/plain": [
              "  0%|          | 0/1093 [00:00<?, ?it/s]"
            ]
          },
          "metadata": {},
          "output_type": "display_data"
        },
        {
          "data": {
            "application/json": {
              "ascii": false,
              "bar_format": null,
              "colour": null,
              "elapsed": 0.023514509201049805,
              "initial": 0,
              "n": 0,
              "ncols": null,
              "nrows": 62,
              "postfix": null,
              "prefix": "",
              "rate": null,
              "total": 274,
              "unit": "it",
              "unit_divisor": 1000,
              "unit_scale": false
            },
            "application/vnd.jupyter.widget-view+json": {
              "model_id": "4b8fe26c14ca4d668df2ade1a37b0e06",
              "version_major": 2,
              "version_minor": 0
            },
            "text/plain": [
              "  0%|          | 0/274 [00:00<?, ?it/s]"
            ]
          },
          "metadata": {},
          "output_type": "display_data"
        },
        {
          "name": "stdout",
          "output_type": "stream",
          "text": [
            "Epoch : [4] Train Loss : [0.01676] Val Loss : [0.01800]\n"
          ]
        },
        {
          "data": {
            "application/json": {
              "ascii": false,
              "bar_format": null,
              "colour": null,
              "elapsed": 0.02350163459777832,
              "initial": 0,
              "n": 0,
              "ncols": null,
              "nrows": 62,
              "postfix": null,
              "prefix": "",
              "rate": null,
              "total": 1093,
              "unit": "it",
              "unit_divisor": 1000,
              "unit_scale": false
            },
            "application/vnd.jupyter.widget-view+json": {
              "model_id": "462c6854e9624a628e41c5ec4b37b0d7",
              "version_major": 2,
              "version_minor": 0
            },
            "text/plain": [
              "  0%|          | 0/1093 [00:00<?, ?it/s]"
            ]
          },
          "metadata": {},
          "output_type": "display_data"
        },
        {
          "data": {
            "application/json": {
              "ascii": false,
              "bar_format": null,
              "colour": null,
              "elapsed": 0.023354768753051758,
              "initial": 0,
              "n": 0,
              "ncols": null,
              "nrows": 62,
              "postfix": null,
              "prefix": "",
              "rate": null,
              "total": 274,
              "unit": "it",
              "unit_divisor": 1000,
              "unit_scale": false
            },
            "application/vnd.jupyter.widget-view+json": {
              "model_id": "4c169934aba0406d9f2cd7f6975602b3",
              "version_major": 2,
              "version_minor": 0
            },
            "text/plain": [
              "  0%|          | 0/274 [00:00<?, ?it/s]"
            ]
          },
          "metadata": {},
          "output_type": "display_data"
        },
        {
          "name": "stdout",
          "output_type": "stream",
          "text": [
            "Epoch : [5] Train Loss : [0.01651] Val Loss : [0.01625]\n",
            "Model Saved\n"
          ]
        },
        {
          "data": {
            "application/json": {
              "ascii": false,
              "bar_format": null,
              "colour": null,
              "elapsed": 0.023515939712524414,
              "initial": 0,
              "n": 0,
              "ncols": null,
              "nrows": 62,
              "postfix": null,
              "prefix": "",
              "rate": null,
              "total": 1093,
              "unit": "it",
              "unit_divisor": 1000,
              "unit_scale": false
            },
            "application/vnd.jupyter.widget-view+json": {
              "model_id": "a4c3d1a6fed14e5f9b986408f839f7ce",
              "version_major": 2,
              "version_minor": 0
            },
            "text/plain": [
              "  0%|          | 0/1093 [00:00<?, ?it/s]"
            ]
          },
          "metadata": {},
          "output_type": "display_data"
        },
        {
          "data": {
            "application/json": {
              "ascii": false,
              "bar_format": null,
              "colour": null,
              "elapsed": 0.023266315460205078,
              "initial": 0,
              "n": 0,
              "ncols": null,
              "nrows": 62,
              "postfix": null,
              "prefix": "",
              "rate": null,
              "total": 274,
              "unit": "it",
              "unit_divisor": 1000,
              "unit_scale": false
            },
            "application/vnd.jupyter.widget-view+json": {
              "model_id": "ec90d6f80ad0419aa56f05d57d2616fa",
              "version_major": 2,
              "version_minor": 0
            },
            "text/plain": [
              "  0%|          | 0/274 [00:00<?, ?it/s]"
            ]
          },
          "metadata": {},
          "output_type": "display_data"
        },
        {
          "name": "stdout",
          "output_type": "stream",
          "text": [
            "Epoch : [6] Train Loss : [0.01638] Val Loss : [0.01608]\n",
            "Model Saved\n"
          ]
        },
        {
          "data": {
            "application/json": {
              "ascii": false,
              "bar_format": null,
              "colour": null,
              "elapsed": 0.02382349967956543,
              "initial": 0,
              "n": 0,
              "ncols": null,
              "nrows": 62,
              "postfix": null,
              "prefix": "",
              "rate": null,
              "total": 1093,
              "unit": "it",
              "unit_divisor": 1000,
              "unit_scale": false
            },
            "application/vnd.jupyter.widget-view+json": {
              "model_id": "ae3498c5a6f54667b27443490fdcb28b",
              "version_major": 2,
              "version_minor": 0
            },
            "text/plain": [
              "  0%|          | 0/1093 [00:00<?, ?it/s]"
            ]
          },
          "metadata": {},
          "output_type": "display_data"
        },
        {
          "data": {
            "application/json": {
              "ascii": false,
              "bar_format": null,
              "colour": null,
              "elapsed": 0.02349543571472168,
              "initial": 0,
              "n": 0,
              "ncols": null,
              "nrows": 62,
              "postfix": null,
              "prefix": "",
              "rate": null,
              "total": 274,
              "unit": "it",
              "unit_divisor": 1000,
              "unit_scale": false
            },
            "application/vnd.jupyter.widget-view+json": {
              "model_id": "e17b17f64af9413abfb329fb2adc9988",
              "version_major": 2,
              "version_minor": 0
            },
            "text/plain": [
              "  0%|          | 0/274 [00:00<?, ?it/s]"
            ]
          },
          "metadata": {},
          "output_type": "display_data"
        },
        {
          "name": "stdout",
          "output_type": "stream",
          "text": [
            "Epoch : [7] Train Loss : [0.01621] Val Loss : [0.01742]\n"
          ]
        },
        {
          "data": {
            "application/json": {
              "ascii": false,
              "bar_format": null,
              "colour": null,
              "elapsed": 0.023702144622802734,
              "initial": 0,
              "n": 0,
              "ncols": null,
              "nrows": 62,
              "postfix": null,
              "prefix": "",
              "rate": null,
              "total": 1093,
              "unit": "it",
              "unit_divisor": 1000,
              "unit_scale": false
            },
            "application/vnd.jupyter.widget-view+json": {
              "model_id": "9f7b75b09dca48078a9d8e9401f65e28",
              "version_major": 2,
              "version_minor": 0
            },
            "text/plain": [
              "  0%|          | 0/1093 [00:00<?, ?it/s]"
            ]
          },
          "metadata": {},
          "output_type": "display_data"
        },
        {
          "data": {
            "application/json": {
              "ascii": false,
              "bar_format": null,
              "colour": null,
              "elapsed": 0.023390769958496094,
              "initial": 0,
              "n": 0,
              "ncols": null,
              "nrows": 62,
              "postfix": null,
              "prefix": "",
              "rate": null,
              "total": 274,
              "unit": "it",
              "unit_divisor": 1000,
              "unit_scale": false
            },
            "application/vnd.jupyter.widget-view+json": {
              "model_id": "492c2834458b4bffa20456ab31a03cb4",
              "version_major": 2,
              "version_minor": 0
            },
            "text/plain": [
              "  0%|          | 0/274 [00:00<?, ?it/s]"
            ]
          },
          "metadata": {},
          "output_type": "display_data"
        },
        {
          "name": "stdout",
          "output_type": "stream",
          "text": [
            "Epoch : [8] Train Loss : [0.01599] Val Loss : [0.01740]\n"
          ]
        },
        {
          "data": {
            "application/json": {
              "ascii": false,
              "bar_format": null,
              "colour": null,
              "elapsed": 0.024059772491455078,
              "initial": 0,
              "n": 0,
              "ncols": null,
              "nrows": 62,
              "postfix": null,
              "prefix": "",
              "rate": null,
              "total": 1093,
              "unit": "it",
              "unit_divisor": 1000,
              "unit_scale": false
            },
            "application/vnd.jupyter.widget-view+json": {
              "model_id": "fd61691ba0904697bb80715519553871",
              "version_major": 2,
              "version_minor": 0
            },
            "text/plain": [
              "  0%|          | 0/1093 [00:00<?, ?it/s]"
            ]
          },
          "metadata": {},
          "output_type": "display_data"
        },
        {
          "data": {
            "application/json": {
              "ascii": false,
              "bar_format": null,
              "colour": null,
              "elapsed": 0.023608684539794922,
              "initial": 0,
              "n": 0,
              "ncols": null,
              "nrows": 62,
              "postfix": null,
              "prefix": "",
              "rate": null,
              "total": 274,
              "unit": "it",
              "unit_divisor": 1000,
              "unit_scale": false
            },
            "application/vnd.jupyter.widget-view+json": {
              "model_id": "97609778fac546a8a4aab5f09d2fafa6",
              "version_major": 2,
              "version_minor": 0
            },
            "text/plain": [
              "  0%|          | 0/274 [00:00<?, ?it/s]"
            ]
          },
          "metadata": {},
          "output_type": "display_data"
        },
        {
          "name": "stdout",
          "output_type": "stream",
          "text": [
            "Epoch : [9] Train Loss : [0.01581] Val Loss : [0.01614]\n"
          ]
        },
        {
          "data": {
            "application/json": {
              "ascii": false,
              "bar_format": null,
              "colour": null,
              "elapsed": 0.023621320724487305,
              "initial": 0,
              "n": 0,
              "ncols": null,
              "nrows": 62,
              "postfix": null,
              "prefix": "",
              "rate": null,
              "total": 1093,
              "unit": "it",
              "unit_divisor": 1000,
              "unit_scale": false
            },
            "application/vnd.jupyter.widget-view+json": {
              "model_id": "376af88e413843db991aeada004f33ac",
              "version_major": 2,
              "version_minor": 0
            },
            "text/plain": [
              "  0%|          | 0/1093 [00:00<?, ?it/s]"
            ]
          },
          "metadata": {},
          "output_type": "display_data"
        },
        {
          "data": {
            "application/json": {
              "ascii": false,
              "bar_format": null,
              "colour": null,
              "elapsed": 0.023265361785888672,
              "initial": 0,
              "n": 0,
              "ncols": null,
              "nrows": 62,
              "postfix": null,
              "prefix": "",
              "rate": null,
              "total": 274,
              "unit": "it",
              "unit_divisor": 1000,
              "unit_scale": false
            },
            "application/vnd.jupyter.widget-view+json": {
              "model_id": "481b5553250f413e8904d0b9640b10a6",
              "version_major": 2,
              "version_minor": 0
            },
            "text/plain": [
              "  0%|          | 0/274 [00:00<?, ?it/s]"
            ]
          },
          "metadata": {},
          "output_type": "display_data"
        },
        {
          "name": "stderr",
          "output_type": "stream",
          "text": [
            "[I 2023-08-26 19:23:02,573] Trial 8 finished with value: 0.01607561421055469 and parameters: {'LEARNING_RATE': 4.988319899794495e-05, 'DROP_OUT': 0.20661084937895774}. Best is trial 7 with value: 0.015003435929768114.\n"
          ]
        },
        {
          "name": "stdout",
          "output_type": "stream",
          "text": [
            "Epoch : [10] Train Loss : [0.01561] Val Loss : [0.01731]\n"
          ]
        },
        {
          "data": {
            "application/json": {
              "ascii": false,
              "bar_format": null,
              "colour": null,
              "elapsed": 0.024394512176513672,
              "initial": 0,
              "n": 0,
              "ncols": null,
              "nrows": 62,
              "postfix": null,
              "prefix": "",
              "rate": null,
              "total": 1093,
              "unit": "it",
              "unit_divisor": 1000,
              "unit_scale": false
            },
            "application/vnd.jupyter.widget-view+json": {
              "model_id": "62652a2cf8344e3aa7bfd35229fa6695",
              "version_major": 2,
              "version_minor": 0
            },
            "text/plain": [
              "  0%|          | 0/1093 [00:00<?, ?it/s]"
            ]
          },
          "metadata": {},
          "output_type": "display_data"
        },
        {
          "data": {
            "application/json": {
              "ascii": false,
              "bar_format": null,
              "colour": null,
              "elapsed": 0.02327871322631836,
              "initial": 0,
              "n": 0,
              "ncols": null,
              "nrows": 62,
              "postfix": null,
              "prefix": "",
              "rate": null,
              "total": 274,
              "unit": "it",
              "unit_divisor": 1000,
              "unit_scale": false
            },
            "application/vnd.jupyter.widget-view+json": {
              "model_id": "886d2a92142e4cedbeefea88d7d5ba12",
              "version_major": 2,
              "version_minor": 0
            },
            "text/plain": [
              "  0%|          | 0/274 [00:00<?, ?it/s]"
            ]
          },
          "metadata": {},
          "output_type": "display_data"
        },
        {
          "name": "stdout",
          "output_type": "stream",
          "text": [
            "Epoch : [1] Train Loss : [0.03056] Val Loss : [0.03006]\n",
            "Model Saved\n"
          ]
        },
        {
          "data": {
            "application/json": {
              "ascii": false,
              "bar_format": null,
              "colour": null,
              "elapsed": 0.02390122413635254,
              "initial": 0,
              "n": 0,
              "ncols": null,
              "nrows": 62,
              "postfix": null,
              "prefix": "",
              "rate": null,
              "total": 1093,
              "unit": "it",
              "unit_divisor": 1000,
              "unit_scale": false
            },
            "application/vnd.jupyter.widget-view+json": {
              "model_id": "a4857bc6e3fe47ce80f637a03ba4a5d0",
              "version_major": 2,
              "version_minor": 0
            },
            "text/plain": [
              "  0%|          | 0/1093 [00:00<?, ?it/s]"
            ]
          },
          "metadata": {},
          "output_type": "display_data"
        },
        {
          "data": {
            "application/json": {
              "ascii": false,
              "bar_format": null,
              "colour": null,
              "elapsed": 0.023602008819580078,
              "initial": 0,
              "n": 0,
              "ncols": null,
              "nrows": 62,
              "postfix": null,
              "prefix": "",
              "rate": null,
              "total": 274,
              "unit": "it",
              "unit_divisor": 1000,
              "unit_scale": false
            },
            "application/vnd.jupyter.widget-view+json": {
              "model_id": "54acd44eef3f4400a0680401493252a3",
              "version_major": 2,
              "version_minor": 0
            },
            "text/plain": [
              "  0%|          | 0/274 [00:00<?, ?it/s]"
            ]
          },
          "metadata": {},
          "output_type": "display_data"
        },
        {
          "name": "stdout",
          "output_type": "stream",
          "text": [
            "Epoch : [2] Train Loss : [0.01968] Val Loss : [0.01838]\n",
            "Model Saved\n"
          ]
        },
        {
          "data": {
            "application/json": {
              "ascii": false,
              "bar_format": null,
              "colour": null,
              "elapsed": 0.023360252380371094,
              "initial": 0,
              "n": 0,
              "ncols": null,
              "nrows": 62,
              "postfix": null,
              "prefix": "",
              "rate": null,
              "total": 1093,
              "unit": "it",
              "unit_divisor": 1000,
              "unit_scale": false
            },
            "application/vnd.jupyter.widget-view+json": {
              "model_id": "19fc6138b1f4417aa3be00d6a291ecaf",
              "version_major": 2,
              "version_minor": 0
            },
            "text/plain": [
              "  0%|          | 0/1093 [00:00<?, ?it/s]"
            ]
          },
          "metadata": {},
          "output_type": "display_data"
        },
        {
          "data": {
            "application/json": {
              "ascii": false,
              "bar_format": null,
              "colour": null,
              "elapsed": 0.023274898529052734,
              "initial": 0,
              "n": 0,
              "ncols": null,
              "nrows": 62,
              "postfix": null,
              "prefix": "",
              "rate": null,
              "total": 274,
              "unit": "it",
              "unit_divisor": 1000,
              "unit_scale": false
            },
            "application/vnd.jupyter.widget-view+json": {
              "model_id": "764d075069df49f6918652e123e4d5c6",
              "version_major": 2,
              "version_minor": 0
            },
            "text/plain": [
              "  0%|          | 0/274 [00:00<?, ?it/s]"
            ]
          },
          "metadata": {},
          "output_type": "display_data"
        },
        {
          "name": "stdout",
          "output_type": "stream",
          "text": [
            "Epoch : [3] Train Loss : [0.01784] Val Loss : [0.01868]\n"
          ]
        },
        {
          "data": {
            "application/json": {
              "ascii": false,
              "bar_format": null,
              "colour": null,
              "elapsed": 0.023473739624023438,
              "initial": 0,
              "n": 0,
              "ncols": null,
              "nrows": 62,
              "postfix": null,
              "prefix": "",
              "rate": null,
              "total": 1093,
              "unit": "it",
              "unit_divisor": 1000,
              "unit_scale": false
            },
            "application/vnd.jupyter.widget-view+json": {
              "model_id": "581854983f4541de9738a268ebd5a328",
              "version_major": 2,
              "version_minor": 0
            },
            "text/plain": [
              "  0%|          | 0/1093 [00:00<?, ?it/s]"
            ]
          },
          "metadata": {},
          "output_type": "display_data"
        },
        {
          "data": {
            "application/json": {
              "ascii": false,
              "bar_format": null,
              "colour": null,
              "elapsed": 0.023439884185791016,
              "initial": 0,
              "n": 0,
              "ncols": null,
              "nrows": 62,
              "postfix": null,
              "prefix": "",
              "rate": null,
              "total": 274,
              "unit": "it",
              "unit_divisor": 1000,
              "unit_scale": false
            },
            "application/vnd.jupyter.widget-view+json": {
              "model_id": "7d06af9c36af47bcabf5abeaf7d9e73c",
              "version_major": 2,
              "version_minor": 0
            },
            "text/plain": [
              "  0%|          | 0/274 [00:00<?, ?it/s]"
            ]
          },
          "metadata": {},
          "output_type": "display_data"
        },
        {
          "name": "stdout",
          "output_type": "stream",
          "text": [
            "Epoch : [4] Train Loss : [0.01756] Val Loss : [0.01768]\n",
            "Model Saved\n"
          ]
        },
        {
          "data": {
            "application/json": {
              "ascii": false,
              "bar_format": null,
              "colour": null,
              "elapsed": 0.023398399353027344,
              "initial": 0,
              "n": 0,
              "ncols": null,
              "nrows": 62,
              "postfix": null,
              "prefix": "",
              "rate": null,
              "total": 1093,
              "unit": "it",
              "unit_divisor": 1000,
              "unit_scale": false
            },
            "application/vnd.jupyter.widget-view+json": {
              "model_id": "3c60be044a754ca792dbdb7c9fded9a2",
              "version_major": 2,
              "version_minor": 0
            },
            "text/plain": [
              "  0%|          | 0/1093 [00:00<?, ?it/s]"
            ]
          },
          "metadata": {},
          "output_type": "display_data"
        },
        {
          "data": {
            "application/json": {
              "ascii": false,
              "bar_format": null,
              "colour": null,
              "elapsed": 0.023391008377075195,
              "initial": 0,
              "n": 0,
              "ncols": null,
              "nrows": 62,
              "postfix": null,
              "prefix": "",
              "rate": null,
              "total": 274,
              "unit": "it",
              "unit_divisor": 1000,
              "unit_scale": false
            },
            "application/vnd.jupyter.widget-view+json": {
              "model_id": "baefbc3564494a49b8f234e7170c083d",
              "version_major": 2,
              "version_minor": 0
            },
            "text/plain": [
              "  0%|          | 0/274 [00:00<?, ?it/s]"
            ]
          },
          "metadata": {},
          "output_type": "display_data"
        },
        {
          "name": "stdout",
          "output_type": "stream",
          "text": [
            "Epoch : [5] Train Loss : [0.01719] Val Loss : [0.02068]\n"
          ]
        },
        {
          "data": {
            "application/json": {
              "ascii": false,
              "bar_format": null,
              "colour": null,
              "elapsed": 0.023563861846923828,
              "initial": 0,
              "n": 0,
              "ncols": null,
              "nrows": 62,
              "postfix": null,
              "prefix": "",
              "rate": null,
              "total": 1093,
              "unit": "it",
              "unit_divisor": 1000,
              "unit_scale": false
            },
            "application/vnd.jupyter.widget-view+json": {
              "model_id": "b6bb373213144d8096f62c3bdc704dbc",
              "version_major": 2,
              "version_minor": 0
            },
            "text/plain": [
              "  0%|          | 0/1093 [00:00<?, ?it/s]"
            ]
          },
          "metadata": {},
          "output_type": "display_data"
        },
        {
          "data": {
            "application/json": {
              "ascii": false,
              "bar_format": null,
              "colour": null,
              "elapsed": 0.02346944808959961,
              "initial": 0,
              "n": 0,
              "ncols": null,
              "nrows": 62,
              "postfix": null,
              "prefix": "",
              "rate": null,
              "total": 274,
              "unit": "it",
              "unit_divisor": 1000,
              "unit_scale": false
            },
            "application/vnd.jupyter.widget-view+json": {
              "model_id": "d1132b1a4d4541c2a45182a74ebcb813",
              "version_major": 2,
              "version_minor": 0
            },
            "text/plain": [
              "  0%|          | 0/274 [00:00<?, ?it/s]"
            ]
          },
          "metadata": {},
          "output_type": "display_data"
        },
        {
          "name": "stdout",
          "output_type": "stream",
          "text": [
            "Epoch : [6] Train Loss : [0.01690] Val Loss : [0.01708]\n",
            "Model Saved\n"
          ]
        },
        {
          "data": {
            "application/json": {
              "ascii": false,
              "bar_format": null,
              "colour": null,
              "elapsed": 0.02343583106994629,
              "initial": 0,
              "n": 0,
              "ncols": null,
              "nrows": 62,
              "postfix": null,
              "prefix": "",
              "rate": null,
              "total": 1093,
              "unit": "it",
              "unit_divisor": 1000,
              "unit_scale": false
            },
            "application/vnd.jupyter.widget-view+json": {
              "model_id": "b906e4456fe24b41ba58c4d23f6821f3",
              "version_major": 2,
              "version_minor": 0
            },
            "text/plain": [
              "  0%|          | 0/1093 [00:00<?, ?it/s]"
            ]
          },
          "metadata": {},
          "output_type": "display_data"
        },
        {
          "data": {
            "application/json": {
              "ascii": false,
              "bar_format": null,
              "colour": null,
              "elapsed": 0.023480892181396484,
              "initial": 0,
              "n": 0,
              "ncols": null,
              "nrows": 62,
              "postfix": null,
              "prefix": "",
              "rate": null,
              "total": 274,
              "unit": "it",
              "unit_divisor": 1000,
              "unit_scale": false
            },
            "application/vnd.jupyter.widget-view+json": {
              "model_id": "6f25457f0a3248ff8394c4e91caecf11",
              "version_major": 2,
              "version_minor": 0
            },
            "text/plain": [
              "  0%|          | 0/274 [00:00<?, ?it/s]"
            ]
          },
          "metadata": {},
          "output_type": "display_data"
        },
        {
          "name": "stdout",
          "output_type": "stream",
          "text": [
            "Epoch : [7] Train Loss : [0.01675] Val Loss : [0.01737]\n"
          ]
        },
        {
          "data": {
            "application/json": {
              "ascii": false,
              "bar_format": null,
              "colour": null,
              "elapsed": 0.023394107818603516,
              "initial": 0,
              "n": 0,
              "ncols": null,
              "nrows": 62,
              "postfix": null,
              "prefix": "",
              "rate": null,
              "total": 1093,
              "unit": "it",
              "unit_divisor": 1000,
              "unit_scale": false
            },
            "application/vnd.jupyter.widget-view+json": {
              "model_id": "df8e6fb288114210b5fac4038cdc22a6",
              "version_major": 2,
              "version_minor": 0
            },
            "text/plain": [
              "  0%|          | 0/1093 [00:00<?, ?it/s]"
            ]
          },
          "metadata": {},
          "output_type": "display_data"
        },
        {
          "data": {
            "application/json": {
              "ascii": false,
              "bar_format": null,
              "colour": null,
              "elapsed": 0.023636817932128906,
              "initial": 0,
              "n": 0,
              "ncols": null,
              "nrows": 62,
              "postfix": null,
              "prefix": "",
              "rate": null,
              "total": 274,
              "unit": "it",
              "unit_divisor": 1000,
              "unit_scale": false
            },
            "application/vnd.jupyter.widget-view+json": {
              "model_id": "9549eda98ada42fd9d8c8a5e3c265954",
              "version_major": 2,
              "version_minor": 0
            },
            "text/plain": [
              "  0%|          | 0/274 [00:00<?, ?it/s]"
            ]
          },
          "metadata": {},
          "output_type": "display_data"
        },
        {
          "name": "stdout",
          "output_type": "stream",
          "text": [
            "Epoch : [8] Train Loss : [0.01660] Val Loss : [0.01803]\n"
          ]
        },
        {
          "data": {
            "application/json": {
              "ascii": false,
              "bar_format": null,
              "colour": null,
              "elapsed": 0.02382969856262207,
              "initial": 0,
              "n": 0,
              "ncols": null,
              "nrows": 62,
              "postfix": null,
              "prefix": "",
              "rate": null,
              "total": 1093,
              "unit": "it",
              "unit_divisor": 1000,
              "unit_scale": false
            },
            "application/vnd.jupyter.widget-view+json": {
              "model_id": "1aeca2dc40aa42ddb5626cb96ce964a3",
              "version_major": 2,
              "version_minor": 0
            },
            "text/plain": [
              "  0%|          | 0/1093 [00:00<?, ?it/s]"
            ]
          },
          "metadata": {},
          "output_type": "display_data"
        },
        {
          "data": {
            "application/json": {
              "ascii": false,
              "bar_format": null,
              "colour": null,
              "elapsed": 0.023378372192382812,
              "initial": 0,
              "n": 0,
              "ncols": null,
              "nrows": 62,
              "postfix": null,
              "prefix": "",
              "rate": null,
              "total": 274,
              "unit": "it",
              "unit_divisor": 1000,
              "unit_scale": false
            },
            "application/vnd.jupyter.widget-view+json": {
              "model_id": "6e135778cba0486392edfa2b2b88980c",
              "version_major": 2,
              "version_minor": 0
            },
            "text/plain": [
              "  0%|          | 0/274 [00:00<?, ?it/s]"
            ]
          },
          "metadata": {},
          "output_type": "display_data"
        },
        {
          "name": "stdout",
          "output_type": "stream",
          "text": [
            "Epoch : [9] Train Loss : [0.01647] Val Loss : [0.01640]\n",
            "Model Saved\n"
          ]
        },
        {
          "data": {
            "application/json": {
              "ascii": false,
              "bar_format": null,
              "colour": null,
              "elapsed": 0.02376246452331543,
              "initial": 0,
              "n": 0,
              "ncols": null,
              "nrows": 62,
              "postfix": null,
              "prefix": "",
              "rate": null,
              "total": 1093,
              "unit": "it",
              "unit_divisor": 1000,
              "unit_scale": false
            },
            "application/vnd.jupyter.widget-view+json": {
              "model_id": "c93ed931bf0444d689a09f1719ea20c2",
              "version_major": 2,
              "version_minor": 0
            },
            "text/plain": [
              "  0%|          | 0/1093 [00:00<?, ?it/s]"
            ]
          },
          "metadata": {},
          "output_type": "display_data"
        },
        {
          "data": {
            "application/json": {
              "ascii": false,
              "bar_format": null,
              "colour": null,
              "elapsed": 0.02335500717163086,
              "initial": 0,
              "n": 0,
              "ncols": null,
              "nrows": 62,
              "postfix": null,
              "prefix": "",
              "rate": null,
              "total": 274,
              "unit": "it",
              "unit_divisor": 1000,
              "unit_scale": false
            },
            "application/vnd.jupyter.widget-view+json": {
              "model_id": "1412ba0ae27149ba9796885d9611b095",
              "version_major": 2,
              "version_minor": 0
            },
            "text/plain": [
              "  0%|          | 0/274 [00:00<?, ?it/s]"
            ]
          },
          "metadata": {},
          "output_type": "display_data"
        },
        {
          "name": "stderr",
          "output_type": "stream",
          "text": [
            "[I 2023-08-26 20:28:35,946] Trial 9 finished with value: 0.01630544997297098 and parameters: {'LEARNING_RATE': 2.762700587248211e-05, 'DROP_OUT': 0.1367532107572949}. Best is trial 7 with value: 0.015003435929768114.\n"
          ]
        },
        {
          "name": "stdout",
          "output_type": "stream",
          "text": [
            "Epoch : [10] Train Loss : [0.01633] Val Loss : [0.01631]\n",
            "Model Saved\n",
            "{'LEARNING_RATE': 9.898609422754722e-05, 'DROP_OUT': 0.110295193300282}\n"
          ]
        }
      ],
      "source": [
        "study = optuna.create_study(direction='minimize')\n",
        "study.optimize(objective, n_trials=10)\n",
        "print(study.best_trial.params)"
      ]
    },
    {
      "cell_type": "code",
      "execution_count": null,
      "metadata": {
        "id": "vMvzrZeTK7F1",
        "outputId": "f032591c-2147-48a3-dd11-419c8467fab3"
      },
      "outputs": [
        {
          "data": {
            "text/plain": [
              "['/shared/home/inhamot/LG_AI/data/biLSTM_optuna.pkl']"
            ]
          },
          "execution_count": 92,
          "metadata": {},
          "output_type": "execute_result"
        }
      ],
      "source": [
        "# 하이퍼파라미터 튜닝 결과 저장\n",
        "joblib.dump(study, '/shared/home/inhamot/LG_AI/data/biLSTM_optuna.pkl')"
      ]
    },
    {
      "cell_type": "code",
      "execution_count": null,
      "metadata": {
        "scrolled": true,
        "id": "uFzf2LFcK7F2",
        "outputId": "814a6fa5-23ec-4559-f7c4-7ee32682e40a"
      },
      "outputs": [
        {
          "data": {
            "text/html": [
              "<div>\n",
              "<style scoped>\n",
              "    .dataframe tbody tr th:only-of-type {\n",
              "        vertical-align: middle;\n",
              "    }\n",
              "\n",
              "    .dataframe tbody tr th {\n",
              "        vertical-align: top;\n",
              "    }\n",
              "\n",
              "    .dataframe thead th {\n",
              "        text-align: right;\n",
              "    }\n",
              "</style>\n",
              "<table border=\"1\" class=\"dataframe\">\n",
              "  <thead>\n",
              "    <tr style=\"text-align: right;\">\n",
              "      <th></th>\n",
              "      <th>number</th>\n",
              "      <th>value</th>\n",
              "      <th>datetime_start</th>\n",
              "      <th>datetime_complete</th>\n",
              "      <th>duration</th>\n",
              "      <th>params_DROP_OUT</th>\n",
              "      <th>params_LEARNING_RATE</th>\n",
              "      <th>state</th>\n",
              "    </tr>\n",
              "  </thead>\n",
              "  <tbody>\n",
              "    <tr>\n",
              "      <th>0</th>\n",
              "      <td>0</td>\n",
              "      <td>0.017140</td>\n",
              "      <td>2023-08-26 09:32:38.570984</td>\n",
              "      <td>2023-08-26 10:38:16.027655</td>\n",
              "      <td>0 days 01:05:37.456671</td>\n",
              "      <td>0.234785</td>\n",
              "      <td>0.000019</td>\n",
              "      <td>COMPLETE</td>\n",
              "    </tr>\n",
              "    <tr>\n",
              "      <th>1</th>\n",
              "      <td>1</td>\n",
              "      <td>0.016170</td>\n",
              "      <td>2023-08-26 10:38:16.029031</td>\n",
              "      <td>2023-08-26 11:43:44.630999</td>\n",
              "      <td>0 days 01:05:28.601968</td>\n",
              "      <td>0.197214</td>\n",
              "      <td>0.000020</td>\n",
              "      <td>COMPLETE</td>\n",
              "    </tr>\n",
              "    <tr>\n",
              "      <th>2</th>\n",
              "      <td>2</td>\n",
              "      <td>0.015364</td>\n",
              "      <td>2023-08-26 11:43:44.632166</td>\n",
              "      <td>2023-08-26 12:49:15.364257</td>\n",
              "      <td>0 days 01:05:30.732091</td>\n",
              "      <td>0.157676</td>\n",
              "      <td>0.000049</td>\n",
              "      <td>COMPLETE</td>\n",
              "    </tr>\n",
              "    <tr>\n",
              "      <th>3</th>\n",
              "      <td>3</td>\n",
              "      <td>0.017311</td>\n",
              "      <td>2023-08-26 12:49:15.365402</td>\n",
              "      <td>2023-08-26 13:54:49.501222</td>\n",
              "      <td>0 days 01:05:34.135820</td>\n",
              "      <td>0.245685</td>\n",
              "      <td>0.000017</td>\n",
              "      <td>COMPLETE</td>\n",
              "    </tr>\n",
              "    <tr>\n",
              "      <th>4</th>\n",
              "      <td>4</td>\n",
              "      <td>0.016451</td>\n",
              "      <td>2023-08-26 13:54:49.502429</td>\n",
              "      <td>2023-08-26 15:00:27.080567</td>\n",
              "      <td>0 days 01:05:37.578138</td>\n",
              "      <td>0.206400</td>\n",
              "      <td>0.000024</td>\n",
              "      <td>COMPLETE</td>\n",
              "    </tr>\n",
              "    <tr>\n",
              "      <th>5</th>\n",
              "      <td>5</td>\n",
              "      <td>0.016538</td>\n",
              "      <td>2023-08-26 15:00:27.081746</td>\n",
              "      <td>2023-08-26 16:06:07.617400</td>\n",
              "      <td>0 days 01:05:40.535654</td>\n",
              "      <td>0.240683</td>\n",
              "      <td>0.000019</td>\n",
              "      <td>COMPLETE</td>\n",
              "    </tr>\n",
              "    <tr>\n",
              "      <th>6</th>\n",
              "      <td>6</td>\n",
              "      <td>0.015237</td>\n",
              "      <td>2023-08-26 16:06:07.618625</td>\n",
              "      <td>2023-08-26 17:11:55.046875</td>\n",
              "      <td>0 days 01:05:47.428250</td>\n",
              "      <td>0.109286</td>\n",
              "      <td>0.000048</td>\n",
              "      <td>COMPLETE</td>\n",
              "    </tr>\n",
              "    <tr>\n",
              "      <th>7</th>\n",
              "      <td>7</td>\n",
              "      <td>0.015003</td>\n",
              "      <td>2023-08-26 17:11:55.047908</td>\n",
              "      <td>2023-08-26 18:17:28.652202</td>\n",
              "      <td>0 days 01:05:33.604294</td>\n",
              "      <td>0.110295</td>\n",
              "      <td>0.000099</td>\n",
              "      <td>COMPLETE</td>\n",
              "    </tr>\n",
              "    <tr>\n",
              "      <th>8</th>\n",
              "      <td>8</td>\n",
              "      <td>0.016076</td>\n",
              "      <td>2023-08-26 18:17:28.653371</td>\n",
              "      <td>2023-08-26 19:23:02.572823</td>\n",
              "      <td>0 days 01:05:33.919452</td>\n",
              "      <td>0.206611</td>\n",
              "      <td>0.000050</td>\n",
              "      <td>COMPLETE</td>\n",
              "    </tr>\n",
              "    <tr>\n",
              "      <th>9</th>\n",
              "      <td>9</td>\n",
              "      <td>0.016305</td>\n",
              "      <td>2023-08-26 19:23:02.574071</td>\n",
              "      <td>2023-08-26 20:28:35.946602</td>\n",
              "      <td>0 days 01:05:33.372531</td>\n",
              "      <td>0.136753</td>\n",
              "      <td>0.000028</td>\n",
              "      <td>COMPLETE</td>\n",
              "    </tr>\n",
              "  </tbody>\n",
              "</table>\n",
              "</div>"
            ],
            "text/plain": [
              "   number     value             datetime_start          datetime_complete  \\\n",
              "0       0  0.017140 2023-08-26 09:32:38.570984 2023-08-26 10:38:16.027655   \n",
              "1       1  0.016170 2023-08-26 10:38:16.029031 2023-08-26 11:43:44.630999   \n",
              "2       2  0.015364 2023-08-26 11:43:44.632166 2023-08-26 12:49:15.364257   \n",
              "3       3  0.017311 2023-08-26 12:49:15.365402 2023-08-26 13:54:49.501222   \n",
              "4       4  0.016451 2023-08-26 13:54:49.502429 2023-08-26 15:00:27.080567   \n",
              "5       5  0.016538 2023-08-26 15:00:27.081746 2023-08-26 16:06:07.617400   \n",
              "6       6  0.015237 2023-08-26 16:06:07.618625 2023-08-26 17:11:55.046875   \n",
              "7       7  0.015003 2023-08-26 17:11:55.047908 2023-08-26 18:17:28.652202   \n",
              "8       8  0.016076 2023-08-26 18:17:28.653371 2023-08-26 19:23:02.572823   \n",
              "9       9  0.016305 2023-08-26 19:23:02.574071 2023-08-26 20:28:35.946602   \n",
              "\n",
              "                duration  params_DROP_OUT  params_LEARNING_RATE     state  \n",
              "0 0 days 01:05:37.456671         0.234785              0.000019  COMPLETE  \n",
              "1 0 days 01:05:28.601968         0.197214              0.000020  COMPLETE  \n",
              "2 0 days 01:05:30.732091         0.157676              0.000049  COMPLETE  \n",
              "3 0 days 01:05:34.135820         0.245685              0.000017  COMPLETE  \n",
              "4 0 days 01:05:37.578138         0.206400              0.000024  COMPLETE  \n",
              "5 0 days 01:05:40.535654         0.240683              0.000019  COMPLETE  \n",
              "6 0 days 01:05:47.428250         0.109286              0.000048  COMPLETE  \n",
              "7 0 days 01:05:33.604294         0.110295              0.000099  COMPLETE  \n",
              "8 0 days 01:05:33.919452         0.206611              0.000050  COMPLETE  \n",
              "9 0 days 01:05:33.372531         0.136753              0.000028  COMPLETE  "
            ]
          },
          "execution_count": 93,
          "metadata": {},
          "output_type": "execute_result"
        }
      ],
      "source": [
        "study = joblib.load('/shared/home/inhamot/LG_AI/data/biLSTM_optuna.pkl')\n",
        "df = study.trials_dataframe()\n",
        "df"
      ]
    },
    {
      "cell_type": "code",
      "execution_count": null,
      "metadata": {
        "scrolled": true,
        "id": "SIFJsdOOK7F2",
        "outputId": "99344ebc-0b67-4acb-c58e-e389b20179cf"
      },
      "outputs": [
        {
          "data": {
            "text/html": [
              "<div>\n",
              "<style scoped>\n",
              "    .dataframe tbody tr th:only-of-type {\n",
              "        vertical-align: middle;\n",
              "    }\n",
              "\n",
              "    .dataframe tbody tr th {\n",
              "        vertical-align: top;\n",
              "    }\n",
              "\n",
              "    .dataframe thead th {\n",
              "        text-align: right;\n",
              "    }\n",
              "</style>\n",
              "<table border=\"1\" class=\"dataframe\">\n",
              "  <thead>\n",
              "    <tr style=\"text-align: right;\">\n",
              "      <th></th>\n",
              "      <th>number</th>\n",
              "      <th>value</th>\n",
              "      <th>datetime_start</th>\n",
              "      <th>datetime_complete</th>\n",
              "      <th>duration</th>\n",
              "      <th>params_DROP_OUT</th>\n",
              "      <th>params_LEARNING_RATE</th>\n",
              "      <th>state</th>\n",
              "    </tr>\n",
              "  </thead>\n",
              "  <tbody>\n",
              "    <tr>\n",
              "      <th>7</th>\n",
              "      <td>7</td>\n",
              "      <td>0.015003</td>\n",
              "      <td>2023-08-26 17:11:55.047908</td>\n",
              "      <td>2023-08-26 18:17:28.652202</td>\n",
              "      <td>0 days 01:05:33.604294</td>\n",
              "      <td>0.110295</td>\n",
              "      <td>0.000099</td>\n",
              "      <td>COMPLETE</td>\n",
              "    </tr>\n",
              "    <tr>\n",
              "      <th>6</th>\n",
              "      <td>6</td>\n",
              "      <td>0.015237</td>\n",
              "      <td>2023-08-26 16:06:07.618625</td>\n",
              "      <td>2023-08-26 17:11:55.046875</td>\n",
              "      <td>0 days 01:05:47.428250</td>\n",
              "      <td>0.109286</td>\n",
              "      <td>0.000048</td>\n",
              "      <td>COMPLETE</td>\n",
              "    </tr>\n",
              "    <tr>\n",
              "      <th>2</th>\n",
              "      <td>2</td>\n",
              "      <td>0.015364</td>\n",
              "      <td>2023-08-26 11:43:44.632166</td>\n",
              "      <td>2023-08-26 12:49:15.364257</td>\n",
              "      <td>0 days 01:05:30.732091</td>\n",
              "      <td>0.157676</td>\n",
              "      <td>0.000049</td>\n",
              "      <td>COMPLETE</td>\n",
              "    </tr>\n",
              "    <tr>\n",
              "      <th>8</th>\n",
              "      <td>8</td>\n",
              "      <td>0.016076</td>\n",
              "      <td>2023-08-26 18:17:28.653371</td>\n",
              "      <td>2023-08-26 19:23:02.572823</td>\n",
              "      <td>0 days 01:05:33.919452</td>\n",
              "      <td>0.206611</td>\n",
              "      <td>0.000050</td>\n",
              "      <td>COMPLETE</td>\n",
              "    </tr>\n",
              "    <tr>\n",
              "      <th>1</th>\n",
              "      <td>1</td>\n",
              "      <td>0.016170</td>\n",
              "      <td>2023-08-26 10:38:16.029031</td>\n",
              "      <td>2023-08-26 11:43:44.630999</td>\n",
              "      <td>0 days 01:05:28.601968</td>\n",
              "      <td>0.197214</td>\n",
              "      <td>0.000020</td>\n",
              "      <td>COMPLETE</td>\n",
              "    </tr>\n",
              "    <tr>\n",
              "      <th>9</th>\n",
              "      <td>9</td>\n",
              "      <td>0.016305</td>\n",
              "      <td>2023-08-26 19:23:02.574071</td>\n",
              "      <td>2023-08-26 20:28:35.946602</td>\n",
              "      <td>0 days 01:05:33.372531</td>\n",
              "      <td>0.136753</td>\n",
              "      <td>0.000028</td>\n",
              "      <td>COMPLETE</td>\n",
              "    </tr>\n",
              "    <tr>\n",
              "      <th>4</th>\n",
              "      <td>4</td>\n",
              "      <td>0.016451</td>\n",
              "      <td>2023-08-26 13:54:49.502429</td>\n",
              "      <td>2023-08-26 15:00:27.080567</td>\n",
              "      <td>0 days 01:05:37.578138</td>\n",
              "      <td>0.206400</td>\n",
              "      <td>0.000024</td>\n",
              "      <td>COMPLETE</td>\n",
              "    </tr>\n",
              "    <tr>\n",
              "      <th>5</th>\n",
              "      <td>5</td>\n",
              "      <td>0.016538</td>\n",
              "      <td>2023-08-26 15:00:27.081746</td>\n",
              "      <td>2023-08-26 16:06:07.617400</td>\n",
              "      <td>0 days 01:05:40.535654</td>\n",
              "      <td>0.240683</td>\n",
              "      <td>0.000019</td>\n",
              "      <td>COMPLETE</td>\n",
              "    </tr>\n",
              "    <tr>\n",
              "      <th>0</th>\n",
              "      <td>0</td>\n",
              "      <td>0.017140</td>\n",
              "      <td>2023-08-26 09:32:38.570984</td>\n",
              "      <td>2023-08-26 10:38:16.027655</td>\n",
              "      <td>0 days 01:05:37.456671</td>\n",
              "      <td>0.234785</td>\n",
              "      <td>0.000019</td>\n",
              "      <td>COMPLETE</td>\n",
              "    </tr>\n",
              "    <tr>\n",
              "      <th>3</th>\n",
              "      <td>3</td>\n",
              "      <td>0.017311</td>\n",
              "      <td>2023-08-26 12:49:15.365402</td>\n",
              "      <td>2023-08-26 13:54:49.501222</td>\n",
              "      <td>0 days 01:05:34.135820</td>\n",
              "      <td>0.245685</td>\n",
              "      <td>0.000017</td>\n",
              "      <td>COMPLETE</td>\n",
              "    </tr>\n",
              "  </tbody>\n",
              "</table>\n",
              "</div>"
            ],
            "text/plain": [
              "   number     value             datetime_start          datetime_complete  \\\n",
              "7       7  0.015003 2023-08-26 17:11:55.047908 2023-08-26 18:17:28.652202   \n",
              "6       6  0.015237 2023-08-26 16:06:07.618625 2023-08-26 17:11:55.046875   \n",
              "2       2  0.015364 2023-08-26 11:43:44.632166 2023-08-26 12:49:15.364257   \n",
              "8       8  0.016076 2023-08-26 18:17:28.653371 2023-08-26 19:23:02.572823   \n",
              "1       1  0.016170 2023-08-26 10:38:16.029031 2023-08-26 11:43:44.630999   \n",
              "9       9  0.016305 2023-08-26 19:23:02.574071 2023-08-26 20:28:35.946602   \n",
              "4       4  0.016451 2023-08-26 13:54:49.502429 2023-08-26 15:00:27.080567   \n",
              "5       5  0.016538 2023-08-26 15:00:27.081746 2023-08-26 16:06:07.617400   \n",
              "0       0  0.017140 2023-08-26 09:32:38.570984 2023-08-26 10:38:16.027655   \n",
              "3       3  0.017311 2023-08-26 12:49:15.365402 2023-08-26 13:54:49.501222   \n",
              "\n",
              "                duration  params_DROP_OUT  params_LEARNING_RATE     state  \n",
              "7 0 days 01:05:33.604294         0.110295              0.000099  COMPLETE  \n",
              "6 0 days 01:05:47.428250         0.109286              0.000048  COMPLETE  \n",
              "2 0 days 01:05:30.732091         0.157676              0.000049  COMPLETE  \n",
              "8 0 days 01:05:33.919452         0.206611              0.000050  COMPLETE  \n",
              "1 0 days 01:05:28.601968         0.197214              0.000020  COMPLETE  \n",
              "9 0 days 01:05:33.372531         0.136753              0.000028  COMPLETE  \n",
              "4 0 days 01:05:37.578138         0.206400              0.000024  COMPLETE  \n",
              "5 0 days 01:05:40.535654         0.240683              0.000019  COMPLETE  \n",
              "0 0 days 01:05:37.456671         0.234785              0.000019  COMPLETE  \n",
              "3 0 days 01:05:34.135820         0.245685              0.000017  COMPLETE  "
            ]
          },
          "execution_count": 94,
          "metadata": {},
          "output_type": "execute_result"
        }
      ],
      "source": [
        "df.sort_values(by=['value'])"
      ]
    },
    {
      "cell_type": "markdown",
      "metadata": {
        "id": "4p34dqTgzFtC"
      },
      "source": [
        "#9. 모델 학습"
      ]
    },
    {
      "cell_type": "code",
      "execution_count": null,
      "metadata": {
        "id": "ZpXcB2KZK7F2"
      },
      "outputs": [],
      "source": [
        "# 튜닝하여 최적화된 하이퍼파라미터\n",
        "CFG = {\n",
        "    'TRAIN_WINDOW_SIZE':91, # 90일치로 학습\n",
        "    'PREDICT_SIZE':21, # 21일치 예측\n",
        "    'EPOCHS':10, # 전체 데이터셋을 몇 번 반복해서 훈련할지를 나타냅니다. 즉, 10번의 반복 학습이 이루어집니다.\n",
        "    'LEARNING_RATE':9.898609422754722e-05,\n",
        "    'BATCH_SIZE':4096,\n",
        "    'DROP_OUT':0.110295193300282,\n",
        "    'SEED':41\n",
        "}"
      ]
    },
    {
      "cell_type": "code",
      "execution_count": null,
      "metadata": {
        "id": "lD74OJCiK7F2"
      },
      "outputs": [],
      "source": [
        "# 위 함수는 머신 러닝 모델을 훈련시키는 기능을 수행합니다.\n",
        "def train(model, optimizer, train_loader, val_loader, device): # train_loader = 데이터셋에서 배치 크기만큼 데이터를 로드하는 역할\n",
        "    model.to(device) # GPU가 지정되었다면 모델을 GPU에 할당하여 가속화된 계산을 수행합니다.\n",
        "    criterion = nn.MSELoss().to(device) # 평균 제곱 오차(Mean Squared Error, MSE)를 손실 함수로 사용합니다.\n",
        "    best_loss = 9999999 # 최고 손실 값을 초기화합니다.\n",
        "    best_model = None # 최고 성능을 보이는 모델을 저장하는 변수를 초기화\n",
        "\n",
        "    for epoch in range(1, CFG['EPOCHS']+1): # epoch 수만큼 모델을 훈련\n",
        "        model.train() # 모델을 학습 모드로 설정\n",
        "        train_loss = []\n",
        "        train_mae = []\n",
        "        for X, Y in tqdm(iter(train_loader)): # train_loader로부터 미니배치를 가져와서 모델을 학습\n",
        "            X = X.to(device)\n",
        "            Y = Y.to(device)\n",
        "\n",
        "            optimizer.zero_grad() #optimizer.zero_grad()로 기울기를 초기화\n",
        "\n",
        "            output = model(X) #모델을 통해 입력 데이터(X)를 전달하여 예측 결과(output)를 얻습니다.\n",
        "            loss = criterion(output, Y) # 손실 함수(criterion)를 사용하여 예측 결과와 실제 값 사이의 손실을 계산합니다.\n",
        "\n",
        "            loss.backward() # 손실(loss)를 역전파하여 기울기를 계산하고,\n",
        "            optimizer.step() # optimizer.step()으로 가중치를 업데이트합니다.\n",
        "\n",
        "            train_loss.append(loss.item()) # 학습된 손실 값들을 train_loss 리스트에 저장합니다.\n",
        "\n",
        "        val_loss = validation(model, val_loader, criterion, device) # validation 함수를 호출하여 검증 데이터셋에 대한 손실 값을 얻어옵니다.\n",
        "        print(f'Epoch : [{epoch}] Train Loss : [{np.mean(train_loss):.5f}] Val Loss : [{val_loss:.5f}]')\n",
        "\n",
        "        # 현재 손실 값이 이전까지의 최고 손실 값보다 작은 경우에만 모델을 저장합니다.\n",
        "        if best_loss > val_loss:\n",
        "            best_loss = val_loss\n",
        "            best_model = model\n",
        "            print('Model Saved')\n",
        "    return best_model"
      ]
    },
    {
      "cell_type": "code",
      "execution_count": null,
      "metadata": {
        "colab": {
          "base_uri": "https://localhost:8080/",
          "height": 966,
          "referenced_widgets": [
            "895b0fa50da34183af81ec0f9c3d5247",
            "221f4050fb8e45c49338817491bb3bbf",
            "f9de92a7872d4199b5316733e4472edc",
            "ef989e3135b1453bb1c6ec84fe307b83",
            "6028404ca294465e97c96325103080e5",
            "6349e4cb27744411babdbe0a2ab9437f",
            "a253ddf597a54b2e86b9ae4e2885370f",
            "18d63c3a60b64418903f8d0a33bf326a",
            "1ff9a40d1c0f439bac4034f6e3f59cc0",
            "2028508abaa849268ba76bf2d6959823",
            "dfd50788ed254b3296f67c529cf38600",
            "925bc1555b734167b1750a3934fa5d78",
            "fd04a0eb12b047fe8064f96c64ad56ef",
            "ed21c05ae2694fd3a3ec0070df15957d",
            "f7e646f23dc64c2ea09c659eddd4e085",
            "e5ab3a25035641bd86ebec2a4d88fcfd",
            "60d26190e37241babaaff4304910439c",
            "0dcd57b5358b4b1baa3ccd6eb03ad0bf",
            "217ce089b293412aa9f0102e06980414",
            "3ba0f5e7500442e3a42d194758b096fb",
            "c236b4fd316640e19943c0b0ff54c0a0",
            "e72077710c70407e8353e906cf98e753",
            "16e1c8d16529482499957723331282b9",
            "95e84b8f06c74a13997595ee170d52e3",
            "549eb1688697431996a4ece7d205a71b",
            "2ffd680674b246009e6e1acc07f3eb33",
            "24058206f3a14d64b6cdf9f77f2adffb",
            "d9a5d1fe3fd34877a479d76f5cd28818",
            "36b17f9d652049fd8a7f7f95babddd2b",
            "2b813885f7444d2fab30b07fc8e176d2",
            "a9a773f81fb74518b62aeb6190990545",
            "4e109c63c72245858ac6ba77433cb76c",
            "01e6288bf84b484087e970e512b18396",
            "5b6384508e344e8faf698464826bedea",
            "08eabdb6ec6847318463ca6b1a47feb9",
            "3bae72f33c4e477b9d3861ccedd9a6a0",
            "7df8c512f0354fba837838113bf8a734",
            "aa45ee0b1ef04900b7529028befa6c26",
            "8d50721c8ca846c884eed0272f0c0019",
            "bb5cb0e0b2e34f0bb4da61a6a02919fa",
            "159b0120c44b495d8ec2960b1ea72837",
            "38704e93ad1848d992036efa04b5e691",
            "a114944d6a2a456685b7cdaacd531b6e",
            "59e18a7f469f4312bb2efce871ce7c68",
            "65b28e6df9bf414a95caccd2a7204563",
            "c31a227f26ce4db9a701bb065735debb",
            "dcf28bb46dd94f0daf46f95b2b7073e3",
            "671bde2ee573401cb9f3038317482a3f",
            "a3a799bc0a494f1097d83200553fa0de",
            "2193e8c8b60a469ab15f336aff71aca4",
            "dd3945494e0e4983b4934defd281d6f9",
            "0b14140021ad477199ad38b8e1cbf944",
            "82f215a65aa74889bd801a6056695e49",
            "be9df710ac4349d9b2e393e787c5496e",
            "e657863a826d42b4ac07954b7e5664a5",
            "bbf75ae601864eb8a24c162021fbf585",
            "b268dc66c71d4be8ae686bc61e8e63cf",
            "0acf429fe266498d9b444b43f1b222e6",
            "03c3a25e74ef4ea2b333084fd5d1b8ac",
            "a2471c31c7c542a18a2e3a659ca80d3f",
            "f70a5ac6a70c44d492d4f747c143e359",
            "fae057e4a35749db8e4a99754973a2cc",
            "ab5dce39b41947b0862bcfac87781094",
            "0e0b096bbfd9461cb876eb3870e463de",
            "573c57eed212405386cadaea3b5219f7",
            "25a3a808cdf94521a5ff27fb089f43ca",
            "661c595bf47a48ef87b352a7194e9dda",
            "94e1528e4a684d5b86d4e31af610812d",
            "8d92adc39f29428ab5933b024de290ee",
            "aeca8fd3a02442c999969bda860d0619",
            "9db1987ade6340b29adde0039f9e4bd5",
            "830b98529c214b76974a9aab007eb4a9",
            "7b3d31b06f1d4efd989ebfb3c0971632",
            "9cfed9a8291d40ba955f698ea14ac9be",
            "af00cf7acd6f446aa40dd74d8e0db2dc",
            "73a278579569477c9b589f9693fa062a",
            "890f02ba0d194bdf921467db1f98046f",
            "ed5d6c2d6dd7474e91efc3fab7d4e85c",
            "9a1f08cc2776453cb2feecea50cca0d2",
            "75213e7ff30a4f30b6254bec5066343e",
            "034c919b527c48aab44aa7541930d09f",
            "7abdd870beea46ec87944fbadf2877ca",
            "ab124f89480440abb5b57fe727e06920",
            "41f02353ec1545b294a7e66100ca36c4",
            "16e38e86f65d4ed6ad53e32f46d13700",
            "feef34f1ef224c3884819056d6963bc9",
            "21b0a184d56240bea6b77ed0f2797db6",
            "2bdf1f8f58144835accda0931084a6f2",
            "7aa0f76b9b604f7083c6b2e5f0bb2a35",
            "45de4c0e6ac04f74a64c6a037fd2d24a",
            "ac6bc923f9064ba89b19703b8def2de9",
            "daba977cab154b16893607f2bd7cc328",
            "3f7c84bd3969457798296dd908d3558c",
            "4c5b0beda4c6479c888c62b63ff97cda",
            "5c0a246cfd424589b59ed82c586aeb23",
            "6bdb3815524a47a1bfd0f83c6d045700",
            "ee039a44c3bd461cb76cd183cbeaf8fe",
            "41cec81f31ba47e8a291424147438a34",
            "8e2ebd274f3d48eb81099ef3faf67963",
            "5117d6eeda46420c83952e5300851129",
            "16acd5bd935a4b548004671b26eccf73",
            "e9ab64d65b2c46a889bd19200b41ab1b",
            "79820def1dd44380ab67e90fcdee06d5",
            "b05f6712f526497d92ef04385c7fd1b0",
            "ba2c1c8fd57846249b7c2469dd22c46e",
            "1ebbef10cab143a7a533c6eddb746594",
            "121da880b4d74d0e9e0f7d1f13a53775",
            "100a7ed9e184476792f32a75ea2edf1f",
            "368f518879e744d6a0ad1f0d6d8e95c3",
            "1041551f20ae4c228ac72094a57986bc",
            "60c4cbbc54534c43b3e1bb1bd1d56a5a",
            "faeaad98a2a94ac08f92e10b14e9999a",
            "c9778336475b4111bd500fbfd0e9cd30",
            "df78701ed7854b828d439611359e54f3",
            "09fabfba9a8e4965805667a37b728f60",
            "e4d124bba10647d2adf766c92ff47fe8",
            "065bd1899fd54a48bdcef5694029a07e",
            "cf0194cbd732441fa47a19799bc6b60d",
            "db54d6f36d1f4234aaf09e35dab53f6e",
            "7b6936bf0a454ba386b304f8c4cd389b",
            "0087a952ae4a4d69807d8caf09f9a836",
            "2e86bd85229b483a9e5c78e8d7a19996",
            "52f1dee86ff045ea8c784985099ffbb7",
            "7f33fd27867047f699f6898fb29ab587",
            "309a007a61f94e04bfc152f204c1db1c",
            "9926ccaf366247efbe9ade7ec1384ba8",
            "b8aa3f9e95c54cacae40e725e6e272db",
            "6ee970b57c8b4b76ab0136ae5f550c48",
            "6215891df0a742b88ae11713181085c8",
            "d1fca9b0d00c478eaec6702f8ac814a9",
            "4d5815751a2949c9bdca7756f618fe84",
            "2ea0256ea9c84285b0287fafdc08a5d6",
            "d5883248f0e340aeb7f1e8a31a34204b",
            "9878a7e4143e4a7089c218419e04b4ab",
            "d6e270b930c846e98a2c12f0e2f7086d",
            "a53df0e91ae44213a0a5ee36a5eb45d7",
            "60b05dce6c2842f28f922a91b27f6ac2",
            "b33dc828b3d840a38e76fdb1352a1eee",
            "e5cd7757296446b1bc82b55c49eda8e8",
            "1e6787e7969b4a328d5e0693620745f2",
            "83ce27afa38b4d6a81272d4309ab4289",
            "77b86d012eb24666b6c67eec55e5b486",
            "06ac7637dae14da8a05a113e01ada016",
            "10b7a281723b4c8aa9cf18487de9f6e6",
            "103a5fca9873418cab7e3794eba6085a",
            "30daf63e6fe24d6ba62cc239d8d3fbb5",
            "93088c02db0d4767b25d52630539eccf",
            "6871c79c10bb4b2fba0226c10fa630a0",
            "360de676a3c846e2be2df868c7f6c545",
            "2969e3c728b94eab8b3a5d54e69b2356",
            "dd43f88eb46a4fd6acb9cdc925bd2b0e",
            "bf953e7f99fb4b4f9535eed26f649b20",
            "5a34d59537144d3db48d43ddd96d4439",
            "ce97d818816e427fa4c9e69127d538d7",
            "e94b5a93dce34c838f93a25c29dd62e6",
            "ce71cfa472164af7b5b9509e2305f390",
            "3cca6c575d9e47d197c2548cd1f8d313",
            "83d238f4ca5449b4adc25a0df5ca40ad",
            "7c8fbc26f797477a9ecdce954ee16810",
            "d8a82df2b7a141a091336cc004d06e96",
            "dba5b1fc5db24ea28caeac857213a437",
            "68c56a19fcfd4d5ba3608985fa7377bf",
            "cfdd75bbe0994c7f8b08fa254052b7e5",
            "eb51af1d79de4eb2824f8c2d0400c8e2",
            "dfb0d401728c429f9a58e59598542654",
            "ae291df1a201420694f418b4b3f6a90a",
            "75a47c7e7e1d4c35887f1b11f1c68393",
            "173c2cca7a2c4b26833d2972c4d801a7",
            "21229c07fdda426db4010cbd65a887a4",
            "ea16e49b3b714e4da73e205ddc4aefb6",
            "0b3afdc248f24c2b96296ecc3356018b",
            "b3457d606ea647d38154172e8a5e5246",
            "5502aeb8d5e044348454ab93f9f640c4",
            "210b55cfa4bb4d53aec7871e4d18ea75",
            "bb21ba54eb334e918fdddcd6b9f804cd",
            "e1c197c6a4f947adb16a4f615fc5ef2e",
            "6dd7c6e2ba8847d18864f1ac567dfbb6",
            "16d8874930c0484a88ab02c7a8852729",
            "7703e828eec8471eb3982c3b326fb3e2",
            "b13f0ce0375f48b69dda06d2d47509b3",
            "ec898184fefe4c738f8752ae6d6492f4",
            "03761a51bf2a41e2ba43918c79a65fc0",
            "380b1d6b954c4a059ddc4ca9511aefb8",
            "4e9f2ee665be473da85fc038fcef9c6a",
            "cd4c5bafc787443b9b08165bf9c5376d",
            "8f055b93c5ee4674b472446bc92ea311",
            "83f18f9ed9244a8e839ed0deb52d5318",
            "7bdb2ecaefa74871b70092d271c59924",
            "cfe8d9a456fa4e4aa160b1bf8fc1e65b",
            "e536f07cef67435aa93252e6011e26c4",
            "1a10ca38e3174d06ba3276ac070367d9",
            "eda1f4a5c265405487f6c7ad33a0880a",
            "0f0ec1167b6544fc8227d305758ec68d",
            "6fa10b0ce03a4c0ab40169b1b3d8dbd3",
            "64f1cb14e5fa48d8aa204d675c4a53d8",
            "355b4d16b76a482981cef7c09b143339",
            "0e577be305c4463e9836f739efdf0f6a",
            "b2cd536841374a28882f77e2ce70d63d",
            "82c26cafa1764028a5d5a7f8027c04e8",
            "ad784aaa3e8a402faced1f2f10d97508",
            "a71ddc6553ec4ee28e7c96e67fa8b81c",
            "76fe517a20d749449ca411cf6d7d4650",
            "920ce9aa10154fd1b31b5c83f59ced47",
            "887eb649921d4b5aa391a35d8abe5d8f",
            "ac48558905934cbabad730af6356f4a4",
            "74440009e80e457985cca5cc490160eb",
            "be35e00bf5414aba9114fa7341af42ac",
            "75ec1d641d754485a9e3f6892da42ff0",
            "f83ca54bb57b4be58a5dc20f6f5e20d0",
            "601e1ee9b9234299b96aced2bc05a23b",
            "1ae1f8e72c1042618e541b73ff935532",
            "c1308d53179f4ed18638426e477a00c3",
            "bd68cff344a847839b5b9f420f60f398",
            "fc221f742e504bac97bb8a9615c26767",
            "bf0e593a049a44abb1bd3518f5fd574c",
            "ef4f35dac1274cfdbaa1d2a0cf20e667",
            "be8e090bf174470f91226435ea09c425",
            "bbc7b831c9504ee18546f87d6f631d8f",
            "f972aeb64059468f88627458162d9148",
            "af9aad6798364b95a8a9287c6636e527",
            "8ed16f97965647f9ac37a1eb823e8472",
            "db0e4877d5254ded91e3356ee07703a6",
            "d1564452471b4aa68f3a4171daa76b38",
            "325852fa30864eca82f19ee43d01a0cc",
            "d6fe5df24fd4414983bc6130ad3ac848",
            "bcdab08897944ac2be4960dfd4577951",
            "9b7a9d5f5adf42ffa1b3559c46650a8b",
            "aa2f4bf2d7c74b4b8909f2dbff695704",
            "f36876006de14905a5b633a9698a1c15",
            "42c40cd722eb4561aae29f4e519815b8",
            "39bcfc9734a04f0d891660475b40e099",
            "26722963e0f24ef0b015808380ae4139",
            "f9941bf5ee534f2392ad67046e0a9330",
            "741a5118cbc348e8b670d09cd92002dc",
            "139045302d074949b7a0480714bbe5c3",
            "a51b63eda6604dbd95b61c40dfd685f5",
            "1da4c7541a1c4489b85cf8d2f7a71968",
            "686c152a4d7a4619b757951414818c82",
            "dc5387313b8043b2b4738667ebd4fd06",
            "18bdb6fb577a44cfb903478797451b54"
          ]
        },
        "id": "Lckwx0mWzE9l",
        "outputId": "50023cbd-230f-4a42-a2cc-e341906e62df",
        "scrolled": true
      },
      "outputs": [
        {
          "data": {
            "application/json": {
              "ascii": false,
              "bar_format": null,
              "colour": null,
              "elapsed": 0.024145841598510742,
              "initial": 0,
              "n": 0,
              "ncols": null,
              "nrows": 62,
              "postfix": null,
              "prefix": "",
              "rate": null,
              "total": 1093,
              "unit": "it",
              "unit_divisor": 1000,
              "unit_scale": false
            },
            "application/vnd.jupyter.widget-view+json": {
              "model_id": "8ed16f97965647f9ac37a1eb823e8472",
              "version_major": 2,
              "version_minor": 0
            },
            "text/plain": [
              "  0%|          | 0/1093 [00:00<?, ?it/s]"
            ]
          },
          "metadata": {},
          "output_type": "display_data"
        },
        {
          "data": {
            "application/json": {
              "ascii": false,
              "bar_format": null,
              "colour": null,
              "elapsed": 0.02317214012145996,
              "initial": 0,
              "n": 0,
              "ncols": null,
              "nrows": 62,
              "postfix": null,
              "prefix": "",
              "rate": null,
              "total": 274,
              "unit": "it",
              "unit_divisor": 1000,
              "unit_scale": false
            },
            "application/vnd.jupyter.widget-view+json": {
              "model_id": "db0e4877d5254ded91e3356ee07703a6",
              "version_major": 2,
              "version_minor": 0
            },
            "text/plain": [
              "  0%|          | 0/274 [00:00<?, ?it/s]"
            ]
          },
          "metadata": {},
          "output_type": "display_data"
        },
        {
          "name": "stdout",
          "output_type": "stream",
          "text": [
            "Epoch : [1] Train Loss : [0.03089] Val Loss : [0.03053]\n",
            "Model Saved\n"
          ]
        },
        {
          "data": {
            "application/json": {
              "ascii": false,
              "bar_format": null,
              "colour": null,
              "elapsed": 0.023750782012939453,
              "initial": 0,
              "n": 0,
              "ncols": null,
              "nrows": 62,
              "postfix": null,
              "prefix": "",
              "rate": null,
              "total": 1093,
              "unit": "it",
              "unit_divisor": 1000,
              "unit_scale": false
            },
            "application/vnd.jupyter.widget-view+json": {
              "model_id": "d1564452471b4aa68f3a4171daa76b38",
              "version_major": 2,
              "version_minor": 0
            },
            "text/plain": [
              "  0%|          | 0/1093 [00:00<?, ?it/s]"
            ]
          },
          "metadata": {},
          "output_type": "display_data"
        },
        {
          "data": {
            "application/json": {
              "ascii": false,
              "bar_format": null,
              "colour": null,
              "elapsed": 0.023499727249145508,
              "initial": 0,
              "n": 0,
              "ncols": null,
              "nrows": 62,
              "postfix": null,
              "prefix": "",
              "rate": null,
              "total": 274,
              "unit": "it",
              "unit_divisor": 1000,
              "unit_scale": false
            },
            "application/vnd.jupyter.widget-view+json": {
              "model_id": "325852fa30864eca82f19ee43d01a0cc",
              "version_major": 2,
              "version_minor": 0
            },
            "text/plain": [
              "  0%|          | 0/274 [00:00<?, ?it/s]"
            ]
          },
          "metadata": {},
          "output_type": "display_data"
        },
        {
          "name": "stdout",
          "output_type": "stream",
          "text": [
            "Epoch : [2] Train Loss : [0.02746] Val Loss : [0.04080]\n"
          ]
        },
        {
          "data": {
            "application/json": {
              "ascii": false,
              "bar_format": null,
              "colour": null,
              "elapsed": 0.023468494415283203,
              "initial": 0,
              "n": 0,
              "ncols": null,
              "nrows": 62,
              "postfix": null,
              "prefix": "",
              "rate": null,
              "total": 1093,
              "unit": "it",
              "unit_divisor": 1000,
              "unit_scale": false
            },
            "application/vnd.jupyter.widget-view+json": {
              "model_id": "d6fe5df24fd4414983bc6130ad3ac848",
              "version_major": 2,
              "version_minor": 0
            },
            "text/plain": [
              "  0%|          | 0/1093 [00:00<?, ?it/s]"
            ]
          },
          "metadata": {},
          "output_type": "display_data"
        },
        {
          "data": {
            "application/json": {
              "ascii": false,
              "bar_format": null,
              "colour": null,
              "elapsed": 0.023418188095092773,
              "initial": 0,
              "n": 0,
              "ncols": null,
              "nrows": 62,
              "postfix": null,
              "prefix": "",
              "rate": null,
              "total": 274,
              "unit": "it",
              "unit_divisor": 1000,
              "unit_scale": false
            },
            "application/vnd.jupyter.widget-view+json": {
              "model_id": "bcdab08897944ac2be4960dfd4577951",
              "version_major": 2,
              "version_minor": 0
            },
            "text/plain": [
              "  0%|          | 0/274 [00:00<?, ?it/s]"
            ]
          },
          "metadata": {},
          "output_type": "display_data"
        },
        {
          "name": "stdout",
          "output_type": "stream",
          "text": [
            "Epoch : [3] Train Loss : [0.01898] Val Loss : [0.01932]\n",
            "Model Saved\n"
          ]
        },
        {
          "data": {
            "application/json": {
              "ascii": false,
              "bar_format": null,
              "colour": null,
              "elapsed": 0.02819967269897461,
              "initial": 0,
              "n": 0,
              "ncols": null,
              "nrows": 62,
              "postfix": null,
              "prefix": "",
              "rate": null,
              "total": 1093,
              "unit": "it",
              "unit_divisor": 1000,
              "unit_scale": false
            },
            "application/vnd.jupyter.widget-view+json": {
              "model_id": "9b7a9d5f5adf42ffa1b3559c46650a8b",
              "version_major": 2,
              "version_minor": 0
            },
            "text/plain": [
              "  0%|          | 0/1093 [00:00<?, ?it/s]"
            ]
          },
          "metadata": {},
          "output_type": "display_data"
        },
        {
          "data": {
            "application/json": {
              "ascii": false,
              "bar_format": null,
              "colour": null,
              "elapsed": 0.023279190063476562,
              "initial": 0,
              "n": 0,
              "ncols": null,
              "nrows": 62,
              "postfix": null,
              "prefix": "",
              "rate": null,
              "total": 274,
              "unit": "it",
              "unit_divisor": 1000,
              "unit_scale": false
            },
            "application/vnd.jupyter.widget-view+json": {
              "model_id": "aa2f4bf2d7c74b4b8909f2dbff695704",
              "version_major": 2,
              "version_minor": 0
            },
            "text/plain": [
              "  0%|          | 0/274 [00:00<?, ?it/s]"
            ]
          },
          "metadata": {},
          "output_type": "display_data"
        },
        {
          "name": "stdout",
          "output_type": "stream",
          "text": [
            "Epoch : [4] Train Loss : [0.01660] Val Loss : [0.01614]\n",
            "Model Saved\n"
          ]
        },
        {
          "data": {
            "application/json": {
              "ascii": false,
              "bar_format": null,
              "colour": null,
              "elapsed": 0.023346900939941406,
              "initial": 0,
              "n": 0,
              "ncols": null,
              "nrows": 62,
              "postfix": null,
              "prefix": "",
              "rate": null,
              "total": 1093,
              "unit": "it",
              "unit_divisor": 1000,
              "unit_scale": false
            },
            "application/vnd.jupyter.widget-view+json": {
              "model_id": "f36876006de14905a5b633a9698a1c15",
              "version_major": 2,
              "version_minor": 0
            },
            "text/plain": [
              "  0%|          | 0/1093 [00:00<?, ?it/s]"
            ]
          },
          "metadata": {},
          "output_type": "display_data"
        },
        {
          "data": {
            "application/json": {
              "ascii": false,
              "bar_format": null,
              "colour": null,
              "elapsed": 0.02308797836303711,
              "initial": 0,
              "n": 0,
              "ncols": null,
              "nrows": 62,
              "postfix": null,
              "prefix": "",
              "rate": null,
              "total": 274,
              "unit": "it",
              "unit_divisor": 1000,
              "unit_scale": false
            },
            "application/vnd.jupyter.widget-view+json": {
              "model_id": "42c40cd722eb4561aae29f4e519815b8",
              "version_major": 2,
              "version_minor": 0
            },
            "text/plain": [
              "  0%|          | 0/274 [00:00<?, ?it/s]"
            ]
          },
          "metadata": {},
          "output_type": "display_data"
        },
        {
          "name": "stdout",
          "output_type": "stream",
          "text": [
            "Epoch : [5] Train Loss : [0.01605] Val Loss : [0.01564]\n",
            "Model Saved\n"
          ]
        },
        {
          "data": {
            "application/json": {
              "ascii": false,
              "bar_format": null,
              "colour": null,
              "elapsed": 0.024142026901245117,
              "initial": 0,
              "n": 0,
              "ncols": null,
              "nrows": 62,
              "postfix": null,
              "prefix": "",
              "rate": null,
              "total": 1093,
              "unit": "it",
              "unit_divisor": 1000,
              "unit_scale": false
            },
            "application/vnd.jupyter.widget-view+json": {
              "model_id": "39bcfc9734a04f0d891660475b40e099",
              "version_major": 2,
              "version_minor": 0
            },
            "text/plain": [
              "  0%|          | 0/1093 [00:00<?, ?it/s]"
            ]
          },
          "metadata": {},
          "output_type": "display_data"
        },
        {
          "data": {
            "application/json": {
              "ascii": false,
              "bar_format": null,
              "colour": null,
              "elapsed": 0.023172378540039062,
              "initial": 0,
              "n": 0,
              "ncols": null,
              "nrows": 62,
              "postfix": null,
              "prefix": "",
              "rate": null,
              "total": 274,
              "unit": "it",
              "unit_divisor": 1000,
              "unit_scale": false
            },
            "application/vnd.jupyter.widget-view+json": {
              "model_id": "26722963e0f24ef0b015808380ae4139",
              "version_major": 2,
              "version_minor": 0
            },
            "text/plain": [
              "  0%|          | 0/274 [00:00<?, ?it/s]"
            ]
          },
          "metadata": {},
          "output_type": "display_data"
        },
        {
          "name": "stdout",
          "output_type": "stream",
          "text": [
            "Epoch : [6] Train Loss : [0.01558] Val Loss : [0.01534]\n",
            "Model Saved\n"
          ]
        },
        {
          "data": {
            "application/json": {
              "ascii": false,
              "bar_format": null,
              "colour": null,
              "elapsed": 0.023283004760742188,
              "initial": 0,
              "n": 0,
              "ncols": null,
              "nrows": 62,
              "postfix": null,
              "prefix": "",
              "rate": null,
              "total": 1093,
              "unit": "it",
              "unit_divisor": 1000,
              "unit_scale": false
            },
            "application/vnd.jupyter.widget-view+json": {
              "model_id": "f9941bf5ee534f2392ad67046e0a9330",
              "version_major": 2,
              "version_minor": 0
            },
            "text/plain": [
              "  0%|          | 0/1093 [00:00<?, ?it/s]"
            ]
          },
          "metadata": {},
          "output_type": "display_data"
        },
        {
          "data": {
            "application/json": {
              "ascii": false,
              "bar_format": null,
              "colour": null,
              "elapsed": 0.023322105407714844,
              "initial": 0,
              "n": 0,
              "ncols": null,
              "nrows": 62,
              "postfix": null,
              "prefix": "",
              "rate": null,
              "total": 274,
              "unit": "it",
              "unit_divisor": 1000,
              "unit_scale": false
            },
            "application/vnd.jupyter.widget-view+json": {
              "model_id": "741a5118cbc348e8b670d09cd92002dc",
              "version_major": 2,
              "version_minor": 0
            },
            "text/plain": [
              "  0%|          | 0/274 [00:00<?, ?it/s]"
            ]
          },
          "metadata": {},
          "output_type": "display_data"
        },
        {
          "name": "stdout",
          "output_type": "stream",
          "text": [
            "Epoch : [7] Train Loss : [0.01542] Val Loss : [0.01538]\n"
          ]
        },
        {
          "data": {
            "application/json": {
              "ascii": false,
              "bar_format": null,
              "colour": null,
              "elapsed": 0.023476362228393555,
              "initial": 0,
              "n": 0,
              "ncols": null,
              "nrows": 62,
              "postfix": null,
              "prefix": "",
              "rate": null,
              "total": 1093,
              "unit": "it",
              "unit_divisor": 1000,
              "unit_scale": false
            },
            "application/vnd.jupyter.widget-view+json": {
              "model_id": "139045302d074949b7a0480714bbe5c3",
              "version_major": 2,
              "version_minor": 0
            },
            "text/plain": [
              "  0%|          | 0/1093 [00:00<?, ?it/s]"
            ]
          },
          "metadata": {},
          "output_type": "display_data"
        },
        {
          "data": {
            "application/json": {
              "ascii": false,
              "bar_format": null,
              "colour": null,
              "elapsed": 0.02368450164794922,
              "initial": 0,
              "n": 0,
              "ncols": null,
              "nrows": 62,
              "postfix": null,
              "prefix": "",
              "rate": null,
              "total": 274,
              "unit": "it",
              "unit_divisor": 1000,
              "unit_scale": false
            },
            "application/vnd.jupyter.widget-view+json": {
              "model_id": "a51b63eda6604dbd95b61c40dfd685f5",
              "version_major": 2,
              "version_minor": 0
            },
            "text/plain": [
              "  0%|          | 0/274 [00:00<?, ?it/s]"
            ]
          },
          "metadata": {},
          "output_type": "display_data"
        },
        {
          "name": "stdout",
          "output_type": "stream",
          "text": [
            "Epoch : [8] Train Loss : [0.01508] Val Loss : [0.01476]\n",
            "Model Saved\n"
          ]
        },
        {
          "data": {
            "application/json": {
              "ascii": false,
              "bar_format": null,
              "colour": null,
              "elapsed": 0.02356123924255371,
              "initial": 0,
              "n": 0,
              "ncols": null,
              "nrows": 62,
              "postfix": null,
              "prefix": "",
              "rate": null,
              "total": 1093,
              "unit": "it",
              "unit_divisor": 1000,
              "unit_scale": false
            },
            "application/vnd.jupyter.widget-view+json": {
              "model_id": "1da4c7541a1c4489b85cf8d2f7a71968",
              "version_major": 2,
              "version_minor": 0
            },
            "text/plain": [
              "  0%|          | 0/1093 [00:00<?, ?it/s]"
            ]
          },
          "metadata": {},
          "output_type": "display_data"
        },
        {
          "data": {
            "application/json": {
              "ascii": false,
              "bar_format": null,
              "colour": null,
              "elapsed": 0.023580312728881836,
              "initial": 0,
              "n": 0,
              "ncols": null,
              "nrows": 62,
              "postfix": null,
              "prefix": "",
              "rate": null,
              "total": 274,
              "unit": "it",
              "unit_divisor": 1000,
              "unit_scale": false
            },
            "application/vnd.jupyter.widget-view+json": {
              "model_id": "686c152a4d7a4619b757951414818c82",
              "version_major": 2,
              "version_minor": 0
            },
            "text/plain": [
              "  0%|          | 0/274 [00:00<?, ?it/s]"
            ]
          },
          "metadata": {},
          "output_type": "display_data"
        },
        {
          "name": "stdout",
          "output_type": "stream",
          "text": [
            "Epoch : [9] Train Loss : [0.01479] Val Loss : [0.01464]\n",
            "Model Saved\n"
          ]
        },
        {
          "data": {
            "application/json": {
              "ascii": false,
              "bar_format": null,
              "colour": null,
              "elapsed": 0.02338099479675293,
              "initial": 0,
              "n": 0,
              "ncols": null,
              "nrows": 62,
              "postfix": null,
              "prefix": "",
              "rate": null,
              "total": 1093,
              "unit": "it",
              "unit_divisor": 1000,
              "unit_scale": false
            },
            "application/vnd.jupyter.widget-view+json": {
              "model_id": "dc5387313b8043b2b4738667ebd4fd06",
              "version_major": 2,
              "version_minor": 0
            },
            "text/plain": [
              "  0%|          | 0/1093 [00:00<?, ?it/s]"
            ]
          },
          "metadata": {},
          "output_type": "display_data"
        },
        {
          "data": {
            "application/json": {
              "ascii": false,
              "bar_format": null,
              "colour": null,
              "elapsed": 0.02343273162841797,
              "initial": 0,
              "n": 0,
              "ncols": null,
              "nrows": 62,
              "postfix": null,
              "prefix": "",
              "rate": null,
              "total": 274,
              "unit": "it",
              "unit_divisor": 1000,
              "unit_scale": false
            },
            "application/vnd.jupyter.widget-view+json": {
              "model_id": "18bdb6fb577a44cfb903478797451b54",
              "version_major": 2,
              "version_minor": 0
            },
            "text/plain": [
              "  0%|          | 0/274 [00:00<?, ?it/s]"
            ]
          },
          "metadata": {},
          "output_type": "display_data"
        },
        {
          "name": "stdout",
          "output_type": "stream",
          "text": [
            "Epoch : [10] Train Loss : [0.01462] Val Loss : [0.01478]\n"
          ]
        }
      ],
      "source": [
        "model = biLSTM(num_classes= CFG['PREDICT_SIZE'], input_size= 5, hidden_size = 512, num_layers =2,\n",
        "               seq_length= CFG['PREDICT_SIZE'], drop_out =CFG['DROP_OUT']\n",
        "model = nn.DataParallel(model,device_ids = [0,1]) ## 모델에 GPU 2개 병렬 연결\n",
        "optimizer = torch.optim.Adam(params = model.parameters(), lr = CFG[\"LEARNING_RATE\"])\n",
        "infer_model = train(model, optimizer, train_loader, val_loader, device= device)"
      ]
    },
    {
      "cell_type": "markdown",
      "metadata": {
        "id": "DUB0MPnKzPOg"
      },
      "source": [
        "#10. 예측결과 도출"
      ]
    },
    {
      "cell_type": "code",
      "execution_count": null,
      "metadata": {
        "id": "NEZ4J49_zL_f"
      },
      "outputs": [],
      "source": [
        "test_dataset = CustomDataset(test_input, None)\n",
        "test_loader = DataLoader(test_dataset, batch_size = CFG['BATCH_SIZE'], shuffle=False, num_workers=0)"
      ]
    },
    {
      "cell_type": "code",
      "execution_count": null,
      "metadata": {
        "id": "SSh4E_7zzsiG"
      },
      "outputs": [],
      "source": [
        "def inference(model, test_loader, device):\n",
        "    predictions = []\n",
        "\n",
        "    with torch.no_grad():\n",
        "        for X in tqdm(iter(test_loader)):\n",
        "            X = X.to(device)\n",
        "\n",
        "            output = model(X)\n",
        "\n",
        "            # 모델 출력인 output을 CPU로 이동하고 numpy 배열로 변환\n",
        "            output = output.cpu().numpy()\n",
        "\n",
        "            predictions.extend(output)\n",
        "\n",
        "    return np.array(predictions)"
      ]
    },
    {
      "cell_type": "code",
      "execution_count": null,
      "metadata": {
        "colab": {
          "base_uri": "https://localhost:8080/",
          "height": 49,
          "referenced_widgets": [
            "045f6f73e12441688752f320e3b503c3",
            "d57043e087fa4c169561eac8b5470187",
            "c3dcc1eaedfb42bdab91435211c3815d",
            "95dfd5810c604f93825cffbed5d29d28",
            "53fe7218f23e4a28b22f6184e006a755",
            "ede3939b98e94e9c921cbe6bf084ac5c",
            "bf73072f0a454c60978aff2c6bab40a2",
            "125bb69d27cf443f92eda2ec5c16e19f",
            "e40533c6f7a94a408f6ccaab8fcc0d81",
            "955c247fb1564513a1c4510268c69ace",
            "851ab15a6d314293a4a6e738557a02c1",
            "6de7987fbe1e462986e4a941f7ba92c2"
          ]
        },
        "id": "tdXVaXaqztlP",
        "outputId": "d2277e1e-58d6-47d0-ed58-49a1eb5ca10b"
      },
      "outputs": [
        {
          "data": {
            "application/json": {
              "ascii": false,
              "bar_format": null,
              "colour": null,
              "elapsed": 0.023255348205566406,
              "initial": 0,
              "n": 0,
              "ncols": null,
              "nrows": 62,
              "postfix": null,
              "prefix": "",
              "rate": null,
              "total": 4,
              "unit": "it",
              "unit_divisor": 1000,
              "unit_scale": false
            },
            "application/vnd.jupyter.widget-view+json": {
              "model_id": "6de7987fbe1e462986e4a941f7ba92c2",
              "version_major": 2,
              "version_minor": 0
            },
            "text/plain": [
              "  0%|          | 0/4 [00:00<?, ?it/s]"
            ]
          },
          "metadata": {},
          "output_type": "display_data"
        }
      ],
      "source": [
        "pred = inference(infer_model, test_loader, device)"
      ]
    },
    {
      "cell_type": "code",
      "execution_count": null,
      "metadata": {
        "id": "A-WwiMkPzv4i"
      },
      "outputs": [],
      "source": [
        "# 추론 결과를 inverse scaling\n",
        "for idx in range(len(pred)):\n",
        "    pred[idx, :] = pred[idx, :] * (scale_max_dict[idx] - scale_min_dict[idx]) + scale_min_dict[idx]\n",
        "\n",
        "# 결과 후처리\n",
        "pred = np.round(pred, 0).astype(int)"
      ]
    },
    {
      "cell_type": "code",
      "execution_count": null,
      "metadata": {
        "colab": {
          "base_uri": "https://localhost:8080/"
        },
        "id": "uOhUH5EpzyWB",
        "outputId": "58600a55-5ad5-44e9-f06b-63cf268df0d4"
      },
      "outputs": [
        {
          "data": {
            "text/plain": [
              "(15890, 21)"
            ]
          },
          "execution_count": 103,
          "metadata": {},
          "output_type": "execute_result"
        }
      ],
      "source": [
        "pred.shape"
      ]
    },
    {
      "cell_type": "code",
      "execution_count": null,
      "metadata": {
        "colab": {
          "base_uri": "https://localhost:8080/"
        },
        "id": "k_vxvyqMEo3h",
        "outputId": "28c64085-4e17-4842-bd8b-5d0a4a520fba"
      },
      "outputs": [
        {
          "data": {
            "text/plain": [
              "array([[2, 3, 3, ..., 4, 4, 4],\n",
              "       [1, 2, 2, ..., 2, 2, 2],\n",
              "       [3, 3, 3, ..., 2, 2, 2],\n",
              "       ...,\n",
              "       [1, 1, 1, ..., 1, 1, 1],\n",
              "       [2, 2, 2, ..., 2, 2, 2],\n",
              "       [0, 0, 0, ..., 0, 0, 0]])"
            ]
          },
          "execution_count": 104,
          "metadata": {},
          "output_type": "execute_result"
        }
      ],
      "source": [
        "pred"
      ]
    },
    {
      "cell_type": "code",
      "execution_count": null,
      "metadata": {
        "colab": {
          "base_uri": "https://localhost:8080/",
          "height": 317
        },
        "id": "KelslBH0EMeC",
        "outputId": "de792fc7-419a-4a83-b76c-e408a6d88bee",
        "scrolled": true
      },
      "outputs": [
        {
          "data": {
            "text/html": [
              "<div>\n",
              "<style scoped>\n",
              "    .dataframe tbody tr th:only-of-type {\n",
              "        vertical-align: middle;\n",
              "    }\n",
              "\n",
              "    .dataframe tbody tr th {\n",
              "        vertical-align: top;\n",
              "    }\n",
              "\n",
              "    .dataframe thead th {\n",
              "        text-align: right;\n",
              "    }\n",
              "</style>\n",
              "<table border=\"1\" class=\"dataframe\">\n",
              "  <thead>\n",
              "    <tr style=\"text-align: right;\">\n",
              "      <th></th>\n",
              "      <th>ID</th>\n",
              "      <th>2023-04-05</th>\n",
              "      <th>2023-04-06</th>\n",
              "      <th>2023-04-07</th>\n",
              "      <th>2023-04-08</th>\n",
              "      <th>2023-04-09</th>\n",
              "      <th>2023-04-10</th>\n",
              "      <th>2023-04-11</th>\n",
              "      <th>2023-04-12</th>\n",
              "      <th>2023-04-13</th>\n",
              "      <th>...</th>\n",
              "      <th>2023-04-16</th>\n",
              "      <th>2023-04-17</th>\n",
              "      <th>2023-04-18</th>\n",
              "      <th>2023-04-19</th>\n",
              "      <th>2023-04-20</th>\n",
              "      <th>2023-04-21</th>\n",
              "      <th>2023-04-22</th>\n",
              "      <th>2023-04-23</th>\n",
              "      <th>2023-04-24</th>\n",
              "      <th>2023-04-25</th>\n",
              "    </tr>\n",
              "  </thead>\n",
              "  <tbody>\n",
              "    <tr>\n",
              "      <th>0</th>\n",
              "      <td>0</td>\n",
              "      <td>0</td>\n",
              "      <td>0</td>\n",
              "      <td>0</td>\n",
              "      <td>0</td>\n",
              "      <td>0</td>\n",
              "      <td>0</td>\n",
              "      <td>0</td>\n",
              "      <td>0</td>\n",
              "      <td>0</td>\n",
              "      <td>...</td>\n",
              "      <td>0</td>\n",
              "      <td>0</td>\n",
              "      <td>0</td>\n",
              "      <td>0</td>\n",
              "      <td>0</td>\n",
              "      <td>0</td>\n",
              "      <td>0</td>\n",
              "      <td>0</td>\n",
              "      <td>0</td>\n",
              "      <td>0</td>\n",
              "    </tr>\n",
              "    <tr>\n",
              "      <th>1</th>\n",
              "      <td>1</td>\n",
              "      <td>0</td>\n",
              "      <td>0</td>\n",
              "      <td>0</td>\n",
              "      <td>0</td>\n",
              "      <td>0</td>\n",
              "      <td>0</td>\n",
              "      <td>0</td>\n",
              "      <td>0</td>\n",
              "      <td>0</td>\n",
              "      <td>...</td>\n",
              "      <td>0</td>\n",
              "      <td>0</td>\n",
              "      <td>0</td>\n",
              "      <td>0</td>\n",
              "      <td>0</td>\n",
              "      <td>0</td>\n",
              "      <td>0</td>\n",
              "      <td>0</td>\n",
              "      <td>0</td>\n",
              "      <td>0</td>\n",
              "    </tr>\n",
              "    <tr>\n",
              "      <th>2</th>\n",
              "      <td>2</td>\n",
              "      <td>0</td>\n",
              "      <td>0</td>\n",
              "      <td>0</td>\n",
              "      <td>0</td>\n",
              "      <td>0</td>\n",
              "      <td>0</td>\n",
              "      <td>0</td>\n",
              "      <td>0</td>\n",
              "      <td>0</td>\n",
              "      <td>...</td>\n",
              "      <td>0</td>\n",
              "      <td>0</td>\n",
              "      <td>0</td>\n",
              "      <td>0</td>\n",
              "      <td>0</td>\n",
              "      <td>0</td>\n",
              "      <td>0</td>\n",
              "      <td>0</td>\n",
              "      <td>0</td>\n",
              "      <td>0</td>\n",
              "    </tr>\n",
              "    <tr>\n",
              "      <th>3</th>\n",
              "      <td>3</td>\n",
              "      <td>0</td>\n",
              "      <td>0</td>\n",
              "      <td>0</td>\n",
              "      <td>0</td>\n",
              "      <td>0</td>\n",
              "      <td>0</td>\n",
              "      <td>0</td>\n",
              "      <td>0</td>\n",
              "      <td>0</td>\n",
              "      <td>...</td>\n",
              "      <td>0</td>\n",
              "      <td>0</td>\n",
              "      <td>0</td>\n",
              "      <td>0</td>\n",
              "      <td>0</td>\n",
              "      <td>0</td>\n",
              "      <td>0</td>\n",
              "      <td>0</td>\n",
              "      <td>0</td>\n",
              "      <td>0</td>\n",
              "    </tr>\n",
              "    <tr>\n",
              "      <th>4</th>\n",
              "      <td>4</td>\n",
              "      <td>0</td>\n",
              "      <td>0</td>\n",
              "      <td>0</td>\n",
              "      <td>0</td>\n",
              "      <td>0</td>\n",
              "      <td>0</td>\n",
              "      <td>0</td>\n",
              "      <td>0</td>\n",
              "      <td>0</td>\n",
              "      <td>...</td>\n",
              "      <td>0</td>\n",
              "      <td>0</td>\n",
              "      <td>0</td>\n",
              "      <td>0</td>\n",
              "      <td>0</td>\n",
              "      <td>0</td>\n",
              "      <td>0</td>\n",
              "      <td>0</td>\n",
              "      <td>0</td>\n",
              "      <td>0</td>\n",
              "    </tr>\n",
              "  </tbody>\n",
              "</table>\n",
              "<p>5 rows × 22 columns</p>\n",
              "</div>"
            ],
            "text/plain": [
              "   ID  2023-04-05  2023-04-06  2023-04-07  2023-04-08  2023-04-09  2023-04-10  \\\n",
              "0   0           0           0           0           0           0           0   \n",
              "1   1           0           0           0           0           0           0   \n",
              "2   2           0           0           0           0           0           0   \n",
              "3   3           0           0           0           0           0           0   \n",
              "4   4           0           0           0           0           0           0   \n",
              "\n",
              "   2023-04-11  2023-04-12  2023-04-13  ...  2023-04-16  2023-04-17  \\\n",
              "0           0           0           0  ...           0           0   \n",
              "1           0           0           0  ...           0           0   \n",
              "2           0           0           0  ...           0           0   \n",
              "3           0           0           0  ...           0           0   \n",
              "4           0           0           0  ...           0           0   \n",
              "\n",
              "   2023-04-18  2023-04-19  2023-04-20  2023-04-21  2023-04-22  2023-04-23  \\\n",
              "0           0           0           0           0           0           0   \n",
              "1           0           0           0           0           0           0   \n",
              "2           0           0           0           0           0           0   \n",
              "3           0           0           0           0           0           0   \n",
              "4           0           0           0           0           0           0   \n",
              "\n",
              "   2023-04-24  2023-04-25  \n",
              "0           0           0  \n",
              "1           0           0  \n",
              "2           0           0  \n",
              "3           0           0  \n",
              "4           0           0  \n",
              "\n",
              "[5 rows x 22 columns]"
            ]
          },
          "execution_count": 105,
          "metadata": {},
          "output_type": "execute_result"
        }
      ],
      "source": [
        "submit = pd.read_csv('./sample_submission.csv')\n",
        "submit.head()"
      ]
    },
    {
      "cell_type": "code",
      "execution_count": null,
      "metadata": {
        "colab": {
          "base_uri": "https://localhost:8080/",
          "height": 317
        },
        "id": "Tfk7OHhXEOgi",
        "outputId": "af39be3c-caa3-4689-d317-04a14610c457"
      },
      "outputs": [
        {
          "data": {
            "text/html": [
              "<div>\n",
              "<style scoped>\n",
              "    .dataframe tbody tr th:only-of-type {\n",
              "        vertical-align: middle;\n",
              "    }\n",
              "\n",
              "    .dataframe tbody tr th {\n",
              "        vertical-align: top;\n",
              "    }\n",
              "\n",
              "    .dataframe thead th {\n",
              "        text-align: right;\n",
              "    }\n",
              "</style>\n",
              "<table border=\"1\" class=\"dataframe\">\n",
              "  <thead>\n",
              "    <tr style=\"text-align: right;\">\n",
              "      <th></th>\n",
              "      <th>ID</th>\n",
              "      <th>2023-04-05</th>\n",
              "      <th>2023-04-06</th>\n",
              "      <th>2023-04-07</th>\n",
              "      <th>2023-04-08</th>\n",
              "      <th>2023-04-09</th>\n",
              "      <th>2023-04-10</th>\n",
              "      <th>2023-04-11</th>\n",
              "      <th>2023-04-12</th>\n",
              "      <th>2023-04-13</th>\n",
              "      <th>...</th>\n",
              "      <th>2023-04-16</th>\n",
              "      <th>2023-04-17</th>\n",
              "      <th>2023-04-18</th>\n",
              "      <th>2023-04-19</th>\n",
              "      <th>2023-04-20</th>\n",
              "      <th>2023-04-21</th>\n",
              "      <th>2023-04-22</th>\n",
              "      <th>2023-04-23</th>\n",
              "      <th>2023-04-24</th>\n",
              "      <th>2023-04-25</th>\n",
              "    </tr>\n",
              "  </thead>\n",
              "  <tbody>\n",
              "    <tr>\n",
              "      <th>0</th>\n",
              "      <td>0</td>\n",
              "      <td>2</td>\n",
              "      <td>3</td>\n",
              "      <td>3</td>\n",
              "      <td>3</td>\n",
              "      <td>3</td>\n",
              "      <td>4</td>\n",
              "      <td>4</td>\n",
              "      <td>4</td>\n",
              "      <td>4</td>\n",
              "      <td>...</td>\n",
              "      <td>4</td>\n",
              "      <td>4</td>\n",
              "      <td>4</td>\n",
              "      <td>4</td>\n",
              "      <td>4</td>\n",
              "      <td>4</td>\n",
              "      <td>4</td>\n",
              "      <td>4</td>\n",
              "      <td>4</td>\n",
              "      <td>4</td>\n",
              "    </tr>\n",
              "    <tr>\n",
              "      <th>1</th>\n",
              "      <td>1</td>\n",
              "      <td>1</td>\n",
              "      <td>2</td>\n",
              "      <td>2</td>\n",
              "      <td>2</td>\n",
              "      <td>2</td>\n",
              "      <td>2</td>\n",
              "      <td>2</td>\n",
              "      <td>2</td>\n",
              "      <td>2</td>\n",
              "      <td>...</td>\n",
              "      <td>2</td>\n",
              "      <td>2</td>\n",
              "      <td>2</td>\n",
              "      <td>2</td>\n",
              "      <td>2</td>\n",
              "      <td>2</td>\n",
              "      <td>2</td>\n",
              "      <td>2</td>\n",
              "      <td>2</td>\n",
              "      <td>2</td>\n",
              "    </tr>\n",
              "    <tr>\n",
              "      <th>2</th>\n",
              "      <td>2</td>\n",
              "      <td>3</td>\n",
              "      <td>3</td>\n",
              "      <td>3</td>\n",
              "      <td>3</td>\n",
              "      <td>2</td>\n",
              "      <td>3</td>\n",
              "      <td>3</td>\n",
              "      <td>3</td>\n",
              "      <td>3</td>\n",
              "      <td>...</td>\n",
              "      <td>2</td>\n",
              "      <td>2</td>\n",
              "      <td>2</td>\n",
              "      <td>2</td>\n",
              "      <td>2</td>\n",
              "      <td>2</td>\n",
              "      <td>2</td>\n",
              "      <td>2</td>\n",
              "      <td>2</td>\n",
              "      <td>2</td>\n",
              "    </tr>\n",
              "    <tr>\n",
              "      <th>3</th>\n",
              "      <td>3</td>\n",
              "      <td>5</td>\n",
              "      <td>5</td>\n",
              "      <td>5</td>\n",
              "      <td>5</td>\n",
              "      <td>4</td>\n",
              "      <td>4</td>\n",
              "      <td>4</td>\n",
              "      <td>4</td>\n",
              "      <td>4</td>\n",
              "      <td>...</td>\n",
              "      <td>3</td>\n",
              "      <td>4</td>\n",
              "      <td>4</td>\n",
              "      <td>4</td>\n",
              "      <td>4</td>\n",
              "      <td>3</td>\n",
              "      <td>3</td>\n",
              "      <td>3</td>\n",
              "      <td>3</td>\n",
              "      <td>3</td>\n",
              "    </tr>\n",
              "    <tr>\n",
              "      <th>4</th>\n",
              "      <td>4</td>\n",
              "      <td>3</td>\n",
              "      <td>3</td>\n",
              "      <td>3</td>\n",
              "      <td>3</td>\n",
              "      <td>3</td>\n",
              "      <td>4</td>\n",
              "      <td>4</td>\n",
              "      <td>4</td>\n",
              "      <td>3</td>\n",
              "      <td>...</td>\n",
              "      <td>4</td>\n",
              "      <td>4</td>\n",
              "      <td>4</td>\n",
              "      <td>4</td>\n",
              "      <td>4</td>\n",
              "      <td>4</td>\n",
              "      <td>4</td>\n",
              "      <td>4</td>\n",
              "      <td>4</td>\n",
              "      <td>4</td>\n",
              "    </tr>\n",
              "  </tbody>\n",
              "</table>\n",
              "<p>5 rows × 22 columns</p>\n",
              "</div>"
            ],
            "text/plain": [
              "   ID  2023-04-05  2023-04-06  2023-04-07  2023-04-08  2023-04-09  2023-04-10  \\\n",
              "0   0           2           3           3           3           3           4   \n",
              "1   1           1           2           2           2           2           2   \n",
              "2   2           3           3           3           3           2           3   \n",
              "3   3           5           5           5           5           4           4   \n",
              "4   4           3           3           3           3           3           4   \n",
              "\n",
              "   2023-04-11  2023-04-12  2023-04-13  ...  2023-04-16  2023-04-17  \\\n",
              "0           4           4           4  ...           4           4   \n",
              "1           2           2           2  ...           2           2   \n",
              "2           3           3           3  ...           2           2   \n",
              "3           4           4           4  ...           3           4   \n",
              "4           4           4           3  ...           4           4   \n",
              "\n",
              "   2023-04-18  2023-04-19  2023-04-20  2023-04-21  2023-04-22  2023-04-23  \\\n",
              "0           4           4           4           4           4           4   \n",
              "1           2           2           2           2           2           2   \n",
              "2           2           2           2           2           2           2   \n",
              "3           4           4           4           3           3           3   \n",
              "4           4           4           4           4           4           4   \n",
              "\n",
              "   2023-04-24  2023-04-25  \n",
              "0           4           4  \n",
              "1           2           2  \n",
              "2           2           2  \n",
              "3           3           3  \n",
              "4           4           4  \n",
              "\n",
              "[5 rows x 22 columns]"
            ]
          },
          "execution_count": 106,
          "metadata": {},
          "output_type": "execute_result"
        }
      ],
      "source": [
        "submit.iloc[:,1:] = pred\n",
        "submit.head()"
      ]
    },
    {
      "cell_type": "code",
      "execution_count": null,
      "metadata": {
        "id": "qFLtrfFREaoA"
      },
      "outputs": [],
      "source": [
        "submit.to_csv('./BiLSTM_best_param_submit.csv', index=False)"
      ]
    }
  ]
}